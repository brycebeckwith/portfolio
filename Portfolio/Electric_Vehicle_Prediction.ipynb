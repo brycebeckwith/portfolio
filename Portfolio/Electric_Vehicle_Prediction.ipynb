{
 "cells": [
  {
   "cell_type": "code",
   "execution_count": 1,
   "metadata": {
    "collapsed": false
   },
   "outputs": [
    {
     "name": "stdout",
     "output_type": "stream",
     "text": [
      "Checking whether there is an H2O instance running at http://localhost:54321..... not found.\n",
      "Attempting to start a local H2O server...\n",
      "  Java Version: java version \"1.8.0_161\"; Java(TM) SE Runtime Environment (build 1.8.0_161-b12); Java HotSpot(TM) 64-Bit Server VM (build 25.161-b12, mixed mode)\n",
      "  Starting server from /Users/bryceeb/anaconda/envs/python35/lib/python3.5/site-packages/h2o/backend/bin/h2o.jar\n",
      "  Ice root: /var/folders/8w/f1tk_t090331dvv64myq_q_m0000gn/T/tmp6trfqnqr\n",
      "  JVM stdout: /var/folders/8w/f1tk_t090331dvv64myq_q_m0000gn/T/tmp6trfqnqr/h2o_bryceeb_started_from_python.out\n",
      "  JVM stderr: /var/folders/8w/f1tk_t090331dvv64myq_q_m0000gn/T/tmp6trfqnqr/h2o_bryceeb_started_from_python.err\n",
      "  Server is running at http://127.0.0.1:54321\n",
      "Connecting to H2O server at http://127.0.0.1:54321... successful.\n",
      "Warning: Your H2O cluster version is too old (5 months and 10 days)! Please download and install the latest version from http://h2o.ai/download/\n"
     ]
    },
    {
     "data": {
      "text/html": [
       "<div style=\"overflow:auto\"><table style=\"width:50%\"><tr><td>H2O cluster uptime:</td>\n",
       "<td>02 secs</td></tr>\n",
       "<tr><td>H2O cluster timezone:</td>\n",
       "<td>America/Los_Angeles</td></tr>\n",
       "<tr><td>H2O data parsing timezone:</td>\n",
       "<td>UTC</td></tr>\n",
       "<tr><td>H2O cluster version:</td>\n",
       "<td>3.18.0.11</td></tr>\n",
       "<tr><td>H2O cluster version age:</td>\n",
       "<td>5 months and 10 days !!!</td></tr>\n",
       "<tr><td>H2O cluster name:</td>\n",
       "<td>H2O_from_python_bryceeb_spet6k</td></tr>\n",
       "<tr><td>H2O cluster total nodes:</td>\n",
       "<td>1</td></tr>\n",
       "<tr><td>H2O cluster free memory:</td>\n",
       "<td>61.33 Gb</td></tr>\n",
       "<tr><td>H2O cluster total cores:</td>\n",
       "<td>8</td></tr>\n",
       "<tr><td>H2O cluster allowed cores:</td>\n",
       "<td>8</td></tr>\n",
       "<tr><td>H2O cluster status:</td>\n",
       "<td>accepting new members, healthy</td></tr>\n",
       "<tr><td>H2O connection url:</td>\n",
       "<td>http://127.0.0.1:54321</td></tr>\n",
       "<tr><td>H2O connection proxy:</td>\n",
       "<td>None</td></tr>\n",
       "<tr><td>H2O internal security:</td>\n",
       "<td>False</td></tr>\n",
       "<tr><td>H2O API Extensions:</td>\n",
       "<td>XGBoost, Algos, AutoML, Core V3, Core V4</td></tr>\n",
       "<tr><td>Python version:</td>\n",
       "<td>3.5.2 final</td></tr></table></div>"
      ],
      "text/plain": [
       "--------------------------  ----------------------------------------\n",
       "H2O cluster uptime:         02 secs\n",
       "H2O cluster timezone:       America/Los_Angeles\n",
       "H2O data parsing timezone:  UTC\n",
       "H2O cluster version:        3.18.0.11\n",
       "H2O cluster version age:    5 months and 10 days !!!\n",
       "H2O cluster name:           H2O_from_python_bryceeb_spet6k\n",
       "H2O cluster total nodes:    1\n",
       "H2O cluster free memory:    61.33 Gb\n",
       "H2O cluster total cores:    8\n",
       "H2O cluster allowed cores:  8\n",
       "H2O cluster status:         accepting new members, healthy\n",
       "H2O connection url:         http://127.0.0.1:54321\n",
       "H2O connection proxy:\n",
       "H2O internal security:      False\n",
       "H2O API Extensions:         XGBoost, Algos, AutoML, Core V3, Core V4\n",
       "Python version:             3.5.2 final\n",
       "--------------------------  ----------------------------------------"
      ]
     },
     "metadata": {},
     "output_type": "display_data"
    }
   ],
   "source": [
    "import pandas as pd\n",
    "import numpy as np\n",
    "%matplotlib inline\n",
    "import matplotlib.pyplot as plt\n",
    "from matplotlib.pylab import rcParams\n",
    "rcParams['figure.figsize'] = 20, 6\n",
    "rcParams['font.size'] = 18.0\n",
    "import warnings\n",
    "warnings.filterwarnings(\"ignore\")\n",
    "import datetime \n",
    "import h2o\n",
    "from h2o.estimators import H2ORandomForestEstimator\n",
    "h2o.init(nthreads=-1,min_mem_size=64)"
   ]
  },
  {
   "cell_type": "code",
   "execution_count": 2,
   "metadata": {
    "collapsed": false
   },
   "outputs": [
    {
     "data": {
      "text/plain": [
       "Index(['cont_acc', 'Installation', 'ev_funct_loc', 'contract', 'premise',\n",
       "       'funct_loc', 'dvd_num', 'rate_cat', 'location_type',\n",
       "       'servicepointidnum', 'servicepoint', 'sasdate', 'meter',\n",
       "       'ChannelNumber', 'kwh_1', 'kwh_2', 'kwh_3', 'kwh_4', 'kwh_5', 'kwh_6',\n",
       "       'kwh_7', 'kwh_8', 'kwh_9', 'kwh_10', 'kwh_11', 'kwh_12', 'kwh_13',\n",
       "       'kwh_14', 'kwh_15', 'kwh_16', 'kwh_17', 'kwh_18', 'kwh_19', 'kwh_20',\n",
       "       'kwh_21', 'kwh_22', 'kwh_23', 'kwh_24', 'kwh_day', 'mth', 'match'],\n",
       "      dtype='object')"
      ]
     },
     "execution_count": 2,
     "metadata": {},
     "output_type": "execute_result"
    }
   ],
   "source": [
    "df = pd.read_csv('ev_premise_loads.csv')\n",
    "df.columns"
   ]
  },
  {
   "cell_type": "code",
   "execution_count": 31,
   "metadata": {
    "collapsed": false
   },
   "outputs": [
    {
     "data": {
      "text/html": [
       "<div>\n",
       "<style>\n",
       "    .dataframe thead tr:only-child th {\n",
       "        text-align: right;\n",
       "    }\n",
       "\n",
       "    .dataframe thead th {\n",
       "        text-align: left;\n",
       "    }\n",
       "\n",
       "    .dataframe tbody tr th {\n",
       "        vertical-align: top;\n",
       "    }\n",
       "</style>\n",
       "<table border=\"1\" class=\"dataframe\">\n",
       "  <thead>\n",
       "    <tr style=\"text-align: right;\">\n",
       "      <th></th>\n",
       "      <th>cont_acc</th>\n",
       "      <th>Installation</th>\n",
       "      <th>ev_funct_loc</th>\n",
       "      <th>contract</th>\n",
       "      <th>premise</th>\n",
       "      <th>funct_loc</th>\n",
       "      <th>dvd_num</th>\n",
       "      <th>rate_cat</th>\n",
       "      <th>location_type</th>\n",
       "      <th>servicepointidnum</th>\n",
       "      <th>...</th>\n",
       "      <th>kwh_19</th>\n",
       "      <th>kwh_20</th>\n",
       "      <th>kwh_21</th>\n",
       "      <th>kwh_22</th>\n",
       "      <th>kwh_23</th>\n",
       "      <th>kwh_24</th>\n",
       "      <th>kwh_day</th>\n",
       "      <th>mth</th>\n",
       "      <th>match</th>\n",
       "      <th>Date</th>\n",
       "    </tr>\n",
       "  </thead>\n",
       "  <tbody>\n",
       "    <tr>\n",
       "      <th>0</th>\n",
       "      <td>116036</td>\n",
       "      <td>416049</td>\n",
       "      <td>2573644</td>\n",
       "      <td>390631</td>\n",
       "      <td>NaN</td>\n",
       "      <td>1100947</td>\n",
       "      <td>NaN</td>\n",
       "      <td>RSG</td>\n",
       "      <td>evmeter</td>\n",
       "      <td>2573644</td>\n",
       "      <td>...</td>\n",
       "      <td>0.0000</td>\n",
       "      <td>0.0000</td>\n",
       "      <td>0.0000</td>\n",
       "      <td>0.0000</td>\n",
       "      <td>0.0000</td>\n",
       "      <td>0.0000</td>\n",
       "      <td>0.0000</td>\n",
       "      <td>5.0</td>\n",
       "      <td>NaN</td>\n",
       "      <td>2011-05-20</td>\n",
       "    </tr>\n",
       "    <tr>\n",
       "      <th>1</th>\n",
       "      <td>116036</td>\n",
       "      <td>416049</td>\n",
       "      <td>2573644</td>\n",
       "      <td>390631</td>\n",
       "      <td>NaN</td>\n",
       "      <td>1100947</td>\n",
       "      <td>NaN</td>\n",
       "      <td>RSG</td>\n",
       "      <td>premise</td>\n",
       "      <td>1100947</td>\n",
       "      <td>...</td>\n",
       "      <td>2.9040</td>\n",
       "      <td>1.1712</td>\n",
       "      <td>0.4740</td>\n",
       "      <td>0.4452</td>\n",
       "      <td>0.5124</td>\n",
       "      <td>0.3516</td>\n",
       "      <td>31.1316</td>\n",
       "      <td>5.0</td>\n",
       "      <td>NaN</td>\n",
       "      <td>2011-05-20</td>\n",
       "    </tr>\n",
       "    <tr>\n",
       "      <th>2</th>\n",
       "      <td>116036</td>\n",
       "      <td>416049</td>\n",
       "      <td>2573644</td>\n",
       "      <td>390631</td>\n",
       "      <td>NaN</td>\n",
       "      <td>1100947</td>\n",
       "      <td>NaN</td>\n",
       "      <td>RSG</td>\n",
       "      <td>evmeter</td>\n",
       "      <td>2573644</td>\n",
       "      <td>...</td>\n",
       "      <td>0.0000</td>\n",
       "      <td>0.0000</td>\n",
       "      <td>3.1032</td>\n",
       "      <td>2.0904</td>\n",
       "      <td>0.0000</td>\n",
       "      <td>0.0000</td>\n",
       "      <td>5.1936</td>\n",
       "      <td>5.0</td>\n",
       "      <td>NaN</td>\n",
       "      <td>2011-05-21</td>\n",
       "    </tr>\n",
       "    <tr>\n",
       "      <th>3</th>\n",
       "      <td>116036</td>\n",
       "      <td>416049</td>\n",
       "      <td>2573644</td>\n",
       "      <td>390631</td>\n",
       "      <td>NaN</td>\n",
       "      <td>1100947</td>\n",
       "      <td>NaN</td>\n",
       "      <td>RSG</td>\n",
       "      <td>premise</td>\n",
       "      <td>1100947</td>\n",
       "      <td>...</td>\n",
       "      <td>0.9312</td>\n",
       "      <td>0.5844</td>\n",
       "      <td>3.6192</td>\n",
       "      <td>2.6760</td>\n",
       "      <td>0.5436</td>\n",
       "      <td>0.5844</td>\n",
       "      <td>31.7484</td>\n",
       "      <td>5.0</td>\n",
       "      <td>NaN</td>\n",
       "      <td>2011-05-21</td>\n",
       "    </tr>\n",
       "    <tr>\n",
       "      <th>4</th>\n",
       "      <td>116036</td>\n",
       "      <td>416049</td>\n",
       "      <td>2573644</td>\n",
       "      <td>390631</td>\n",
       "      <td>NaN</td>\n",
       "      <td>1100947</td>\n",
       "      <td>NaN</td>\n",
       "      <td>RSG</td>\n",
       "      <td>evmeter</td>\n",
       "      <td>2573644</td>\n",
       "      <td>...</td>\n",
       "      <td>0.0000</td>\n",
       "      <td>0.0000</td>\n",
       "      <td>0.0000</td>\n",
       "      <td>0.0000</td>\n",
       "      <td>0.0000</td>\n",
       "      <td>0.0000</td>\n",
       "      <td>0.0000</td>\n",
       "      <td>5.0</td>\n",
       "      <td>NaN</td>\n",
       "      <td>2011-05-22</td>\n",
       "    </tr>\n",
       "  </tbody>\n",
       "</table>\n",
       "<p>5 rows × 42 columns</p>\n",
       "</div>"
      ],
      "text/plain": [
       "   cont_acc  Installation  ev_funct_loc  contract  premise  funct_loc  \\\n",
       "0    116036        416049       2573644    390631      NaN    1100947   \n",
       "1    116036        416049       2573644    390631      NaN    1100947   \n",
       "2    116036        416049       2573644    390631      NaN    1100947   \n",
       "3    116036        416049       2573644    390631      NaN    1100947   \n",
       "4    116036        416049       2573644    390631      NaN    1100947   \n",
       "\n",
       "   dvd_num rate_cat location_type  servicepointidnum    ...      kwh_19  \\\n",
       "0      NaN      RSG       evmeter            2573644    ...      0.0000   \n",
       "1      NaN      RSG       premise            1100947    ...      2.9040   \n",
       "2      NaN      RSG       evmeter            2573644    ...      0.0000   \n",
       "3      NaN      RSG       premise            1100947    ...      0.9312   \n",
       "4      NaN      RSG       evmeter            2573644    ...      0.0000   \n",
       "\n",
       "   kwh_20  kwh_21  kwh_22  kwh_23  kwh_24  kwh_day  mth  match       Date  \n",
       "0  0.0000  0.0000  0.0000  0.0000  0.0000   0.0000  5.0    NaN 2011-05-20  \n",
       "1  1.1712  0.4740  0.4452  0.5124  0.3516  31.1316  5.0    NaN 2011-05-20  \n",
       "2  0.0000  3.1032  2.0904  0.0000  0.0000   5.1936  5.0    NaN 2011-05-21  \n",
       "3  0.5844  3.6192  2.6760  0.5436  0.5844  31.7484  5.0    NaN 2011-05-21  \n",
       "4  0.0000  0.0000  0.0000  0.0000  0.0000   0.0000  5.0    NaN 2011-05-22  \n",
       "\n",
       "[5 rows x 42 columns]"
      ]
     },
     "execution_count": 31,
     "metadata": {},
     "output_type": "execute_result"
    }
   ],
   "source": [
    "df.head()"
   ]
  },
  {
   "cell_type": "code",
   "execution_count": 3,
   "metadata": {
    "collapsed": false
   },
   "outputs": [
    {
     "data": {
      "text/plain": [
       "78"
      ]
     },
     "execution_count": 3,
     "metadata": {},
     "output_type": "execute_result"
    }
   ],
   "source": [
    "len(df.servicepoint.unique())"
   ]
  },
  {
   "cell_type": "code",
   "execution_count": 4,
   "metadata": {
    "collapsed": false
   },
   "outputs": [
    {
     "data": {
      "text/plain": [
       "array([ nan,   0.,   1.])"
      ]
     },
     "execution_count": 4,
     "metadata": {},
     "output_type": "execute_result"
    }
   ],
   "source": [
    "df.match.unique() # 1 = has electric vehicle"
   ]
  },
  {
   "cell_type": "code",
   "execution_count": 5,
   "metadata": {
    "collapsed": false
   },
   "outputs": [
    {
     "data": {
      "text/plain": [
       "<matplotlib.axes._subplots.AxesSubplot at 0x1199b0940>"
      ]
     },
     "execution_count": 5,
     "metadata": {},
     "output_type": "execute_result"
    },
    {
     "data": {
      "image/png": "[encoded data removed]",
      "text/plain": [
       "<matplotlib.figure.Figure at 0x119997eb8>"
      ]
     },
     "metadata": {},
     "output_type": "display_data"
    }
   ],
   "source": [
    "df.groupby(['sasdate'])[['servicepoint']].count().plot()"
   ]
  },
  {
   "cell_type": "code",
   "execution_count": 6,
   "metadata": {
    "collapsed": false
   },
   "outputs": [],
   "source": [
    "df['Date'] = pd.to_datetime(df['sasdate'])"
   ]
  },
  {
   "cell_type": "code",
   "execution_count": 7,
   "metadata": {
    "collapsed": false
   },
   "outputs": [],
   "source": [
    "ev = df.groupby('servicepoint').apply(lambda x: x.set_index('Date').resample('1D').first())[['kwh_1', 'kwh_2', 'kwh_3', 'kwh_4', 'kwh_5', 'kwh_6',\n",
    "       'kwh_7', 'kwh_8', 'kwh_9', 'kwh_10', 'kwh_11', 'kwh_12', 'kwh_13',\n",
    "       'kwh_14', 'kwh_15', 'kwh_16', 'kwh_17', 'kwh_18', 'kwh_19', 'kwh_20',\n",
    "       'kwh_21', 'kwh_22', 'kwh_23', 'kwh_24', 'kwh_day']]"
   ]
  },
  {
   "cell_type": "code",
   "execution_count": 8,
   "metadata": {
    "collapsed": false
   },
   "outputs": [],
   "source": [
    "ev_avg = ev.groupby(level=0).apply(lambda x: x.shift().rolling(min_periods=1,window=90).mean()).reset_index()"
   ]
  },
  {
   "cell_type": "code",
   "execution_count": 9,
   "metadata": {
    "collapsed": false
   },
   "outputs": [],
   "source": [
    "ev_avg_most_recent = ev_avg.loc[ev_avg.groupby('servicepoint').Date.idxmax(),:]"
   ]
  },
  {
   "cell_type": "code",
   "execution_count": 32,
   "metadata": {
    "collapsed": false
   },
   "outputs": [
    {
     "data": {
      "text/html": [
       "<div>\n",
       "<style>\n",
       "    .dataframe thead tr:only-child th {\n",
       "        text-align: right;\n",
       "    }\n",
       "\n",
       "    .dataframe thead th {\n",
       "        text-align: left;\n",
       "    }\n",
       "\n",
       "    .dataframe tbody tr th {\n",
       "        vertical-align: top;\n",
       "    }\n",
       "</style>\n",
       "<table border=\"1\" class=\"dataframe\">\n",
       "  <thead>\n",
       "    <tr style=\"text-align: right;\">\n",
       "      <th></th>\n",
       "      <th>servicepoint</th>\n",
       "      <th>Date</th>\n",
       "      <th>kwh_1</th>\n",
       "      <th>kwh_2</th>\n",
       "      <th>kwh_3</th>\n",
       "      <th>kwh_4</th>\n",
       "      <th>kwh_5</th>\n",
       "      <th>kwh_6</th>\n",
       "      <th>kwh_7</th>\n",
       "      <th>kwh_8</th>\n",
       "      <th>...</th>\n",
       "      <th>kwh_16</th>\n",
       "      <th>kwh_17</th>\n",
       "      <th>kwh_18</th>\n",
       "      <th>kwh_19</th>\n",
       "      <th>kwh_20</th>\n",
       "      <th>kwh_21</th>\n",
       "      <th>kwh_22</th>\n",
       "      <th>kwh_23</th>\n",
       "      <th>kwh_24</th>\n",
       "      <th>kwh_day</th>\n",
       "    </tr>\n",
       "  </thead>\n",
       "  <tbody>\n",
       "    <tr>\n",
       "      <th>7</th>\n",
       "      <td>1003963</td>\n",
       "      <td>2012-12-31</td>\n",
       "      <td>3.267943</td>\n",
       "      <td>3.356743</td>\n",
       "      <td>2.571086</td>\n",
       "      <td>2.318229</td>\n",
       "      <td>1.611943</td>\n",
       "      <td>1.337486</td>\n",
       "      <td>1.369886</td>\n",
       "      <td>1.399886</td>\n",
       "      <td>...</td>\n",
       "      <td>1.960457</td>\n",
       "      <td>2.090743</td>\n",
       "      <td>3.062743</td>\n",
       "      <td>4.143086</td>\n",
       "      <td>4.860343</td>\n",
       "      <td>3.040457</td>\n",
       "      <td>3.652286</td>\n",
       "      <td>4.151829</td>\n",
       "      <td>3.475029</td>\n",
       "      <td>64.982400</td>\n",
       "    </tr>\n",
       "    <tr>\n",
       "      <th>521</th>\n",
       "      <td>1006861</td>\n",
       "      <td>2012-12-31</td>\n",
       "      <td>1.108440</td>\n",
       "      <td>1.240973</td>\n",
       "      <td>0.741233</td>\n",
       "      <td>0.230160</td>\n",
       "      <td>0.184587</td>\n",
       "      <td>0.288253</td>\n",
       "      <td>0.347600</td>\n",
       "      <td>0.386400</td>\n",
       "      <td>...</td>\n",
       "      <td>0.266160</td>\n",
       "      <td>0.319200</td>\n",
       "      <td>0.401960</td>\n",
       "      <td>0.436667</td>\n",
       "      <td>0.402840</td>\n",
       "      <td>0.354493</td>\n",
       "      <td>0.290493</td>\n",
       "      <td>0.294067</td>\n",
       "      <td>0.196040</td>\n",
       "      <td>9.556807</td>\n",
       "    </tr>\n",
       "    <tr>\n",
       "      <th>1011</th>\n",
       "      <td>1009735</td>\n",
       "      <td>2012-12-31</td>\n",
       "      <td>3.862533</td>\n",
       "      <td>3.618467</td>\n",
       "      <td>3.232580</td>\n",
       "      <td>2.297053</td>\n",
       "      <td>1.033600</td>\n",
       "      <td>0.729173</td>\n",
       "      <td>0.769627</td>\n",
       "      <td>1.203227</td>\n",
       "      <td>...</td>\n",
       "      <td>1.771027</td>\n",
       "      <td>1.279173</td>\n",
       "      <td>1.302667</td>\n",
       "      <td>1.673560</td>\n",
       "      <td>1.801933</td>\n",
       "      <td>2.013600</td>\n",
       "      <td>1.909547</td>\n",
       "      <td>1.779920</td>\n",
       "      <td>1.588987</td>\n",
       "      <td>43.284673</td>\n",
       "    </tr>\n",
       "    <tr>\n",
       "      <th>1019</th>\n",
       "      <td>1046635</td>\n",
       "      <td>2012-12-31</td>\n",
       "      <td>2.705829</td>\n",
       "      <td>2.188114</td>\n",
       "      <td>1.821771</td>\n",
       "      <td>1.168629</td>\n",
       "      <td>1.283143</td>\n",
       "      <td>1.153029</td>\n",
       "      <td>2.083886</td>\n",
       "      <td>1.220571</td>\n",
       "      <td>...</td>\n",
       "      <td>1.085143</td>\n",
       "      <td>1.219371</td>\n",
       "      <td>1.314514</td>\n",
       "      <td>1.396114</td>\n",
       "      <td>1.367314</td>\n",
       "      <td>2.698114</td>\n",
       "      <td>3.584229</td>\n",
       "      <td>3.694800</td>\n",
       "      <td>3.049886</td>\n",
       "      <td>44.726400</td>\n",
       "    </tr>\n",
       "    <tr>\n",
       "      <th>1220</th>\n",
       "      <td>1086803</td>\n",
       "      <td>2012-12-31</td>\n",
       "      <td>0.524867</td>\n",
       "      <td>1.478347</td>\n",
       "      <td>2.709680</td>\n",
       "      <td>3.225960</td>\n",
       "      <td>2.687120</td>\n",
       "      <td>0.843227</td>\n",
       "      <td>0.753587</td>\n",
       "      <td>0.551160</td>\n",
       "      <td>...</td>\n",
       "      <td>0.947253</td>\n",
       "      <td>0.977480</td>\n",
       "      <td>1.208160</td>\n",
       "      <td>1.261227</td>\n",
       "      <td>1.218547</td>\n",
       "      <td>1.092640</td>\n",
       "      <td>0.910373</td>\n",
       "      <td>0.534893</td>\n",
       "      <td>0.384680</td>\n",
       "      <td>25.372853</td>\n",
       "    </tr>\n",
       "  </tbody>\n",
       "</table>\n",
       "<p>5 rows × 27 columns</p>\n",
       "</div>"
      ],
      "text/plain": [
       "      servicepoint       Date     kwh_1     kwh_2     kwh_3     kwh_4  \\\n",
       "7          1003963 2012-12-31  3.267943  3.356743  2.571086  2.318229   \n",
       "521        1006861 2012-12-31  1.108440  1.240973  0.741233  0.230160   \n",
       "1011       1009735 2012-12-31  3.862533  3.618467  3.232580  2.297053   \n",
       "1019       1046635 2012-12-31  2.705829  2.188114  1.821771  1.168629   \n",
       "1220       1086803 2012-12-31  0.524867  1.478347  2.709680  3.225960   \n",
       "\n",
       "         kwh_5     kwh_6     kwh_7     kwh_8    ...        kwh_16    kwh_17  \\\n",
       "7     1.611943  1.337486  1.369886  1.399886    ...      1.960457  2.090743   \n",
       "521   0.184587  0.288253  0.347600  0.386400    ...      0.266160  0.319200   \n",
       "1011  1.033600  0.729173  0.769627  1.203227    ...      1.771027  1.279173   \n",
       "1019  1.283143  1.153029  2.083886  1.220571    ...      1.085143  1.219371   \n",
       "1220  2.687120  0.843227  0.753587  0.551160    ...      0.947253  0.977480   \n",
       "\n",
       "        kwh_18    kwh_19    kwh_20    kwh_21    kwh_22    kwh_23    kwh_24  \\\n",
       "7     3.062743  4.143086  4.860343  3.040457  3.652286  4.151829  3.475029   \n",
       "521   0.401960  0.436667  0.402840  0.354493  0.290493  0.294067  0.196040   \n",
       "1011  1.302667  1.673560  1.801933  2.013600  1.909547  1.779920  1.588987   \n",
       "1019  1.314514  1.396114  1.367314  2.698114  3.584229  3.694800  3.049886   \n",
       "1220  1.208160  1.261227  1.218547  1.092640  0.910373  0.534893  0.384680   \n",
       "\n",
       "        kwh_day  \n",
       "7     64.982400  \n",
       "521    9.556807  \n",
       "1011  43.284673  \n",
       "1019  44.726400  \n",
       "1220  25.372853  \n",
       "\n",
       "[5 rows x 27 columns]"
      ]
     },
     "execution_count": 32,
     "metadata": {},
     "output_type": "execute_result"
    }
   ],
   "source": [
    "ev_avg_most_recent .head()"
   ]
  },
  {
   "cell_type": "code",
   "execution_count": 10,
   "metadata": {
    "collapsed": false
   },
   "outputs": [
    {
     "data": {
      "text/plain": [
       "44"
      ]
     },
     "execution_count": 10,
     "metadata": {},
     "output_type": "execute_result"
    }
   ],
   "source": [
    "has_ev = df.groupby(['servicepoint', 'match'])[['sasdate']].count().reset_index()\n",
    "len(df.groupby(['servicepoint', 'match'])[['servicepoint']].count())"
   ]
  },
  {
   "cell_type": "code",
   "execution_count": 11,
   "metadata": {
    "collapsed": false
   },
   "outputs": [
    {
     "data": {
      "text/plain": [
       "78"
      ]
     },
     "execution_count": 11,
     "metadata": {},
     "output_type": "execute_result"
    }
   ],
   "source": [
    "len(ev_avg_most_recent)"
   ]
  },
  {
   "cell_type": "code",
   "execution_count": 12,
   "metadata": {
    "collapsed": false
   },
   "outputs": [],
   "source": [
    "has_ev = has_ev[['servicepoint','match']]"
   ]
  },
  {
   "cell_type": "code",
   "execution_count": 13,
   "metadata": {
    "collapsed": false
   },
   "outputs": [],
   "source": [
    "has_ev = has_ev[has_ev.match == 1]"
   ]
  },
  {
   "cell_type": "code",
   "execution_count": 14,
   "metadata": {
    "collapsed": false
   },
   "outputs": [
    {
     "data": {
      "text/html": [
       "<div>\n",
       "<style>\n",
       "    .dataframe thead tr:only-child th {\n",
       "        text-align: right;\n",
       "    }\n",
       "\n",
       "    .dataframe thead th {\n",
       "        text-align: left;\n",
       "    }\n",
       "\n",
       "    .dataframe tbody tr th {\n",
       "        vertical-align: top;\n",
       "    }\n",
       "</style>\n",
       "<table border=\"1\" class=\"dataframe\">\n",
       "  <thead>\n",
       "    <tr style=\"text-align: right;\">\n",
       "      <th></th>\n",
       "      <th>servicepoint</th>\n",
       "      <th>match</th>\n",
       "    </tr>\n",
       "  </thead>\n",
       "  <tbody>\n",
       "    <tr>\n",
       "      <th>0</th>\n",
       "      <td>1006861</td>\n",
       "      <td>1.0</td>\n",
       "    </tr>\n",
       "  </tbody>\n",
       "</table>\n",
       "</div>"
      ],
      "text/plain": [
       "   servicepoint  match\n",
       "0       1006861    1.0"
      ]
     },
     "execution_count": 14,
     "metadata": {},
     "output_type": "execute_result"
    }
   ],
   "source": [
    "has_ev[:1]"
   ]
  },
  {
   "cell_type": "code",
   "execution_count": 15,
   "metadata": {
    "collapsed": false
   },
   "outputs": [
    {
     "data": {
      "text/html": [
       "<div>\n",
       "<style>\n",
       "    .dataframe thead tr:only-child th {\n",
       "        text-align: right;\n",
       "    }\n",
       "\n",
       "    .dataframe thead th {\n",
       "        text-align: left;\n",
       "    }\n",
       "\n",
       "    .dataframe tbody tr th {\n",
       "        vertical-align: top;\n",
       "    }\n",
       "</style>\n",
       "<table border=\"1\" class=\"dataframe\">\n",
       "  <thead>\n",
       "    <tr style=\"text-align: right;\">\n",
       "      <th></th>\n",
       "      <th>servicepoint</th>\n",
       "      <th>Date</th>\n",
       "      <th>kwh_1</th>\n",
       "      <th>kwh_2</th>\n",
       "      <th>kwh_3</th>\n",
       "      <th>kwh_4</th>\n",
       "      <th>kwh_5</th>\n",
       "      <th>kwh_6</th>\n",
       "      <th>kwh_7</th>\n",
       "      <th>kwh_8</th>\n",
       "      <th>...</th>\n",
       "      <th>kwh_16</th>\n",
       "      <th>kwh_17</th>\n",
       "      <th>kwh_18</th>\n",
       "      <th>kwh_19</th>\n",
       "      <th>kwh_20</th>\n",
       "      <th>kwh_21</th>\n",
       "      <th>kwh_22</th>\n",
       "      <th>kwh_23</th>\n",
       "      <th>kwh_24</th>\n",
       "      <th>kwh_day</th>\n",
       "    </tr>\n",
       "  </thead>\n",
       "  <tbody>\n",
       "    <tr>\n",
       "      <th>7</th>\n",
       "      <td>1003963</td>\n",
       "      <td>2012-12-31</td>\n",
       "      <td>3.267943</td>\n",
       "      <td>3.356743</td>\n",
       "      <td>2.571086</td>\n",
       "      <td>2.318229</td>\n",
       "      <td>1.611943</td>\n",
       "      <td>1.337486</td>\n",
       "      <td>1.369886</td>\n",
       "      <td>1.399886</td>\n",
       "      <td>...</td>\n",
       "      <td>1.960457</td>\n",
       "      <td>2.090743</td>\n",
       "      <td>3.062743</td>\n",
       "      <td>4.143086</td>\n",
       "      <td>4.860343</td>\n",
       "      <td>3.040457</td>\n",
       "      <td>3.652286</td>\n",
       "      <td>4.151829</td>\n",
       "      <td>3.475029</td>\n",
       "      <td>64.9824</td>\n",
       "    </tr>\n",
       "  </tbody>\n",
       "</table>\n",
       "<p>1 rows × 27 columns</p>\n",
       "</div>"
      ],
      "text/plain": [
       "   servicepoint       Date     kwh_1     kwh_2     kwh_3     kwh_4     kwh_5  \\\n",
       "7       1003963 2012-12-31  3.267943  3.356743  2.571086  2.318229  1.611943   \n",
       "\n",
       "      kwh_6     kwh_7     kwh_8   ...       kwh_16    kwh_17    kwh_18  \\\n",
       "7  1.337486  1.369886  1.399886   ...     1.960457  2.090743  3.062743   \n",
       "\n",
       "     kwh_19    kwh_20    kwh_21    kwh_22    kwh_23    kwh_24  kwh_day  \n",
       "7  4.143086  4.860343  3.040457  3.652286  4.151829  3.475029  64.9824  \n",
       "\n",
       "[1 rows x 27 columns]"
      ]
     },
     "execution_count": 15,
     "metadata": {},
     "output_type": "execute_result"
    }
   ],
   "source": [
    "ev_avg_most_recent[:1]"
   ]
  },
  {
   "cell_type": "code",
   "execution_count": 16,
   "metadata": {
    "collapsed": false
   },
   "outputs": [],
   "source": [
    "ev_pred_df = pd.merge(ev_avg_most_recent, has_ev, how = 'left', on ='servicepoint')"
   ]
  },
  {
   "cell_type": "code",
   "execution_count": 17,
   "metadata": {
    "collapsed": false
   },
   "outputs": [],
   "source": [
    "ev_pred_df = ev_pred_df.fillna(0)"
   ]
  },
  {
   "cell_type": "code",
   "execution_count": 18,
   "metadata": {
    "collapsed": true
   },
   "outputs": [],
   "source": [
    "ev_pred_df['overnight_avg'] = ev_pred_df[['kwh_23', 'kwh_24', 'kwh_1', 'kwh_2', 'kwh_3']].mean(axis=1)"
   ]
  },
  {
   "cell_type": "code",
   "execution_count": 19,
   "metadata": {
    "collapsed": false
   },
   "outputs": [
    {
     "data": {
      "text/plain": [
       "Index(['servicepoint', 'Date', 'kwh_1', 'kwh_2', 'kwh_3', 'kwh_4', 'kwh_5',\n",
       "       'kwh_6', 'kwh_7', 'kwh_8', 'kwh_9', 'kwh_10', 'kwh_11', 'kwh_12',\n",
       "       'kwh_13', 'kwh_14', 'kwh_15', 'kwh_16', 'kwh_17', 'kwh_18', 'kwh_19',\n",
       "       'kwh_20', 'kwh_21', 'kwh_22', 'kwh_23', 'kwh_24', 'kwh_day', 'match',\n",
       "       'overnight_avg'],\n",
       "      dtype='object')"
      ]
     },
     "execution_count": 19,
     "metadata": {},
     "output_type": "execute_result"
    }
   ],
   "source": [
    "ev_pred_df.columns"
   ]
  },
  {
   "cell_type": "code",
   "execution_count": 33,
   "metadata": {
    "collapsed": false
   },
   "outputs": [
    {
     "data": {
      "text/html": [
       "<div>\n",
       "<style>\n",
       "    .dataframe thead tr:only-child th {\n",
       "        text-align: right;\n",
       "    }\n",
       "\n",
       "    .dataframe thead th {\n",
       "        text-align: left;\n",
       "    }\n",
       "\n",
       "    .dataframe tbody tr th {\n",
       "        vertical-align: top;\n",
       "    }\n",
       "</style>\n",
       "<table border=\"1\" class=\"dataframe\">\n",
       "  <thead>\n",
       "    <tr style=\"text-align: right;\">\n",
       "      <th></th>\n",
       "      <th>servicepoint</th>\n",
       "      <th>Date</th>\n",
       "      <th>kwh_1</th>\n",
       "      <th>kwh_2</th>\n",
       "      <th>kwh_3</th>\n",
       "      <th>kwh_4</th>\n",
       "      <th>kwh_5</th>\n",
       "      <th>kwh_6</th>\n",
       "      <th>kwh_7</th>\n",
       "      <th>kwh_8</th>\n",
       "      <th>...</th>\n",
       "      <th>kwh_18</th>\n",
       "      <th>kwh_19</th>\n",
       "      <th>kwh_20</th>\n",
       "      <th>kwh_21</th>\n",
       "      <th>kwh_22</th>\n",
       "      <th>kwh_23</th>\n",
       "      <th>kwh_24</th>\n",
       "      <th>kwh_day</th>\n",
       "      <th>match</th>\n",
       "      <th>overnight_avg</th>\n",
       "    </tr>\n",
       "  </thead>\n",
       "  <tbody>\n",
       "    <tr>\n",
       "      <th>0</th>\n",
       "      <td>1003963</td>\n",
       "      <td>2012-12-31</td>\n",
       "      <td>3.267943</td>\n",
       "      <td>3.356743</td>\n",
       "      <td>2.571086</td>\n",
       "      <td>2.318229</td>\n",
       "      <td>1.611943</td>\n",
       "      <td>1.337486</td>\n",
       "      <td>1.369886</td>\n",
       "      <td>1.399886</td>\n",
       "      <td>...</td>\n",
       "      <td>3.062743</td>\n",
       "      <td>4.143086</td>\n",
       "      <td>4.860343</td>\n",
       "      <td>3.040457</td>\n",
       "      <td>3.652286</td>\n",
       "      <td>4.151829</td>\n",
       "      <td>3.475029</td>\n",
       "      <td>64.982400</td>\n",
       "      <td>0.0</td>\n",
       "      <td>3.364526</td>\n",
       "    </tr>\n",
       "    <tr>\n",
       "      <th>1</th>\n",
       "      <td>1006861</td>\n",
       "      <td>2012-12-31</td>\n",
       "      <td>1.108440</td>\n",
       "      <td>1.240973</td>\n",
       "      <td>0.741233</td>\n",
       "      <td>0.230160</td>\n",
       "      <td>0.184587</td>\n",
       "      <td>0.288253</td>\n",
       "      <td>0.347600</td>\n",
       "      <td>0.386400</td>\n",
       "      <td>...</td>\n",
       "      <td>0.401960</td>\n",
       "      <td>0.436667</td>\n",
       "      <td>0.402840</td>\n",
       "      <td>0.354493</td>\n",
       "      <td>0.290493</td>\n",
       "      <td>0.294067</td>\n",
       "      <td>0.196040</td>\n",
       "      <td>9.556807</td>\n",
       "      <td>1.0</td>\n",
       "      <td>0.716151</td>\n",
       "    </tr>\n",
       "    <tr>\n",
       "      <th>2</th>\n",
       "      <td>1009735</td>\n",
       "      <td>2012-12-31</td>\n",
       "      <td>3.862533</td>\n",
       "      <td>3.618467</td>\n",
       "      <td>3.232580</td>\n",
       "      <td>2.297053</td>\n",
       "      <td>1.033600</td>\n",
       "      <td>0.729173</td>\n",
       "      <td>0.769627</td>\n",
       "      <td>1.203227</td>\n",
       "      <td>...</td>\n",
       "      <td>1.302667</td>\n",
       "      <td>1.673560</td>\n",
       "      <td>1.801933</td>\n",
       "      <td>2.013600</td>\n",
       "      <td>1.909547</td>\n",
       "      <td>1.779920</td>\n",
       "      <td>1.588987</td>\n",
       "      <td>43.284673</td>\n",
       "      <td>1.0</td>\n",
       "      <td>2.816497</td>\n",
       "    </tr>\n",
       "    <tr>\n",
       "      <th>3</th>\n",
       "      <td>1046635</td>\n",
       "      <td>2012-12-31</td>\n",
       "      <td>2.705829</td>\n",
       "      <td>2.188114</td>\n",
       "      <td>1.821771</td>\n",
       "      <td>1.168629</td>\n",
       "      <td>1.283143</td>\n",
       "      <td>1.153029</td>\n",
       "      <td>2.083886</td>\n",
       "      <td>1.220571</td>\n",
       "      <td>...</td>\n",
       "      <td>1.314514</td>\n",
       "      <td>1.396114</td>\n",
       "      <td>1.367314</td>\n",
       "      <td>2.698114</td>\n",
       "      <td>3.584229</td>\n",
       "      <td>3.694800</td>\n",
       "      <td>3.049886</td>\n",
       "      <td>44.726400</td>\n",
       "      <td>0.0</td>\n",
       "      <td>2.692080</td>\n",
       "    </tr>\n",
       "    <tr>\n",
       "      <th>4</th>\n",
       "      <td>1086803</td>\n",
       "      <td>2012-12-31</td>\n",
       "      <td>0.524867</td>\n",
       "      <td>1.478347</td>\n",
       "      <td>2.709680</td>\n",
       "      <td>3.225960</td>\n",
       "      <td>2.687120</td>\n",
       "      <td>0.843227</td>\n",
       "      <td>0.753587</td>\n",
       "      <td>0.551160</td>\n",
       "      <td>...</td>\n",
       "      <td>1.208160</td>\n",
       "      <td>1.261227</td>\n",
       "      <td>1.218547</td>\n",
       "      <td>1.092640</td>\n",
       "      <td>0.910373</td>\n",
       "      <td>0.534893</td>\n",
       "      <td>0.384680</td>\n",
       "      <td>25.372853</td>\n",
       "      <td>0.0</td>\n",
       "      <td>1.126493</td>\n",
       "    </tr>\n",
       "  </tbody>\n",
       "</table>\n",
       "<p>5 rows × 29 columns</p>\n",
       "</div>"
      ],
      "text/plain": [
       "   servicepoint       Date     kwh_1     kwh_2     kwh_3     kwh_4     kwh_5  \\\n",
       "0       1003963 2012-12-31  3.267943  3.356743  2.571086  2.318229  1.611943   \n",
       "1       1006861 2012-12-31  1.108440  1.240973  0.741233  0.230160  0.184587   \n",
       "2       1009735 2012-12-31  3.862533  3.618467  3.232580  2.297053  1.033600   \n",
       "3       1046635 2012-12-31  2.705829  2.188114  1.821771  1.168629  1.283143   \n",
       "4       1086803 2012-12-31  0.524867  1.478347  2.709680  3.225960  2.687120   \n",
       "\n",
       "      kwh_6     kwh_7     kwh_8      ...          kwh_18    kwh_19    kwh_20  \\\n",
       "0  1.337486  1.369886  1.399886      ...        3.062743  4.143086  4.860343   \n",
       "1  0.288253  0.347600  0.386400      ...        0.401960  0.436667  0.402840   \n",
       "2  0.729173  0.769627  1.203227      ...        1.302667  1.673560  1.801933   \n",
       "3  1.153029  2.083886  1.220571      ...        1.314514  1.396114  1.367314   \n",
       "4  0.843227  0.753587  0.551160      ...        1.208160  1.261227  1.218547   \n",
       "\n",
       "     kwh_21    kwh_22    kwh_23    kwh_24    kwh_day  match  overnight_avg  \n",
       "0  3.040457  3.652286  4.151829  3.475029  64.982400    0.0       3.364526  \n",
       "1  0.354493  0.290493  0.294067  0.196040   9.556807    1.0       0.716151  \n",
       "2  2.013600  1.909547  1.779920  1.588987  43.284673    1.0       2.816497  \n",
       "3  2.698114  3.584229  3.694800  3.049886  44.726400    0.0       2.692080  \n",
       "4  1.092640  0.910373  0.534893  0.384680  25.372853    0.0       1.126493  \n",
       "\n",
       "[5 rows x 29 columns]"
      ]
     },
     "execution_count": 33,
     "metadata": {},
     "output_type": "execute_result"
    }
   ],
   "source": [
    "ev_pred_df.head()"
   ]
  },
  {
   "cell_type": "markdown",
   "metadata": {},
   "source": [
    "### Modeling"
   ]
  },
  {
   "cell_type": "code",
   "execution_count": 20,
   "metadata": {
    "collapsed": false
   },
   "outputs": [
    {
     "name": "stdout",
     "output_type": "stream",
     "text": [
      "Parse progress: |█████████████████████████████████████████████████████████| 100%\n"
     ]
    }
   ],
   "source": [
    "ev_df = h2o.H2OFrame(ev_pred_df)"
   ]
  },
  {
   "cell_type": "code",
   "execution_count": 21,
   "metadata": {
    "collapsed": false
   },
   "outputs": [],
   "source": [
    "ev_df[\"kwh_23_c\"]=ev_df[\"kwh_23\"].ascharacter()\n",
    "ev_df[\"kwh_24_c\"]=ev_df[\"kwh_24\"].ascharacter()\n",
    "ev_df[\"kwh_1_c\"]=ev_df[\"kwh_1\"].ascharacter()\n",
    "ev_df[\"kwh_2_c\"]=ev_df[\"kwh_2\"].ascharacter()\n",
    "ev_df[\"kwh_3_c\"]=ev_df[\"kwh_3\"].ascharacter()\n",
    "\n",
    "ev_df[\"kwh_23_c\"]=ev_df[\"kwh_23_c\"].asfactor()\n",
    "ev_df[\"kwh_24_c\"]=ev_df[\"kwh_24_c\"].asfactor()\n",
    "ev_df[\"kwh_1_c\"]=ev_df[\"kwh_1_c\"].asfactor()\n",
    "ev_df[\"kwh_2_c\"]=ev_df[\"kwh_2_c\"].asfactor()\n",
    "ev_df[\"kwh_3_c\"]=ev_df[\"kwh_3_c\"].asfactor()\n",
    "\n",
    "ev_df[\"match\"]=ev_df[\"match\"].ascharacter()\n",
    "ev_df[\"match\"]=ev_df[\"match\"].asfactor()"
   ]
  },
  {
   "cell_type": "code",
   "execution_count": 22,
   "metadata": {
    "collapsed": false
   },
   "outputs": [],
   "source": [
    "interaction_cols = ['kwh_23_c', 'kwh_24_c','kwh_1_c','kwh_2_c','kwh_3_c']"
   ]
  },
  {
   "cell_type": "code",
   "execution_count": 23,
   "metadata": {
    "collapsed": false
   },
   "outputs": [
    {
     "name": "stdout",
     "output_type": "stream",
     "text": [
      "Interactions progress: |██████████████████████████████████████████████████| 100%\n"
     ]
    }
   ],
   "source": [
    "ev_df['overnight_charging'] = ev_df.interaction(factors=interaction_cols,\n",
    "                                   pairwise=False,\n",
    "                                   max_factors=100000,\n",
    "                                   min_occurrence=1,\n",
    "                                   destination_frame=\"itest\")"
   ]
  },
  {
   "cell_type": "code",
   "execution_count": 24,
   "metadata": {
    "collapsed": false,
    "scrolled": true
   },
   "outputs": [
    {
     "data": {
      "text/html": [
       "<table>\n",
       "<tr><th style=\"text-align: right;\">  servicepoint</th><th>Date               </th><th style=\"text-align: right;\">   kwh_1</th><th style=\"text-align: right;\">   kwh_2</th><th style=\"text-align: right;\">   kwh_3</th><th style=\"text-align: right;\">   kwh_4</th><th style=\"text-align: right;\">   kwh_5</th><th style=\"text-align: right;\">   kwh_6</th><th style=\"text-align: right;\">   kwh_7</th><th style=\"text-align: right;\">   kwh_8</th><th style=\"text-align: right;\">   kwh_9</th><th style=\"text-align: right;\">  kwh_10</th><th style=\"text-align: right;\">  kwh_11</th><th style=\"text-align: right;\">  kwh_12</th><th style=\"text-align: right;\">  kwh_13</th><th style=\"text-align: right;\">  kwh_14</th><th style=\"text-align: right;\">  kwh_15</th><th style=\"text-align: right;\">  kwh_16</th><th style=\"text-align: right;\">  kwh_17</th><th style=\"text-align: right;\">  kwh_18</th><th style=\"text-align: right;\">  kwh_19</th><th style=\"text-align: right;\">  kwh_20</th><th style=\"text-align: right;\">  kwh_21</th><th style=\"text-align: right;\">  kwh_22</th><th style=\"text-align: right;\">  kwh_23</th><th style=\"text-align: right;\">  kwh_24</th><th style=\"text-align: right;\">  kwh_day</th><th style=\"text-align: right;\">  match</th><th style=\"text-align: right;\">  overnight_avg</th><th style=\"text-align: right;\">  kwh_23_c</th><th style=\"text-align: right;\">  kwh_24_c</th><th style=\"text-align: right;\">  kwh_1_c</th><th style=\"text-align: right;\">  kwh_2_c</th><th style=\"text-align: right;\">  kwh_3_c</th><th>overnight_charging                </th></tr>\n",
       "<tr><td style=\"text-align: right;\">   1.00396e+06</td><td>2012-12-31 00:00:00</td><td style=\"text-align: right;\">3.26794 </td><td style=\"text-align: right;\">3.35674 </td><td style=\"text-align: right;\">2.57109 </td><td style=\"text-align: right;\">2.31823 </td><td style=\"text-align: right;\">1.61194 </td><td style=\"text-align: right;\">1.33749 </td><td style=\"text-align: right;\">1.36989 </td><td style=\"text-align: right;\">1.39989 </td><td style=\"text-align: right;\">1.71463 </td><td style=\"text-align: right;\">2.36434 </td><td style=\"text-align: right;\">2.76206 </td><td style=\"text-align: right;\">2.51194 </td><td style=\"text-align: right;\">2.95697 </td><td style=\"text-align: right;\">2.82686 </td><td style=\"text-align: right;\">2.17543 </td><td style=\"text-align: right;\">1.96046 </td><td style=\"text-align: right;\"> 2.09074</td><td style=\"text-align: right;\"> 3.06274</td><td style=\"text-align: right;\">4.14309 </td><td style=\"text-align: right;\"> 4.86034</td><td style=\"text-align: right;\">3.04046 </td><td style=\"text-align: right;\">3.65229 </td><td style=\"text-align: right;\">4.15183 </td><td style=\"text-align: right;\">3.47503 </td><td style=\"text-align: right;\"> 64.9824 </td><td style=\"text-align: right;\">      0</td><td style=\"text-align: right;\">       3.36453 </td><td style=\"text-align: right;\">    4.1518</td><td style=\"text-align: right;\">    3.475 </td><td style=\"text-align: right;\">   3.2679</td><td style=\"text-align: right;\">   3.3567</td><td style=\"text-align: right;\">   2.571 </td><td>4.1518_3.475_3.2679_3.3567_2.571  </td></tr>\n",
       "<tr><td style=\"text-align: right;\">   1.00686e+06</td><td>2012-12-31 00:00:00</td><td style=\"text-align: right;\">1.10844 </td><td style=\"text-align: right;\">1.24097 </td><td style=\"text-align: right;\">0.741233</td><td style=\"text-align: right;\">0.23016 </td><td style=\"text-align: right;\">0.184587</td><td style=\"text-align: right;\">0.288253</td><td style=\"text-align: right;\">0.3476  </td><td style=\"text-align: right;\">0.3864  </td><td style=\"text-align: right;\">0.374987</td><td style=\"text-align: right;\">0.370147</td><td style=\"text-align: right;\">0.26104 </td><td style=\"text-align: right;\">0.265507</td><td style=\"text-align: right;\">0.290253</td><td style=\"text-align: right;\">0.239307</td><td style=\"text-align: right;\">0.266   </td><td style=\"text-align: right;\">0.26616 </td><td style=\"text-align: right;\"> 0.3192 </td><td style=\"text-align: right;\"> 0.40196</td><td style=\"text-align: right;\">0.436667</td><td style=\"text-align: right;\"> 0.40284</td><td style=\"text-align: right;\">0.354493</td><td style=\"text-align: right;\">0.290493</td><td style=\"text-align: right;\">0.294067</td><td style=\"text-align: right;\">0.19604 </td><td style=\"text-align: right;\">  9.55681</td><td style=\"text-align: right;\">      1</td><td style=\"text-align: right;\">       0.716151</td><td style=\"text-align: right;\">    0.294 </td><td style=\"text-align: right;\">    0.196 </td><td style=\"text-align: right;\">   1.1084</td><td style=\"text-align: right;\">   1.2409</td><td style=\"text-align: right;\">   0.7412</td><td>0.294_0.196_1.1084_1.2409_0.7412  </td></tr>\n",
       "<tr><td style=\"text-align: right;\">   1.00974e+06</td><td>2012-12-31 00:00:00</td><td style=\"text-align: right;\">3.86253 </td><td style=\"text-align: right;\">3.61847 </td><td style=\"text-align: right;\">3.23258 </td><td style=\"text-align: right;\">2.29705 </td><td style=\"text-align: right;\">1.0336  </td><td style=\"text-align: right;\">0.729173</td><td style=\"text-align: right;\">0.769627</td><td style=\"text-align: right;\">1.20323 </td><td style=\"text-align: right;\">1.04995 </td><td style=\"text-align: right;\">1.14435 </td><td style=\"text-align: right;\">1.64841 </td><td style=\"text-align: right;\">1.81111 </td><td style=\"text-align: right;\">1.80825 </td><td style=\"text-align: right;\">2.02543 </td><td style=\"text-align: right;\">1.93051 </td><td style=\"text-align: right;\">1.77103 </td><td style=\"text-align: right;\"> 1.27917</td><td style=\"text-align: right;\"> 1.30267</td><td style=\"text-align: right;\">1.67356 </td><td style=\"text-align: right;\"> 1.80193</td><td style=\"text-align: right;\">2.0136  </td><td style=\"text-align: right;\">1.90955 </td><td style=\"text-align: right;\">1.77992 </td><td style=\"text-align: right;\">1.58899 </td><td style=\"text-align: right;\"> 43.2847 </td><td style=\"text-align: right;\">      1</td><td style=\"text-align: right;\">       2.8165  </td><td style=\"text-align: right;\">    1.7799</td><td style=\"text-align: right;\">    1.5889</td><td style=\"text-align: right;\">   3.8625</td><td style=\"text-align: right;\">   3.6184</td><td style=\"text-align: right;\">   3.2325</td><td>1.7799_1.5889_3.8625_3.6184_3.2325</td></tr>\n",
       "<tr><td style=\"text-align: right;\">   1.04664e+06</td><td>2012-12-31 00:00:00</td><td style=\"text-align: right;\">2.70583 </td><td style=\"text-align: right;\">2.18811 </td><td style=\"text-align: right;\">1.82177 </td><td style=\"text-align: right;\">1.16863 </td><td style=\"text-align: right;\">1.28314 </td><td style=\"text-align: right;\">1.15303 </td><td style=\"text-align: right;\">2.08389 </td><td style=\"text-align: right;\">1.22057 </td><td style=\"text-align: right;\">1.40777 </td><td style=\"text-align: right;\">1.96594 </td><td style=\"text-align: right;\">1.51406 </td><td style=\"text-align: right;\">1.46846 </td><td style=\"text-align: right;\">1.59137 </td><td style=\"text-align: right;\">1.84646 </td><td style=\"text-align: right;\">1.89789 </td><td style=\"text-align: right;\">1.08514 </td><td style=\"text-align: right;\"> 1.21937</td><td style=\"text-align: right;\"> 1.31451</td><td style=\"text-align: right;\">1.39611 </td><td style=\"text-align: right;\"> 1.36731</td><td style=\"text-align: right;\">2.69811 </td><td style=\"text-align: right;\">3.58423 </td><td style=\"text-align: right;\">3.6948  </td><td style=\"text-align: right;\">3.04989 </td><td style=\"text-align: right;\"> 44.7264 </td><td style=\"text-align: right;\">      0</td><td style=\"text-align: right;\">       2.69208 </td><td style=\"text-align: right;\">    3.6948</td><td style=\"text-align: right;\">    3.0498</td><td style=\"text-align: right;\">   2.7058</td><td style=\"text-align: right;\">   2.1881</td><td style=\"text-align: right;\">   1.8217</td><td>3.6948_3.0498_2.7058_2.1881_1.8217</td></tr>\n",
       "<tr><td style=\"text-align: right;\">   1.0868e+06 </td><td>2012-12-31 00:00:00</td><td style=\"text-align: right;\">0.524867</td><td style=\"text-align: right;\">1.47835 </td><td style=\"text-align: right;\">2.70968 </td><td style=\"text-align: right;\">3.22596 </td><td style=\"text-align: right;\">2.68712 </td><td style=\"text-align: right;\">0.843227</td><td style=\"text-align: right;\">0.753587</td><td style=\"text-align: right;\">0.55116 </td><td style=\"text-align: right;\">0.469907</td><td style=\"text-align: right;\">0.41016 </td><td style=\"text-align: right;\">0.379707</td><td style=\"text-align: right;\">0.497307</td><td style=\"text-align: right;\">0.716747</td><td style=\"text-align: right;\">0.790667</td><td style=\"text-align: right;\">0.79916 </td><td style=\"text-align: right;\">0.947253</td><td style=\"text-align: right;\"> 0.97748</td><td style=\"text-align: right;\"> 1.20816</td><td style=\"text-align: right;\">1.26123 </td><td style=\"text-align: right;\"> 1.21855</td><td style=\"text-align: right;\">1.09264 </td><td style=\"text-align: right;\">0.910373</td><td style=\"text-align: right;\">0.534893</td><td style=\"text-align: right;\">0.38468 </td><td style=\"text-align: right;\"> 25.3729 </td><td style=\"text-align: right;\">      0</td><td style=\"text-align: right;\">       1.12649 </td><td style=\"text-align: right;\">    0.5348</td><td style=\"text-align: right;\">    0.3846</td><td style=\"text-align: right;\">   0.5248</td><td style=\"text-align: right;\">   1.4783</td><td style=\"text-align: right;\">   2.7096</td><td>0.5348_0.3846_0.5248_1.4783_2.7096</td></tr>\n",
       "<tr><td style=\"text-align: right;\">   1.09198e+06</td><td>2012-12-31 00:00:00</td><td style=\"text-align: right;\">0.965016</td><td style=\"text-align: right;\">0.842022</td><td style=\"text-align: right;\">0.716427</td><td style=\"text-align: right;\">0.674589</td><td style=\"text-align: right;\">0.769011</td><td style=\"text-align: right;\">0.880692</td><td style=\"text-align: right;\">1.10856 </td><td style=\"text-align: right;\">0.919564</td><td style=\"text-align: right;\">0.891775</td><td style=\"text-align: right;\">0.972607</td><td style=\"text-align: right;\">1.04788 </td><td style=\"text-align: right;\">1.16976 </td><td style=\"text-align: right;\">1.3742  </td><td style=\"text-align: right;\">1.1788  </td><td style=\"text-align: right;\">1.25991 </td><td style=\"text-align: right;\">1.40558 </td><td style=\"text-align: right;\"> 1.62121</td><td style=\"text-align: right;\"> 1.72549</td><td style=\"text-align: right;\">1.73182 </td><td style=\"text-align: right;\"> 1.73732</td><td style=\"text-align: right;\">2.7043  </td><td style=\"text-align: right;\">2.33265 </td><td style=\"text-align: right;\">2.07573 </td><td style=\"text-align: right;\">1.65071 </td><td style=\"text-align: right;\"> 31.7556 </td><td style=\"text-align: right;\">      0</td><td style=\"text-align: right;\">       1.24998 </td><td style=\"text-align: right;\">    2.0757</td><td style=\"text-align: right;\">    1.6507</td><td style=\"text-align: right;\">   0.965 </td><td style=\"text-align: right;\">   0.842 </td><td style=\"text-align: right;\">   0.7164</td><td>2.0757_1.6507_0.965_0.842_0.7164  </td></tr>\n",
       "<tr><td style=\"text-align: right;\">   1.10095e+06</td><td>2012-12-31 00:00:00</td><td style=\"text-align: right;\">0.39524 </td><td style=\"text-align: right;\">0.39116 </td><td style=\"text-align: right;\">0.39222 </td><td style=\"text-align: right;\">0.359133</td><td style=\"text-align: right;\">0.339947</td><td style=\"text-align: right;\">0.45356 </td><td style=\"text-align: right;\">0.618053</td><td style=\"text-align: right;\">0.944013</td><td style=\"text-align: right;\">1.67413 </td><td style=\"text-align: right;\">1.76685 </td><td style=\"text-align: right;\">2.68899 </td><td style=\"text-align: right;\">2.51197 </td><td style=\"text-align: right;\">2.55413 </td><td style=\"text-align: right;\">2.53281 </td><td style=\"text-align: right;\">2.52337 </td><td style=\"text-align: right;\">2.24688 </td><td style=\"text-align: right;\"> 2.19995</td><td style=\"text-align: right;\"> 1.63277</td><td style=\"text-align: right;\">1.40951 </td><td style=\"text-align: right;\"> 1.07611</td><td style=\"text-align: right;\">2.10429 </td><td style=\"text-align: right;\">1.80979 </td><td style=\"text-align: right;\">1.17151 </td><td style=\"text-align: right;\">0.556387</td><td style=\"text-align: right;\"> 34.3528 </td><td style=\"text-align: right;\">      1</td><td style=\"text-align: right;\">       0.581303</td><td style=\"text-align: right;\">    1.1715</td><td style=\"text-align: right;\">    0.5563</td><td style=\"text-align: right;\">   0.3952</td><td style=\"text-align: right;\">   0.3911</td><td style=\"text-align: right;\">   0.3922</td><td>1.1715_0.5563_0.3952_0.3911_0.3922</td></tr>\n",
       "<tr><td style=\"text-align: right;\">   1.10195e+06</td><td>2012-12-31 00:00:00</td><td style=\"text-align: right;\">1.66564 </td><td style=\"text-align: right;\">1.43455 </td><td style=\"text-align: right;\">0.88342 </td><td style=\"text-align: right;\">0.851693</td><td style=\"text-align: right;\">0.849133</td><td style=\"text-align: right;\">0.852587</td><td style=\"text-align: right;\">0.888813</td><td style=\"text-align: right;\">1.08596 </td><td style=\"text-align: right;\">0.94268 </td><td style=\"text-align: right;\">1.0058  </td><td style=\"text-align: right;\">1.00173 </td><td style=\"text-align: right;\">1.03772 </td><td style=\"text-align: right;\">1.24877 </td><td style=\"text-align: right;\">1.35967 </td><td style=\"text-align: right;\">1.54645 </td><td style=\"text-align: right;\">1.62663 </td><td style=\"text-align: right;\"> 1.48788</td><td style=\"text-align: right;\"> 1.74241</td><td style=\"text-align: right;\">1.89723 </td><td style=\"text-align: right;\"> 1.71745</td><td style=\"text-align: right;\">3.39701 </td><td style=\"text-align: right;\">3.06124 </td><td style=\"text-align: right;\">2.12435 </td><td style=\"text-align: right;\">1.58583 </td><td style=\"text-align: right;\"> 35.2946 </td><td style=\"text-align: right;\">      0</td><td style=\"text-align: right;\">       1.53876 </td><td style=\"text-align: right;\">    2.1243</td><td style=\"text-align: right;\">    1.5858</td><td style=\"text-align: right;\">   1.6656</td><td style=\"text-align: right;\">   1.4345</td><td style=\"text-align: right;\">   0.8834</td><td>2.1243_1.5858_1.6656_1.4345_0.8834</td></tr>\n",
       "<tr><td style=\"text-align: right;\">   1.11289e+06</td><td>2012-12-31 00:00:00</td><td style=\"text-align: right;\">1.64631 </td><td style=\"text-align: right;\">1.68987 </td><td style=\"text-align: right;\">1.69824 </td><td style=\"text-align: right;\">1.69556 </td><td style=\"text-align: right;\">1.72875 </td><td style=\"text-align: right;\">1.87155 </td><td style=\"text-align: right;\">2.29276 </td><td style=\"text-align: right;\">2.72923 </td><td style=\"text-align: right;\">3.07809 </td><td style=\"text-align: right;\">2.6214  </td><td style=\"text-align: right;\">2.12129 </td><td style=\"text-align: right;\">1.82693 </td><td style=\"text-align: right;\">1.99867 </td><td style=\"text-align: right;\">2.24908 </td><td style=\"text-align: right;\">2.17109 </td><td style=\"text-align: right;\">1.93957 </td><td style=\"text-align: right;\"> 2.76491</td><td style=\"text-align: right;\"> 2.61859</td><td style=\"text-align: right;\">2.67792 </td><td style=\"text-align: right;\"> 2.42689</td><td style=\"text-align: right;\">2.97311 </td><td style=\"text-align: right;\">2.86257 </td><td style=\"text-align: right;\">2.45192 </td><td style=\"text-align: right;\">1.97779 </td><td style=\"text-align: right;\"> 54.1121 </td><td style=\"text-align: right;\">      1</td><td style=\"text-align: right;\">       1.89282 </td><td style=\"text-align: right;\">    2.4519</td><td style=\"text-align: right;\">    1.9777</td><td style=\"text-align: right;\">   1.6463</td><td style=\"text-align: right;\">   1.6898</td><td style=\"text-align: right;\">   1.6982</td><td>2.4519_1.9777_1.6463_1.6898_1.6982</td></tr>\n",
       "<tr><td style=\"text-align: right;\">   1.12077e+06</td><td>2012-12-31 00:00:00</td><td style=\"text-align: right;\">1.00896 </td><td style=\"text-align: right;\">0.699093</td><td style=\"text-align: right;\">0.670413</td><td style=\"text-align: right;\">0.646853</td><td style=\"text-align: right;\">0.68768 </td><td style=\"text-align: right;\">1.24731 </td><td style=\"text-align: right;\">1.81601 </td><td style=\"text-align: right;\">1.09829 </td><td style=\"text-align: right;\">1.03459 </td><td style=\"text-align: right;\">0.832933</td><td style=\"text-align: right;\">0.907467</td><td style=\"text-align: right;\">0.976707</td><td style=\"text-align: right;\">0.895893</td><td style=\"text-align: right;\">0.904933</td><td style=\"text-align: right;\">0.854507</td><td style=\"text-align: right;\">0.8464  </td><td style=\"text-align: right;\"> 1.14351</td><td style=\"text-align: right;\"> 1.51679</td><td style=\"text-align: right;\">1.62111 </td><td style=\"text-align: right;\"> 2.57149</td><td style=\"text-align: right;\">5.09289 </td><td style=\"text-align: right;\">5.06245 </td><td style=\"text-align: right;\">4.07723 </td><td style=\"text-align: right;\">2.62161 </td><td style=\"text-align: right;\"> 38.8351 </td><td style=\"text-align: right;\">      1</td><td style=\"text-align: right;\">       1.81546 </td><td style=\"text-align: right;\">    4.0772</td><td style=\"text-align: right;\">    2.6216</td><td style=\"text-align: right;\">   1.0089</td><td style=\"text-align: right;\">   0.699 </td><td style=\"text-align: right;\">   0.6704</td><td>4.0772_2.6216_1.0089_0.699_0.6704 </td></tr>\n",
       "</table>"
      ]
     },
     "metadata": {},
     "output_type": "display_data"
    },
    {
     "data": {
      "text/plain": []
     },
     "execution_count": 24,
     "metadata": {},
     "output_type": "execute_result"
    }
   ],
   "source": [
    "ev_df.head()"
   ]
  },
  {
   "cell_type": "code",
   "execution_count": 25,
   "metadata": {
    "collapsed": true
   },
   "outputs": [],
   "source": [
    "def model_prep(df, train_ratio, test_ratio):\n",
    "    train_R, test_R, rest_of_df_R = df.split_frame(ratios=[train_ratio, test_ratio])\n",
    "    exclude_field = ['kwh_23_c', 'kwh_24_c','kwh_1_c','kwh_2_c','kwh_3_c', 'Date','servicepoint', 'kwh_day']\n",
    "    target = ['match'] \n",
    "    features = [x for x in df.columns if x not in target and x not in exclude_field]\n",
    "    return train_R, test_R, target, features"
   ]
  },
  {
   "cell_type": "code",
   "execution_count": 26,
   "metadata": {
    "collapsed": false
   },
   "outputs": [],
   "source": [
    "train, test, target, features = model_prep(ev_df, 0.80, 0.19)"
   ]
  },
  {
   "cell_type": "code",
   "execution_count": 27,
   "metadata": {
    "collapsed": false
   },
   "outputs": [
    {
     "name": "stdout",
     "output_type": "stream",
     "text": [
      "drf Model Build progress: |███████████████████████████████████████████████| 100%\n"
     ]
    }
   ],
   "source": [
    "trained_model = H2ORandomForestEstimator(model_id = 'trained_model'\n",
    "                               ,balance_classes=True\n",
    "                               ,binomial_double_trees=True\n",
    "                               ,ntrees=15\n",
    "                               ,seed=15)\n",
    "\n",
    "trained_model.train(x=features, y=target[0], training_frame = train)"
   ]
  },
  {
   "cell_type": "code",
   "execution_count": 28,
   "metadata": {
    "collapsed": false
   },
   "outputs": [],
   "source": [
    "mod_performance = trained_model.model_performance(test_data=test)"
   ]
  },
  {
   "cell_type": "code",
   "execution_count": 29,
   "metadata": {
    "collapsed": false
   },
   "outputs": [
    {
     "name": "stdout",
     "output_type": "stream",
     "text": [
      "\n",
      "ModelMetricsBinomial: drf\n",
      "** Reported on test data. **\n",
      "\n",
      "MSE: 0.14151793841931817\n",
      "RMSE: 0.3761887005471033\n",
      "LogLoss: 0.39937455264444244\n",
      "Mean Per-Class Error: 0.09090909090909083\n",
      "AUC: 0.9454545454545454\n",
      "Gini: 0.8909090909090909\n",
      "Confusion Matrix (Act/Pred) for max f1 @ threshold = 0.08457711442786069: \n"
     ]
    },
    {
     "data": {
      "text/html": [
       "<div style=\"overflow:auto\"><table style=\"width:50%\"><tr><td><b></b></td>\n",
       "<td><b>0</b></td>\n",
       "<td><b>1</b></td>\n",
       "<td><b>Error</b></td>\n",
       "<td><b>Rate</b></td></tr>\n",
       "<tr><td>0</td>\n",
       "<td>9.0</td>\n",
       "<td>2.0</td>\n",
       "<td>0.1818</td>\n",
       "<td> (2.0/11.0)</td></tr>\n",
       "<tr><td>1</td>\n",
       "<td>0.0</td>\n",
       "<td>5.0</td>\n",
       "<td>0.0</td>\n",
       "<td> (0.0/5.0)</td></tr>\n",
       "<tr><td>Total</td>\n",
       "<td>9.0</td>\n",
       "<td>7.0</td>\n",
       "<td>0.125</td>\n",
       "<td> (2.0/16.0)</td></tr></table></div>"
      ],
      "text/plain": [
       "       0    1    Error    Rate\n",
       "-----  ---  ---  -------  ----------\n",
       "0      9    2    0.1818   (2.0/11.0)\n",
       "1      0    5    0        (0.0/5.0)\n",
       "Total  9    7    0.125    (2.0/16.0)"
      ]
     },
     "metadata": {},
     "output_type": "display_data"
    },
    {
     "name": "stdout",
     "output_type": "stream",
     "text": [
      "Maximum Metrics: Maximum metrics at their respective thresholds\n",
      "\n"
     ]
    },
    {
     "data": {
      "text/html": [
       "<div style=\"overflow:auto\"><table style=\"width:50%\"><tr><td><b>metric</b></td>\n",
       "<td><b>threshold</b></td>\n",
       "<td><b>value</b></td>\n",
       "<td><b>idx</b></td></tr>\n",
       "<tr><td>max f1</td>\n",
       "<td>0.0845771</td>\n",
       "<td>0.8333333</td>\n",
       "<td>2.0</td></tr>\n",
       "<tr><td>max f2</td>\n",
       "<td>0.0845771</td>\n",
       "<td>0.9259259</td>\n",
       "<td>2.0</td></tr>\n",
       "<tr><td>max f0point5</td>\n",
       "<td>0.425</td>\n",
       "<td>0.8000000</td>\n",
       "<td>1.0</td></tr>\n",
       "<tr><td>max accuracy</td>\n",
       "<td>0.425</td>\n",
       "<td>0.875</td>\n",
       "<td>1.0</td></tr>\n",
       "<tr><td>max precision</td>\n",
       "<td>0.5040431</td>\n",
       "<td>1.0</td>\n",
       "<td>0.0</td></tr>\n",
       "<tr><td>max recall</td>\n",
       "<td>0.0845771</td>\n",
       "<td>1.0</td>\n",
       "<td>2.0</td></tr>\n",
       "<tr><td>max specificity</td>\n",
       "<td>0.5040431</td>\n",
       "<td>1.0</td>\n",
       "<td>0.0</td></tr>\n",
       "<tr><td>max absolute_mcc</td>\n",
       "<td>0.0845771</td>\n",
       "<td>0.7644708</td>\n",
       "<td>2.0</td></tr>\n",
       "<tr><td>max min_per_class_accuracy</td>\n",
       "<td>0.0845771</td>\n",
       "<td>0.8181818</td>\n",
       "<td>2.0</td></tr>\n",
       "<tr><td>max mean_per_class_accuracy</td>\n",
       "<td>0.0845771</td>\n",
       "<td>0.9090909</td>\n",
       "<td>2.0</td></tr></table></div>"
      ],
      "text/plain": [
       "metric                       threshold    value     idx\n",
       "---------------------------  -----------  --------  -----\n",
       "max f1                       0.0845771    0.833333  2\n",
       "max f2                       0.0845771    0.925926  2\n",
       "max f0point5                 0.425        0.8       1\n",
       "max accuracy                 0.425        0.875     1\n",
       "max precision                0.504043     1         0\n",
       "max recall                   0.0845771    1         2\n",
       "max specificity              0.504043     1         0\n",
       "max absolute_mcc             0.0845771    0.764471  2\n",
       "max min_per_class_accuracy   0.0845771    0.818182  2\n",
       "max mean_per_class_accuracy  0.0845771    0.909091  2"
      ]
     },
     "metadata": {},
     "output_type": "display_data"
    },
    {
     "name": "stdout",
     "output_type": "stream",
     "text": [
      "Gains/Lift Table: Avg response rate: 31.25 %\n",
      "\n"
     ]
    },
    {
     "data": {
      "text/html": [
       "<div style=\"overflow:auto\"><table style=\"width:50%\"><tr><td><b></b></td>\n",
       "<td><b>group</b></td>\n",
       "<td><b>cumulative_data_fraction</b></td>\n",
       "<td><b>lower_threshold</b></td>\n",
       "<td><b>lift</b></td>\n",
       "<td><b>cumulative_lift</b></td>\n",
       "<td><b>response_rate</b></td>\n",
       "<td><b>cumulative_response_rate</b></td>\n",
       "<td><b>capture_rate</b></td>\n",
       "<td><b>cumulative_capture_rate</b></td>\n",
       "<td><b>gain</b></td>\n",
       "<td><b>cumulative_gain</b></td></tr>\n",
       "<tr><td></td>\n",
       "<td>1</td>\n",
       "<td>0.0625</td>\n",
       "<td>0.4921867</td>\n",
       "<td>3.2</td>\n",
       "<td>3.2</td>\n",
       "<td>1.0</td>\n",
       "<td>1.0</td>\n",
       "<td>0.2</td>\n",
       "<td>0.2</td>\n",
       "<td>220.0000000</td>\n",
       "<td>220.0000000</td></tr>\n",
       "<tr><td></td>\n",
       "<td>2</td>\n",
       "<td>0.0625</td>\n",
       "<td>0.4803302</td>\n",
       "<td>0.0</td>\n",
       "<td>3.2</td>\n",
       "<td>0.0</td>\n",
       "<td>1.0</td>\n",
       "<td>0.0</td>\n",
       "<td>0.2</td>\n",
       "<td>-100.0</td>\n",
       "<td>220.0000000</td></tr>\n",
       "<tr><td></td>\n",
       "<td>3</td>\n",
       "<td>0.0625</td>\n",
       "<td>0.4684737</td>\n",
       "<td>0.0</td>\n",
       "<td>3.2</td>\n",
       "<td>0.0</td>\n",
       "<td>1.0</td>\n",
       "<td>0.0</td>\n",
       "<td>0.2</td>\n",
       "<td>-100.0</td>\n",
       "<td>220.0000000</td></tr>\n",
       "<tr><td></td>\n",
       "<td>4</td>\n",
       "<td>0.0625</td>\n",
       "<td>0.4566173</td>\n",
       "<td>0.0</td>\n",
       "<td>3.2</td>\n",
       "<td>0.0</td>\n",
       "<td>1.0</td>\n",
       "<td>0.0</td>\n",
       "<td>0.2</td>\n",
       "<td>-100.0</td>\n",
       "<td>220.0000000</td></tr>\n",
       "<tr><td></td>\n",
       "<td>5</td>\n",
       "<td>0.0625</td>\n",
       "<td>0.4447608</td>\n",
       "<td>0.0</td>\n",
       "<td>3.2</td>\n",
       "<td>0.0</td>\n",
       "<td>1.0</td>\n",
       "<td>0.0</td>\n",
       "<td>0.2</td>\n",
       "<td>-100.0</td>\n",
       "<td>220.0000000</td></tr>\n",
       "<tr><td></td>\n",
       "<td>6</td>\n",
       "<td>0.3125</td>\n",
       "<td>0.425</td>\n",
       "<td>2.4</td>\n",
       "<td>2.56</td>\n",
       "<td>0.75</td>\n",
       "<td>0.8</td>\n",
       "<td>0.6</td>\n",
       "<td>0.8</td>\n",
       "<td>140.0</td>\n",
       "<td>156.0</td></tr>\n",
       "<tr><td></td>\n",
       "<td>7</td>\n",
       "<td>0.3125</td>\n",
       "<td>0.2547886</td>\n",
       "<td>0.0</td>\n",
       "<td>2.56</td>\n",
       "<td>0.0</td>\n",
       "<td>0.8</td>\n",
       "<td>0.0</td>\n",
       "<td>0.8</td>\n",
       "<td>-100.0</td>\n",
       "<td>156.0</td></tr>\n",
       "<tr><td></td>\n",
       "<td>8</td>\n",
       "<td>0.4375</td>\n",
       "<td>0.0845771</td>\n",
       "<td>1.6</td>\n",
       "<td>2.2857143</td>\n",
       "<td>0.5</td>\n",
       "<td>0.7142857</td>\n",
       "<td>0.2</td>\n",
       "<td>1.0</td>\n",
       "<td>60.0000000</td>\n",
       "<td>128.5714286</td></tr>\n",
       "<tr><td></td>\n",
       "<td>9</td>\n",
       "<td>0.5</td>\n",
       "<td>0.0128593</td>\n",
       "<td>0.0</td>\n",
       "<td>2.0</td>\n",
       "<td>0.0</td>\n",
       "<td>0.625</td>\n",
       "<td>0.0</td>\n",
       "<td>1.0</td>\n",
       "<td>-100.0</td>\n",
       "<td>100.0</td></tr>\n",
       "<tr><td></td>\n",
       "<td>10</td>\n",
       "<td>1.0</td>\n",
       "<td>0.0</td>\n",
       "<td>0.0</td>\n",
       "<td>1.0</td>\n",
       "<td>0.0</td>\n",
       "<td>0.3125</td>\n",
       "<td>0.0</td>\n",
       "<td>1.0</td>\n",
       "<td>-100.0</td>\n",
       "<td>0.0</td></tr></table></div>"
      ],
      "text/plain": [
       "    group    cumulative_data_fraction    lower_threshold    lift    cumulative_lift    response_rate    cumulative_response_rate    capture_rate    cumulative_capture_rate    gain    cumulative_gain\n",
       "--  -------  --------------------------  -----------------  ------  -----------------  ---------------  --------------------------  --------------  -------------------------  ------  -----------------\n",
       "    1        0.0625                      0.492187           3.2     3.2                1                1                           0.2             0.2                        220     220\n",
       "    2        0.0625                      0.48033            0       3.2                0                1                           0               0.2                        -100    220\n",
       "    3        0.0625                      0.468474           0       3.2                0                1                           0               0.2                        -100    220\n",
       "    4        0.0625                      0.456617           0       3.2                0                1                           0               0.2                        -100    220\n",
       "    5        0.0625                      0.444761           0       3.2                0                1                           0               0.2                        -100    220\n",
       "    6        0.3125                      0.425              2.4     2.56               0.75             0.8                         0.6             0.8                        140     156\n",
       "    7        0.3125                      0.254789           0       2.56               0                0.8                         0               0.8                        -100    156\n",
       "    8        0.4375                      0.0845771          1.6     2.28571            0.5              0.714286                    0.2             1                          60      128.571\n",
       "    9        0.5                         0.0128593          0       2                  0                0.625                       0               1                          -100    100\n",
       "    10       1                           0                  0       1                  0                0.3125                      0               1                          -100    0"
      ]
     },
     "metadata": {},
     "output_type": "display_data"
    },
    {
     "name": "stdout",
     "output_type": "stream",
     "text": [
      "\n"
     ]
    },
    {
     "data": {
      "text/plain": []
     },
     "execution_count": 29,
     "metadata": {},
     "output_type": "execute_result"
    }
   ],
   "source": [
    "mod_performance"
   ]
  },
  {
   "cell_type": "code",
   "execution_count": 30,
   "metadata": {
    "collapsed": false
   },
   "outputs": [
    {
     "data": {
      "text/html": [
       "<div>\n",
       "<style>\n",
       "    .dataframe thead tr:only-child th {\n",
       "        text-align: right;\n",
       "    }\n",
       "\n",
       "    .dataframe thead th {\n",
       "        text-align: left;\n",
       "    }\n",
       "\n",
       "    .dataframe tbody tr th {\n",
       "        vertical-align: top;\n",
       "    }\n",
       "</style>\n",
       "<table border=\"1\" class=\"dataframe\">\n",
       "  <thead>\n",
       "    <tr style=\"text-align: right;\">\n",
       "      <th></th>\n",
       "      <th>variable</th>\n",
       "      <th>relative_importance</th>\n",
       "      <th>scaled_importance</th>\n",
       "      <th>percentage</th>\n",
       "    </tr>\n",
       "  </thead>\n",
       "  <tbody>\n",
       "    <tr>\n",
       "      <th>0</th>\n",
       "      <td>overnight_charging</td>\n",
       "      <td>200.252869</td>\n",
       "      <td>1.000000</td>\n",
       "      <td>0.360520</td>\n",
       "    </tr>\n",
       "    <tr>\n",
       "      <th>1</th>\n",
       "      <td>kwh_10</td>\n",
       "      <td>76.411110</td>\n",
       "      <td>0.381573</td>\n",
       "      <td>0.137565</td>\n",
       "    </tr>\n",
       "    <tr>\n",
       "      <th>2</th>\n",
       "      <td>kwh_8</td>\n",
       "      <td>47.711704</td>\n",
       "      <td>0.238257</td>\n",
       "      <td>0.085896</td>\n",
       "    </tr>\n",
       "    <tr>\n",
       "      <th>3</th>\n",
       "      <td>kwh_12</td>\n",
       "      <td>35.864647</td>\n",
       "      <td>0.179097</td>\n",
       "      <td>0.064568</td>\n",
       "    </tr>\n",
       "    <tr>\n",
       "      <th>4</th>\n",
       "      <td>kwh_22</td>\n",
       "      <td>23.178940</td>\n",
       "      <td>0.115748</td>\n",
       "      <td>0.041730</td>\n",
       "    </tr>\n",
       "    <tr>\n",
       "      <th>5</th>\n",
       "      <td>kwh_15</td>\n",
       "      <td>19.938337</td>\n",
       "      <td>0.099566</td>\n",
       "      <td>0.035895</td>\n",
       "    </tr>\n",
       "    <tr>\n",
       "      <th>6</th>\n",
       "      <td>kwh_11</td>\n",
       "      <td>19.214884</td>\n",
       "      <td>0.095953</td>\n",
       "      <td>0.034593</td>\n",
       "    </tr>\n",
       "    <tr>\n",
       "      <th>7</th>\n",
       "      <td>kwh_20</td>\n",
       "      <td>16.841957</td>\n",
       "      <td>0.084103</td>\n",
       "      <td>0.030321</td>\n",
       "    </tr>\n",
       "    <tr>\n",
       "      <th>8</th>\n",
       "      <td>kwh_9</td>\n",
       "      <td>16.141956</td>\n",
       "      <td>0.080608</td>\n",
       "      <td>0.029061</td>\n",
       "    </tr>\n",
       "    <tr>\n",
       "      <th>9</th>\n",
       "      <td>kwh_5</td>\n",
       "      <td>16.125332</td>\n",
       "      <td>0.080525</td>\n",
       "      <td>0.029031</td>\n",
       "    </tr>\n",
       "    <tr>\n",
       "      <th>10</th>\n",
       "      <td>kwh_23</td>\n",
       "      <td>10.981129</td>\n",
       "      <td>0.054836</td>\n",
       "      <td>0.019770</td>\n",
       "    </tr>\n",
       "    <tr>\n",
       "      <th>11</th>\n",
       "      <td>kwh_4</td>\n",
       "      <td>8.896185</td>\n",
       "      <td>0.044425</td>\n",
       "      <td>0.016016</td>\n",
       "    </tr>\n",
       "    <tr>\n",
       "      <th>12</th>\n",
       "      <td>kwh_1</td>\n",
       "      <td>8.786840</td>\n",
       "      <td>0.043879</td>\n",
       "      <td>0.015819</td>\n",
       "    </tr>\n",
       "    <tr>\n",
       "      <th>13</th>\n",
       "      <td>kwh_3</td>\n",
       "      <td>7.731549</td>\n",
       "      <td>0.038609</td>\n",
       "      <td>0.013919</td>\n",
       "    </tr>\n",
       "    <tr>\n",
       "      <th>14</th>\n",
       "      <td>kwh_21</td>\n",
       "      <td>7.610973</td>\n",
       "      <td>0.038007</td>\n",
       "      <td>0.013702</td>\n",
       "    </tr>\n",
       "    <tr>\n",
       "      <th>15</th>\n",
       "      <td>kwh_19</td>\n",
       "      <td>6.751127</td>\n",
       "      <td>0.033713</td>\n",
       "      <td>0.012154</td>\n",
       "    </tr>\n",
       "    <tr>\n",
       "      <th>16</th>\n",
       "      <td>kwh_6</td>\n",
       "      <td>6.674424</td>\n",
       "      <td>0.033330</td>\n",
       "      <td>0.012016</td>\n",
       "    </tr>\n",
       "    <tr>\n",
       "      <th>17</th>\n",
       "      <td>kwh_16</td>\n",
       "      <td>6.265734</td>\n",
       "      <td>0.031289</td>\n",
       "      <td>0.011280</td>\n",
       "    </tr>\n",
       "    <tr>\n",
       "      <th>18</th>\n",
       "      <td>kwh_14</td>\n",
       "      <td>4.213561</td>\n",
       "      <td>0.021041</td>\n",
       "      <td>0.007586</td>\n",
       "    </tr>\n",
       "    <tr>\n",
       "      <th>19</th>\n",
       "      <td>kwh_13</td>\n",
       "      <td>3.601191</td>\n",
       "      <td>0.017983</td>\n",
       "      <td>0.006483</td>\n",
       "    </tr>\n",
       "    <tr>\n",
       "      <th>20</th>\n",
       "      <td>kwh_17</td>\n",
       "      <td>2.857143</td>\n",
       "      <td>0.014268</td>\n",
       "      <td>0.005144</td>\n",
       "    </tr>\n",
       "    <tr>\n",
       "      <th>21</th>\n",
       "      <td>kwh_18</td>\n",
       "      <td>2.673183</td>\n",
       "      <td>0.013349</td>\n",
       "      <td>0.004813</td>\n",
       "    </tr>\n",
       "    <tr>\n",
       "      <th>22</th>\n",
       "      <td>kwh_2</td>\n",
       "      <td>2.670330</td>\n",
       "      <td>0.013335</td>\n",
       "      <td>0.004807</td>\n",
       "    </tr>\n",
       "    <tr>\n",
       "      <th>23</th>\n",
       "      <td>overnight_avg</td>\n",
       "      <td>2.151515</td>\n",
       "      <td>0.010744</td>\n",
       "      <td>0.003873</td>\n",
       "    </tr>\n",
       "    <tr>\n",
       "      <th>24</th>\n",
       "      <td>kwh_24</td>\n",
       "      <td>1.909195</td>\n",
       "      <td>0.009534</td>\n",
       "      <td>0.003437</td>\n",
       "    </tr>\n",
       "    <tr>\n",
       "      <th>25</th>\n",
       "      <td>kwh_7</td>\n",
       "      <td>0.000000</td>\n",
       "      <td>0.000000</td>\n",
       "      <td>0.000000</td>\n",
       "    </tr>\n",
       "  </tbody>\n",
       "</table>\n",
       "</div>"
      ],
      "text/plain": [
       "              variable  relative_importance  scaled_importance  percentage\n",
       "0   overnight_charging           200.252869           1.000000    0.360520\n",
       "1               kwh_10            76.411110           0.381573    0.137565\n",
       "2                kwh_8            47.711704           0.238257    0.085896\n",
       "3               kwh_12            35.864647           0.179097    0.064568\n",
       "4               kwh_22            23.178940           0.115748    0.041730\n",
       "5               kwh_15            19.938337           0.099566    0.035895\n",
       "6               kwh_11            19.214884           0.095953    0.034593\n",
       "7               kwh_20            16.841957           0.084103    0.030321\n",
       "8                kwh_9            16.141956           0.080608    0.029061\n",
       "9                kwh_5            16.125332           0.080525    0.029031\n",
       "10              kwh_23            10.981129           0.054836    0.019770\n",
       "11               kwh_4             8.896185           0.044425    0.016016\n",
       "12               kwh_1             8.786840           0.043879    0.015819\n",
       "13               kwh_3             7.731549           0.038609    0.013919\n",
       "14              kwh_21             7.610973           0.038007    0.013702\n",
       "15              kwh_19             6.751127           0.033713    0.012154\n",
       "16               kwh_6             6.674424           0.033330    0.012016\n",
       "17              kwh_16             6.265734           0.031289    0.011280\n",
       "18              kwh_14             4.213561           0.021041    0.007586\n",
       "19              kwh_13             3.601191           0.017983    0.006483\n",
       "20              kwh_17             2.857143           0.014268    0.005144\n",
       "21              kwh_18             2.673183           0.013349    0.004813\n",
       "22               kwh_2             2.670330           0.013335    0.004807\n",
       "23       overnight_avg             2.151515           0.010744    0.003873\n",
       "24              kwh_24             1.909195           0.009534    0.003437\n",
       "25               kwh_7             0.000000           0.000000    0.000000"
      ]
     },
     "execution_count": 30,
     "metadata": {},
     "output_type": "execute_result"
    }
   ],
   "source": [
    "feature_importance = trained_model._model_json['output']['variable_importances'].as_data_frame()\n",
    "feature_importance"
   ]
  },
  {
   "cell_type": "code",
   "execution_count": null,
   "metadata": {
    "collapsed": true
   },
   "outputs": [],
   "source": []
  }
 ],
 "metadata": {
  "anaconda-cloud": {},
  "kernelspec": {
   "display_name": "Python [conda env:python35]",
   "language": "python",
   "name": "conda-env-python35-py"
  },
  "language_info": {
   "codemirror_mode": {
    "name": "ipython",
    "version": 3
   },
   "file_extension": ".py",
   "mimetype": "text/x-python",
   "name": "python",
   "nbconvert_exporter": "python",
   "pygments_lexer": "ipython3",
   "version": "3.5.2"
  }
 },
 "nbformat": 4,
 "nbformat_minor": 1
}
