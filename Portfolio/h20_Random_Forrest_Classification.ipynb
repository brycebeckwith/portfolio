{
 "cells": [
  {
   "cell_type": "code",
   "execution_count": 538,
   "metadata": {
    "collapsed": false
   },
   "outputs": [
    {
     "name": "stdout",
     "output_type": "stream",
     "text": [
      "Checking whether there is an H2O instance running at http://localhost:54321. connected.\n"
     ]
    },
    {
     "data": {
      "text/html": [
       "<div style=\"overflow:auto\"><table style=\"width:50%\"><tr><td>H2O cluster uptime:</td>\n",
       "<td>1 day 0 hours 6 mins</td></tr>\n",
       "<tr><td>H2O cluster timezone:</td>\n",
       "<td>America/Los_Angeles</td></tr>\n",
       "<tr><td>H2O data parsing timezone:</td>\n",
       "<td>UTC</td></tr>\n",
       "<tr><td>H2O cluster version:</td>\n",
       "<td>3.18.0.11</td></tr>\n",
       "<tr><td>H2O cluster version age:</td>\n",
       "<td>1 month and 28 days </td></tr>\n",
       "<tr><td>H2O cluster name:</td>\n",
       "<td>H2O_from_python_bryceeb_vmtdeh</td></tr>\n",
       "<tr><td>H2O cluster total nodes:</td>\n",
       "<td>1</td></tr>\n",
       "<tr><td>H2O cluster free memory:</td>\n",
       "<td>60.22 Gb</td></tr>\n",
       "<tr><td>H2O cluster total cores:</td>\n",
       "<td>8</td></tr>\n",
       "<tr><td>H2O cluster allowed cores:</td>\n",
       "<td>8</td></tr>\n",
       "<tr><td>H2O cluster status:</td>\n",
       "<td>locked, healthy</td></tr>\n",
       "<tr><td>H2O connection url:</td>\n",
       "<td>http://localhost:54321</td></tr>\n",
       "<tr><td>H2O connection proxy:</td>\n",
       "<td>None</td></tr>\n",
       "<tr><td>H2O internal security:</td>\n",
       "<td>False</td></tr>\n",
       "<tr><td>H2O API Extensions:</td>\n",
       "<td>XGBoost, Algos, AutoML, Core V3, Core V4</td></tr>\n",
       "<tr><td>Python version:</td>\n",
       "<td>3.5.2 final</td></tr></table></div>"
      ],
      "text/plain": [
       "--------------------------  ----------------------------------------\n",
       "H2O cluster uptime:         1 day 0 hours 6 mins\n",
       "H2O cluster timezone:       America/Los_Angeles\n",
       "H2O data parsing timezone:  UTC\n",
       "H2O cluster version:        3.18.0.11\n",
       "H2O cluster version age:    1 month and 28 days\n",
       "H2O cluster name:           H2O_from_python_bryceeb_vmtdeh\n",
       "H2O cluster total nodes:    1\n",
       "H2O cluster free memory:    60.22 Gb\n",
       "H2O cluster total cores:    8\n",
       "H2O cluster allowed cores:  8\n",
       "H2O cluster status:         locked, healthy\n",
       "H2O connection url:         http://localhost:54321\n",
       "H2O connection proxy:\n",
       "H2O internal security:      False\n",
       "H2O API Extensions:         XGBoost, Algos, AutoML, Core V3, Core V4\n",
       "Python version:             3.5.2 final\n",
       "--------------------------  ----------------------------------------"
      ]
     },
     "metadata": {},
     "output_type": "display_data"
    }
   ],
   "source": [
    "import numpy as np\n",
    "import pandas as pd\n",
    "from datetime import datetime\n",
    "%matplotlib inline\n",
    "import matplotlib.pyplot as plt\n",
    "from matplotlib.pylab import rcParams\n",
    "from sklearn.metrics import classification_report\n",
    "rcParams['figure.figsize'] = 20, 4\n",
    "rcParams['font.size'] = 18.0\n",
    "import h2o\n",
    "from h2o.estimators import H2ORandomForestEstimator\n",
    "pd.set_option('display.max_columns', 100)\n",
    "pd.set_option('display.max_rows', 100)\n",
    "import warnings\n",
    "warnings.filterwarnings('ignore')\n",
    "h2o.init(nthreads=-1,min_mem_size=64)\n",
    "import glob\n",
    "import math\n",
    "from sklearn.preprocessing import Imputer\n",
    "from sklearn.preprocessing import LabelEncoder"
   ]
  },
  {
   "cell_type": "code",
   "execution_count": 539,
   "metadata": {
    "collapsed": false
   },
   "outputs": [
    {
     "name": "stdout",
     "output_type": "stream",
     "text": [
      "Parse progress: |█████████████████████████████████████████████████████████| 100%\n",
      "Parse progress: |█████████████████████████████████████████████████████████| 100%\n"
     ]
    }
   ],
   "source": [
    "train = h2o.import_file(path=\"train_ZoGVYWq.csv\")\n",
    "test_predict = h2o.import_file(path=\"test_66516Ee.csv\")"
   ]
  },
  {
   "cell_type": "code",
   "execution_count": 540,
   "metadata": {
    "collapsed": true
   },
   "outputs": [],
   "source": [
    "train = train.as_data_frame(use_pandas=True)\n",
    "test_predict = test_predict.as_data_frame(use_pandas=True)"
   ]
  },
  {
   "cell_type": "code",
   "execution_count": 541,
   "metadata": {
    "collapsed": false
   },
   "outputs": [],
   "source": [
    "lb_make = LabelEncoder()\n",
    "train[\"sourcing_channel\"] = lb_make.fit_transform(train[\"sourcing_channel\"])\n",
    "train[\"residence_area_type\"] = lb_make.fit_transform(train[\"residence_area_type\"])\n",
    "test_predict[\"sourcing_channel\"] = lb_make.fit_transform(test_predict[\"sourcing_channel\"])\n",
    "test_predict[\"residence_area_type\"] = lb_make.fit_transform(test_predict[\"residence_area_type\"])"
   ]
  },
  {
   "cell_type": "code",
   "execution_count": 542,
   "metadata": {
    "collapsed": false
   },
   "outputs": [],
   "source": [
    "fill_NaN = Imputer(missing_values=np.nan, strategy='mean', axis=1)\n",
    "imputed_DF = pd.DataFrame(fill_NaN.fit_transform(train))\n",
    "imputed_DF.columns = train.columns\n",
    "imputed_DF.index = train.index\n",
    "train = imputed_DF\n",
    "\n",
    "imputed_DF = pd.DataFrame(fill_NaN.fit_transform(test_predict))\n",
    "imputed_DF.columns = test_predict.columns\n",
    "imputed_DF.index = test_predict.index\n",
    "test_predict = imputed_DF"
   ]
  },
  {
   "cell_type": "code",
   "execution_count": 543,
   "metadata": {
    "collapsed": false
   },
   "outputs": [],
   "source": [
    "train = train.apply(pd.to_numeric, errors='ignore')\n",
    "test_predict = test_predict.apply(pd.to_numeric, errors='ignore')"
   ]
  },
  {
   "cell_type": "code",
   "execution_count": 544,
   "metadata": {
    "collapsed": false
   },
   "outputs": [
    {
     "name": "stdout",
     "output_type": "stream",
     "text": [
      "Parse progress: |█████████████████████████████████████████████████████████| 100%\n",
      "Parse progress: |█████████████████████████████████████████████████████████| 100%\n"
     ]
    }
   ],
   "source": [
    "train = h2o.H2OFrame(train)\n",
    "test_predict = h2o.H2OFrame(test_predict)"
   ]
  },
  {
   "cell_type": "code",
   "execution_count": 545,
   "metadata": {
    "collapsed": false
   },
   "outputs": [],
   "source": [
    "train[\"renewal\"]=train[\"renewal\"].asfactor()\n",
    "train[\"Count_3-6_months_late\"]=train[\"Count_3-6_months_late\"].ascharacter()\n",
    "train[\"Count_6-12_months_late\"]=train[\"Count_6-12_months_late\"].ascharacter()\n",
    "train[\"Count_more_than_12_months_late\"]=train[\"Count_more_than_12_months_late\"].ascharacter()\n",
    "train[\"sourcing_channel\"]=train[\"sourcing_channel\"].ascharacter()\n",
    "train[\"residence_area_type\"]=train[\"residence_area_type\"].ascharacter()\n",
    "train[\"Count_3-6_months_late\"]=train[\"Count_3-6_months_late\"].asfactor()\n",
    "train[\"Count_6-12_months_late\"]=train[\"Count_6-12_months_late\"].asfactor()\n",
    "train[\"Count_more_than_12_months_late\"]=train[\"Count_more_than_12_months_late\"].asfactor()\n",
    "train[\"sourcing_channel\"]=train[\"sourcing_channel\"].asfactor()\n",
    "train[\"residence_area_type\"]=train[\"residence_area_type\"].asfactor()\n",
    "\n",
    "\n",
    "test_predict[\"Count_3-6_months_late\"]=test_predict[\"Count_3-6_months_late\"].ascharacter()\n",
    "test_predict[\"Count_6-12_months_late\"]=test_predict[\"Count_6-12_months_late\"].ascharacter()\n",
    "test_predict[\"Count_more_than_12_months_late\"]=test_predict[\"Count_more_than_12_months_late\"].ascharacter()\n",
    "test_predict[\"sourcing_channel\"]=test_predict[\"sourcing_channel\"].ascharacter()\n",
    "test_predict[\"residence_area_type\"]=test_predict[\"residence_area_type\"].ascharacter()\n",
    "test_predict[\"Count_3-6_months_late\"]=test_predict[\"Count_3-6_months_late\"].asfactor()\n",
    "test_predict[\"Count_6-12_months_late\"]=test_predict[\"Count_6-12_months_late\"].asfactor()\n",
    "test_predict[\"Count_more_than_12_months_late\"]=test_predict[\"Count_more_than_12_months_late\"].asfactor()\n",
    "test_predict[\"sourcing_channel\"]=test_predict[\"sourcing_channel\"].asfactor()\n",
    "test_predict[\"residence_area_type\"]=test_predict[\"residence_area_type\"].asfactor()"
   ]
  },
  {
   "cell_type": "code",
   "execution_count": 546,
   "metadata": {
    "collapsed": true
   },
   "outputs": [],
   "source": [
    "interaction_cols_1 = ['sourcing_channel','residence_area_type']\n",
    "interaction_cols_2 = ['Count_3-6_months_late','Count_6-12_months_late','Count_more_than_12_months_late']"
   ]
  },
  {
   "cell_type": "code",
   "execution_count": 547,
   "metadata": {
    "collapsed": false
   },
   "outputs": [
    {
     "name": "stdout",
     "output_type": "stream",
     "text": [
      "Interactions progress: |██████████████████████████████████████████████████| 100%\n",
      "Interactions progress: |██████████████████████████████████████████████████| 100%\n"
     ]
    }
   ],
   "source": [
    "train['channel_residence_type'] = train.interaction(factors=interaction_cols_1,\n",
    "                                   pairwise=False,\n",
    "                                   max_factors=3125,\n",
    "                                   min_occurrence=1,\n",
    "                                   destination_frame=\"itest\")\n",
    "\n",
    "test_predict['channel_residence_type'] = test_predict.interaction(factors=interaction_cols_1,\n",
    "                                   pairwise=False,\n",
    "                                   max_factors=3125,\n",
    "                                   min_occurrence=1,\n",
    "                                   destination_frame=\"itest1\")"
   ]
  },
  {
   "cell_type": "code",
   "execution_count": 548,
   "metadata": {
    "collapsed": false
   },
   "outputs": [
    {
     "name": "stdout",
     "output_type": "stream",
     "text": [
      "Interactions progress: |██████████████████████████████████████████████████| 100%\n",
      "Interactions progress: |██████████████████████████████████████████████████| 100%\n"
     ]
    }
   ],
   "source": [
    "train['late_interaction'] = train.interaction(factors=interaction_cols_2,\n",
    "                                   pairwise=False,\n",
    "                                   max_factors=100000,\n",
    "                                   min_occurrence=1,\n",
    "                                   destination_frame=\"itest\")\n",
    "\n",
    "test_predict['late_interaction'] = test_predict.interaction(factors=interaction_cols_2,\n",
    "                                   pairwise=False,\n",
    "                                   max_factors=100000,\n",
    "                                   min_occurrence=1,\n",
    "                                   destination_frame=\"itest1\")"
   ]
  },
  {
   "cell_type": "code",
   "execution_count": 549,
   "metadata": {
    "collapsed": true
   },
   "outputs": [],
   "source": [
    "def model_prep(df, train_ratio, test_ratio):\n",
    "    train_R, test_R, rest_of_df_R = df.split_frame(ratios=[train_ratio, test_ratio])\n",
    "    exclude_field = ['id']\n",
    "    target = ['renewal'] \n",
    "    features = [x for x in df.columns if x not in target and x not in exclude_field]\n",
    "    return train_R, test_R, target, features"
   ]
  },
  {
   "cell_type": "code",
   "execution_count": 550,
   "metadata": {
    "collapsed": false
   },
   "outputs": [],
   "source": [
    "train, test, target, features = model_prep(train, 0.95, 0.04)"
   ]
  },
  {
   "cell_type": "code",
   "execution_count": 551,
   "metadata": {
    "collapsed": false
   },
   "outputs": [
    {
     "name": "stdout",
     "output_type": "stream",
     "text": [
      "drf Model Build progress: |███████████████████████████████████████████████| 100%\n"
     ]
    }
   ],
   "source": [
    "trained_model = H2ORandomForestEstimator(model_id = 'trained_model'\n",
    "                               ,balance_classes=True\n",
    "                               ,binomial_double_trees=True\n",
    "                               ,ntrees=15\n",
    "                               ,seed=15)\n",
    "\n",
    "trained_model.train(x=features, y=target[0], training_frame = train)"
   ]
  },
  {
   "cell_type": "code",
   "execution_count": 552,
   "metadata": {
    "collapsed": true
   },
   "outputs": [],
   "source": [
    "mod_performance = trained_model.model_performance(test_data=test)"
   ]
  },
  {
   "cell_type": "code",
   "execution_count": 553,
   "metadata": {
    "collapsed": false
   },
   "outputs": [
    {
     "data": {
      "text/html": [
       "<div>\n",
       "<style>\n",
       "    .dataframe thead tr:only-child th {\n",
       "        text-align: right;\n",
       "    }\n",
       "\n",
       "    .dataframe thead th {\n",
       "        text-align: left;\n",
       "    }\n",
       "\n",
       "    .dataframe tbody tr th {\n",
       "        vertical-align: top;\n",
       "    }\n",
       "</style>\n",
       "<table border=\"1\" class=\"dataframe\">\n",
       "  <thead>\n",
       "    <tr style=\"text-align: right;\">\n",
       "      <th></th>\n",
       "      <th>variable</th>\n",
       "      <th>relative_importance</th>\n",
       "      <th>scaled_importance</th>\n",
       "      <th>percentage</th>\n",
       "    </tr>\n",
       "  </thead>\n",
       "  <tbody>\n",
       "    <tr>\n",
       "      <th>0</th>\n",
       "      <td>channel_residence_type</td>\n",
       "      <td>117894.039062</td>\n",
       "      <td>1.000000</td>\n",
       "      <td>0.200366</td>\n",
       "    </tr>\n",
       "    <tr>\n",
       "      <th>1</th>\n",
       "      <td>perc_premium_paid_by_cash_credit</td>\n",
       "      <td>105324.734375</td>\n",
       "      <td>0.893385</td>\n",
       "      <td>0.179004</td>\n",
       "    </tr>\n",
       "    <tr>\n",
       "      <th>2</th>\n",
       "      <td>late_interaction</td>\n",
       "      <td>63278.945312</td>\n",
       "      <td>0.536744</td>\n",
       "      <td>0.107545</td>\n",
       "    </tr>\n",
       "    <tr>\n",
       "      <th>3</th>\n",
       "      <td>age_in_days</td>\n",
       "      <td>61625.890625</td>\n",
       "      <td>0.522723</td>\n",
       "      <td>0.104736</td>\n",
       "    </tr>\n",
       "    <tr>\n",
       "      <th>4</th>\n",
       "      <td>no_of_premiums_paid</td>\n",
       "      <td>46452.179688</td>\n",
       "      <td>0.394016</td>\n",
       "      <td>0.078947</td>\n",
       "    </tr>\n",
       "    <tr>\n",
       "      <th>5</th>\n",
       "      <td>Income</td>\n",
       "      <td>45660.609375</td>\n",
       "      <td>0.387302</td>\n",
       "      <td>0.077602</td>\n",
       "    </tr>\n",
       "    <tr>\n",
       "      <th>6</th>\n",
       "      <td>premium</td>\n",
       "      <td>36751.652344</td>\n",
       "      <td>0.311735</td>\n",
       "      <td>0.062461</td>\n",
       "    </tr>\n",
       "    <tr>\n",
       "      <th>7</th>\n",
       "      <td>Count_3-6_months_late</td>\n",
       "      <td>30709.644531</td>\n",
       "      <td>0.260485</td>\n",
       "      <td>0.052192</td>\n",
       "    </tr>\n",
       "    <tr>\n",
       "      <th>8</th>\n",
       "      <td>Count_6-12_months_late</td>\n",
       "      <td>26491.171875</td>\n",
       "      <td>0.224703</td>\n",
       "      <td>0.045023</td>\n",
       "    </tr>\n",
       "    <tr>\n",
       "      <th>9</th>\n",
       "      <td>application_underwriting_score</td>\n",
       "      <td>24031.812500</td>\n",
       "      <td>0.203842</td>\n",
       "      <td>0.040843</td>\n",
       "    </tr>\n",
       "    <tr>\n",
       "      <th>10</th>\n",
       "      <td>sourcing_channel</td>\n",
       "      <td>18766.875000</td>\n",
       "      <td>0.159184</td>\n",
       "      <td>0.031895</td>\n",
       "    </tr>\n",
       "    <tr>\n",
       "      <th>11</th>\n",
       "      <td>residence_area_type</td>\n",
       "      <td>7894.988770</td>\n",
       "      <td>0.066967</td>\n",
       "      <td>0.013418</td>\n",
       "    </tr>\n",
       "    <tr>\n",
       "      <th>12</th>\n",
       "      <td>Count_more_than_12_months_late</td>\n",
       "      <td>3511.557373</td>\n",
       "      <td>0.029786</td>\n",
       "      <td>0.005968</td>\n",
       "    </tr>\n",
       "  </tbody>\n",
       "</table>\n",
       "</div>"
      ],
      "text/plain": [
       "                            variable  relative_importance  scaled_importance  \\\n",
       "0             channel_residence_type        117894.039062           1.000000   \n",
       "1   perc_premium_paid_by_cash_credit        105324.734375           0.893385   \n",
       "2                   late_interaction         63278.945312           0.536744   \n",
       "3                        age_in_days         61625.890625           0.522723   \n",
       "4                no_of_premiums_paid         46452.179688           0.394016   \n",
       "5                             Income         45660.609375           0.387302   \n",
       "6                            premium         36751.652344           0.311735   \n",
       "7              Count_3-6_months_late         30709.644531           0.260485   \n",
       "8             Count_6-12_months_late         26491.171875           0.224703   \n",
       "9     application_underwriting_score         24031.812500           0.203842   \n",
       "10                  sourcing_channel         18766.875000           0.159184   \n",
       "11               residence_area_type          7894.988770           0.066967   \n",
       "12    Count_more_than_12_months_late          3511.557373           0.029786   \n",
       "\n",
       "    percentage  \n",
       "0     0.200366  \n",
       "1     0.179004  \n",
       "2     0.107545  \n",
       "3     0.104736  \n",
       "4     0.078947  \n",
       "5     0.077602  \n",
       "6     0.062461  \n",
       "7     0.052192  \n",
       "8     0.045023  \n",
       "9     0.040843  \n",
       "10    0.031895  \n",
       "11    0.013418  \n",
       "12    0.005968  "
      ]
     },
     "execution_count": 553,
     "metadata": {},
     "output_type": "execute_result"
    }
   ],
   "source": [
    "feature_importance = trained_model._model_json['output']['variable_importances'].as_data_frame()\n",
    "feature_importance"
   ]
  },
  {
   "cell_type": "code",
   "execution_count": 554,
   "metadata": {
    "collapsed": true
   },
   "outputs": [],
   "source": [
    "features = feature_importance.variable[:10].tolist()"
   ]
  },
  {
   "cell_type": "code",
   "execution_count": 555,
   "metadata": {
    "collapsed": false
   },
   "outputs": [
    {
     "name": "stdout",
     "output_type": "stream",
     "text": [
      "drf Model Build progress: |███████████████████████████████████████████████| 100%\n"
     ]
    }
   ],
   "source": [
    "trained_model = H2ORandomForestEstimator(model_id = 'trained_model'\n",
    "                               ,balance_classes=True\n",
    "                               ,binomial_double_trees=True\n",
    "                               ,ntrees=100\n",
    "                               ,seed=15)\n",
    "\n",
    "trained_model.train(x=features, y=target[0], training_frame = train)"
   ]
  },
  {
   "cell_type": "code",
   "execution_count": 556,
   "metadata": {
    "collapsed": false
   },
   "outputs": [],
   "source": [
    "mod_performance = trained_model.model_performance(test_data=test)"
   ]
  },
  {
   "cell_type": "code",
   "execution_count": 557,
   "metadata": {
    "collapsed": false
   },
   "outputs": [
    {
     "name": "stdout",
     "output_type": "stream",
     "text": [
      "\n",
      "ModelMetricsBinomial: drf\n",
      "** Reported on test data. **\n",
      "\n",
      "MSE: 0.05212655604902473\n",
      "RMSE: 0.22831240888095578\n",
      "LogLoss: 0.23294033889397928\n",
      "Mean Per-Class Error: 0.23758771929824563\n",
      "AUC: 0.8199140350877193\n",
      "Gini: 0.6398280701754386\n",
      "Confusion Matrix (Act/Pred) for max f1 @ threshold = 0.6861074352459597: \n"
     ]
    },
    {
     "data": {
      "text/html": [
       "<div style=\"overflow:auto\"><table style=\"width:50%\"><tr><td><b></b></td>\n",
       "<td><b>0</b></td>\n",
       "<td><b>1</b></td>\n",
       "<td><b>Error</b></td>\n",
       "<td><b>Rate</b></td></tr>\n",
       "<tr><td>0</td>\n",
       "<td>12.0</td>\n",
       "<td>178.0</td>\n",
       "<td>0.9368</td>\n",
       "<td> (178.0/190.0)</td></tr>\n",
       "<tr><td>1</td>\n",
       "<td>6.0</td>\n",
       "<td>2994.0</td>\n",
       "<td>0.002</td>\n",
       "<td> (6.0/3000.0)</td></tr>\n",
       "<tr><td>Total</td>\n",
       "<td>18.0</td>\n",
       "<td>3172.0</td>\n",
       "<td>0.0577</td>\n",
       "<td> (184.0/3190.0)</td></tr></table></div>"
      ],
      "text/plain": [
       "       0    1     Error    Rate\n",
       "-----  ---  ----  -------  --------------\n",
       "0      12   178   0.9368   (178.0/190.0)\n",
       "1      6    2994  0.002    (6.0/3000.0)\n",
       "Total  18   3172  0.0577   (184.0/3190.0)"
      ]
     },
     "metadata": {},
     "output_type": "display_data"
    },
    {
     "name": "stdout",
     "output_type": "stream",
     "text": [
      "Maximum Metrics: Maximum metrics at their respective thresholds\n",
      "\n"
     ]
    },
    {
     "data": {
      "text/html": [
       "<div style=\"overflow:auto\"><table style=\"width:50%\"><tr><td><b>metric</b></td>\n",
       "<td><b>threshold</b></td>\n",
       "<td><b>value</b></td>\n",
       "<td><b>idx</b></td></tr>\n",
       "<tr><td>max f1</td>\n",
       "<td>0.6861074</td>\n",
       "<td>0.9701879</td>\n",
       "<td>387.0</td></tr>\n",
       "<tr><td>max f2</td>\n",
       "<td>0.0</td>\n",
       "<td>0.9874918</td>\n",
       "<td>399.0</td></tr>\n",
       "<tr><td>max f0point5</td>\n",
       "<td>0.9208396</td>\n",
       "<td>0.9593791</td>\n",
       "<td>284.0</td></tr>\n",
       "<tr><td>max accuracy</td>\n",
       "<td>0.6861074</td>\n",
       "<td>0.9423197</td>\n",
       "<td>387.0</td></tr>\n",
       "<tr><td>max precision</td>\n",
       "<td>0.9990156</td>\n",
       "<td>0.9932886</td>\n",
       "<td>9.0</td></tr>\n",
       "<tr><td>max recall</td>\n",
       "<td>0.0</td>\n",
       "<td>1.0</td>\n",
       "<td>399.0</td></tr>\n",
       "<tr><td>max specificity</td>\n",
       "<td>0.9997945</td>\n",
       "<td>0.9947368</td>\n",
       "<td>0.0</td></tr>\n",
       "<tr><td>max absolute_mcc</td>\n",
       "<td>0.9534447</td>\n",
       "<td>0.3303818</td>\n",
       "<td>225.0</td></tr>\n",
       "<tr><td>max min_per_class_accuracy</td>\n",
       "<td>0.9841934</td>\n",
       "<td>0.7616667</td>\n",
       "<td>120.0</td></tr>\n",
       "<tr><td>max mean_per_class_accuracy</td>\n",
       "<td>0.9841934</td>\n",
       "<td>0.7624123</td>\n",
       "<td>120.0</td></tr></table></div>"
      ],
      "text/plain": [
       "metric                       threshold    value     idx\n",
       "---------------------------  -----------  --------  -----\n",
       "max f1                       0.686107     0.970188  387\n",
       "max f2                       0            0.987492  399\n",
       "max f0point5                 0.92084      0.959379  284\n",
       "max accuracy                 0.686107     0.94232   387\n",
       "max precision                0.999016     0.993289  9\n",
       "max recall                   0            1         399\n",
       "max specificity              0.999795     0.994737  0\n",
       "max absolute_mcc             0.953445     0.330382  225\n",
       "max min_per_class_accuracy   0.984193     0.761667  120\n",
       "max mean_per_class_accuracy  0.984193     0.762412  120"
      ]
     },
     "metadata": {},
     "output_type": "display_data"
    },
    {
     "name": "stdout",
     "output_type": "stream",
     "text": [
      "Gains/Lift Table: Avg response rate: 94.04 %\n",
      "\n"
     ]
    },
    {
     "data": {
      "text/html": [
       "<div style=\"overflow:auto\"><table style=\"width:50%\"><tr><td><b></b></td>\n",
       "<td><b>group</b></td>\n",
       "<td><b>cumulative_data_fraction</b></td>\n",
       "<td><b>lower_threshold</b></td>\n",
       "<td><b>lift</b></td>\n",
       "<td><b>cumulative_lift</b></td>\n",
       "<td><b>response_rate</b></td>\n",
       "<td><b>cumulative_response_rate</b></td>\n",
       "<td><b>capture_rate</b></td>\n",
       "<td><b>cumulative_capture_rate</b></td>\n",
       "<td><b>gain</b></td>\n",
       "<td><b>cumulative_gain</b></td></tr>\n",
       "<tr><td></td>\n",
       "<td>1</td>\n",
       "<td>0.0100313</td>\n",
       "<td>0.9996550</td>\n",
       "<td>0.996875</td>\n",
       "<td>0.996875</td>\n",
       "<td>0.9375</td>\n",
       "<td>0.9375</td>\n",
       "<td>0.01</td>\n",
       "<td>0.01</td>\n",
       "<td>-0.3125000</td>\n",
       "<td>-0.3125000</td></tr>\n",
       "<tr><td></td>\n",
       "<td>2</td>\n",
       "<td>0.0200627</td>\n",
       "<td>0.9995619</td>\n",
       "<td>1.0633333</td>\n",
       "<td>1.0301042</td>\n",
       "<td>1.0</td>\n",
       "<td>0.96875</td>\n",
       "<td>0.0106667</td>\n",
       "<td>0.0206667</td>\n",
       "<td>6.3333333</td>\n",
       "<td>3.0104167</td></tr>\n",
       "<tr><td></td>\n",
       "<td>3</td>\n",
       "<td>0.0300940</td>\n",
       "<td>0.9994846</td>\n",
       "<td>1.0633333</td>\n",
       "<td>1.0411806</td>\n",
       "<td>1.0</td>\n",
       "<td>0.9791667</td>\n",
       "<td>0.0106667</td>\n",
       "<td>0.0313333</td>\n",
       "<td>6.3333333</td>\n",
       "<td>4.1180556</td></tr>\n",
       "<tr><td></td>\n",
       "<td>4</td>\n",
       "<td>0.0401254</td>\n",
       "<td>0.9994030</td>\n",
       "<td>1.0633333</td>\n",
       "<td>1.0467187</td>\n",
       "<td>1.0</td>\n",
       "<td>0.984375</td>\n",
       "<td>0.0106667</td>\n",
       "<td>0.042</td>\n",
       "<td>6.3333333</td>\n",
       "<td>4.6718750</td></tr>\n",
       "<tr><td></td>\n",
       "<td>5</td>\n",
       "<td>0.0501567</td>\n",
       "<td>0.9993467</td>\n",
       "<td>1.0633333</td>\n",
       "<td>1.0500417</td>\n",
       "<td>1.0</td>\n",
       "<td>0.9875</td>\n",
       "<td>0.0106667</td>\n",
       "<td>0.0526667</td>\n",
       "<td>6.3333333</td>\n",
       "<td>5.0041667</td></tr>\n",
       "<tr><td></td>\n",
       "<td>6</td>\n",
       "<td>0.1</td>\n",
       "<td>0.9988668</td>\n",
       "<td>1.0566457</td>\n",
       "<td>1.0533333</td>\n",
       "<td>0.9937107</td>\n",
       "<td>0.9905956</td>\n",
       "<td>0.0526667</td>\n",
       "<td>0.1053333</td>\n",
       "<td>5.6645702</td>\n",
       "<td>5.3333333</td></tr>\n",
       "<tr><td></td>\n",
       "<td>7</td>\n",
       "<td>0.1501567</td>\n",
       "<td>0.9983181</td>\n",
       "<td>1.0500417</td>\n",
       "<td>1.0522338</td>\n",
       "<td>0.9875</td>\n",
       "<td>0.9895616</td>\n",
       "<td>0.0526667</td>\n",
       "<td>0.158</td>\n",
       "<td>5.0041667</td>\n",
       "<td>5.2233820</td></tr>\n",
       "<tr><td></td>\n",
       "<td>8</td>\n",
       "<td>0.2</td>\n",
       "<td>0.9978279</td>\n",
       "<td>1.0566457</td>\n",
       "<td>1.0533333</td>\n",
       "<td>0.9937107</td>\n",
       "<td>0.9905956</td>\n",
       "<td>0.0526667</td>\n",
       "<td>0.2106667</td>\n",
       "<td>5.6645702</td>\n",
       "<td>5.3333333</td></tr>\n",
       "<tr><td></td>\n",
       "<td>9</td>\n",
       "<td>0.3</td>\n",
       "<td>0.9968720</td>\n",
       "<td>1.0466667</td>\n",
       "<td>1.0511111</td>\n",
       "<td>0.9843260</td>\n",
       "<td>0.9885057</td>\n",
       "<td>0.1046667</td>\n",
       "<td>0.3153333</td>\n",
       "<td>4.6666667</td>\n",
       "<td>5.1111111</td></tr>\n",
       "<tr><td></td>\n",
       "<td>10</td>\n",
       "<td>0.4</td>\n",
       "<td>0.9956782</td>\n",
       "<td>1.0433333</td>\n",
       "<td>1.0491667</td>\n",
       "<td>0.9811912</td>\n",
       "<td>0.9866771</td>\n",
       "<td>0.1043333</td>\n",
       "<td>0.4196667</td>\n",
       "<td>4.3333333</td>\n",
       "<td>4.9166667</td></tr>\n",
       "<tr><td></td>\n",
       "<td>11</td>\n",
       "<td>0.5</td>\n",
       "<td>0.9938794</td>\n",
       "<td>1.05</td>\n",
       "<td>1.0493333</td>\n",
       "<td>0.9874608</td>\n",
       "<td>0.9868339</td>\n",
       "<td>0.105</td>\n",
       "<td>0.5246667</td>\n",
       "<td>5.0000000</td>\n",
       "<td>4.9333333</td></tr>\n",
       "<tr><td></td>\n",
       "<td>12</td>\n",
       "<td>0.6</td>\n",
       "<td>0.9907785</td>\n",
       "<td>1.03</td>\n",
       "<td>1.0461111</td>\n",
       "<td>0.9686520</td>\n",
       "<td>0.9838036</td>\n",
       "<td>0.103</td>\n",
       "<td>0.6276667</td>\n",
       "<td>3.0000000</td>\n",
       "<td>4.6111111</td></tr>\n",
       "<tr><td></td>\n",
       "<td>13</td>\n",
       "<td>0.7</td>\n",
       "<td>0.9860518</td>\n",
       "<td>1.02</td>\n",
       "<td>1.0423810</td>\n",
       "<td>0.9592476</td>\n",
       "<td>0.9802956</td>\n",
       "<td>0.102</td>\n",
       "<td>0.7296667</td>\n",
       "<td>2.0000000</td>\n",
       "<td>4.2380952</td></tr>\n",
       "<tr><td></td>\n",
       "<td>14</td>\n",
       "<td>0.8</td>\n",
       "<td>0.9778704</td>\n",
       "<td>0.9966667</td>\n",
       "<td>1.0366667</td>\n",
       "<td>0.9373041</td>\n",
       "<td>0.9749216</td>\n",
       "<td>0.0996667</td>\n",
       "<td>0.8293333</td>\n",
       "<td>-0.3333333</td>\n",
       "<td>3.6666667</td></tr>\n",
       "<tr><td></td>\n",
       "<td>15</td>\n",
       "<td>0.9</td>\n",
       "<td>0.9567759</td>\n",
       "<td>0.9466667</td>\n",
       "<td>1.0266667</td>\n",
       "<td>0.8902821</td>\n",
       "<td>0.9655172</td>\n",
       "<td>0.0946667</td>\n",
       "<td>0.924</td>\n",
       "<td>-5.3333333</td>\n",
       "<td>2.6666667</td></tr>\n",
       "<tr><td></td>\n",
       "<td>16</td>\n",
       "<td>1.0</td>\n",
       "<td>0.0</td>\n",
       "<td>0.7600000</td>\n",
       "<td>1.0</td>\n",
       "<td>0.7147335</td>\n",
       "<td>0.9404389</td>\n",
       "<td>0.076</td>\n",
       "<td>1.0</td>\n",
       "<td>-24.0000000</td>\n",
       "<td>0.0</td></tr></table></div>"
      ],
      "text/plain": [
       "    group    cumulative_data_fraction    lower_threshold    lift      cumulative_lift    response_rate    cumulative_response_rate    capture_rate    cumulative_capture_rate    gain       cumulative_gain\n",
       "--  -------  --------------------------  -----------------  --------  -----------------  ---------------  --------------------------  --------------  -------------------------  ---------  -----------------\n",
       "    1        0.0100313                   0.999655           0.996875  0.996875           0.9375           0.9375                      0.01            0.01                       -0.3125    -0.3125\n",
       "    2        0.0200627                   0.999562           1.06333   1.0301             1                0.96875                     0.0106667       0.0206667                  6.33333    3.01042\n",
       "    3        0.030094                    0.999485           1.06333   1.04118            1                0.979167                    0.0106667       0.0313333                  6.33333    4.11806\n",
       "    4        0.0401254                   0.999403           1.06333   1.04672            1                0.984375                    0.0106667       0.042                      6.33333    4.67187\n",
       "    5        0.0501567                   0.999347           1.06333   1.05004            1                0.9875                      0.0106667       0.0526667                  6.33333    5.00417\n",
       "    6        0.1                         0.998867           1.05665   1.05333            0.993711         0.990596                    0.0526667       0.105333                   5.66457    5.33333\n",
       "    7        0.150157                    0.998318           1.05004   1.05223            0.9875           0.989562                    0.0526667       0.158                      5.00417    5.22338\n",
       "    8        0.2                         0.997828           1.05665   1.05333            0.993711         0.990596                    0.0526667       0.210667                   5.66457    5.33333\n",
       "    9        0.3                         0.996872           1.04667   1.05111            0.984326         0.988506                    0.104667        0.315333                   4.66667    5.11111\n",
       "    10       0.4                         0.995678           1.04333   1.04917            0.981191         0.986677                    0.104333        0.419667                   4.33333    4.91667\n",
       "    11       0.5                         0.993879           1.05      1.04933            0.987461         0.986834                    0.105           0.524667                   5          4.93333\n",
       "    12       0.6                         0.990778           1.03      1.04611            0.968652         0.983804                    0.103           0.627667                   3          4.61111\n",
       "    13       0.7                         0.986052           1.02      1.04238            0.959248         0.980296                    0.102           0.729667                   2          4.2381\n",
       "    14       0.8                         0.97787            0.996667  1.03667            0.937304         0.974922                    0.0996667       0.829333                   -0.333333  3.66667\n",
       "    15       0.9                         0.956776           0.946667  1.02667            0.890282         0.965517                    0.0946667       0.924                      -5.33333   2.66667\n",
       "    16       1                           0                  0.76      1                  0.714734         0.940439                    0.076           1                          -24        0"
      ]
     },
     "metadata": {},
     "output_type": "display_data"
    },
    {
     "name": "stdout",
     "output_type": "stream",
     "text": [
      "\n",
      "\n"
     ]
    }
   ],
   "source": [
    "print (mod_performance)"
   ]
  },
  {
   "cell_type": "code",
   "execution_count": 558,
   "metadata": {
    "collapsed": false
   },
   "outputs": [],
   "source": [
    "#effort-incentives\n",
    "def effort_incentives(x):\n",
    "    return (10 * ( 1 - (math.exp(-x/400))))\n",
    "\n",
    "#% improvement in renewal prob vs effort curve\n",
    "def percent_renewal_improvement(x):\n",
    "    return (.20 * ( 1 - (math.exp(-x/5))))\n",
    "\n",
    "def incentives_perc(predict_renewal, percent_renewal_improvement):\n",
    "    if (predict_renewal + percent_renewal_improvement) >= 1:\n",
    "        renewal = (1 - predict_renewal)\n",
    "    else:\n",
    "        renewal = percent_renewal_improvement\n",
    "    return (predict_renewal * ( predict_renewal * renewal)) "
   ]
  },
  {
   "cell_type": "code",
   "execution_count": 559,
   "metadata": {
    "collapsed": false
   },
   "outputs": [
    {
     "name": "stdout",
     "output_type": "stream",
     "text": [
      "drf prediction progress: |████████████████████████████████████████████████| 100%\n"
     ]
    }
   ],
   "source": [
    "test['predict_renewal'] = trained_model.predict(test)['p1']\n",
    "test = test.as_data_frame(use_pandas=True)\n",
    "\n",
    "test['effort_incentives'] = test['predict_renewal'].apply(effort_incentives)\n",
    "test['percent_renewal_improvement'] = test['predict_renewal'].apply(percent_renewal_improvement)\n",
    "\n",
    "test['incentives_perc'] = test.apply(lambda row: incentives_perc(row['predict_renewal'], row['percent_renewal_improvement']), axis=1)\n",
    "\n",
    "test['incentives'] = test.incentives_perc * test.premium"
   ]
  },
  {
   "cell_type": "code",
   "execution_count": 560,
   "metadata": {
    "collapsed": false
   },
   "outputs": [
    {
     "name": "stdout",
     "output_type": "stream",
     "text": [
      "drf prediction progress: |████████████████████████████████████████████████| 100%\n"
     ]
    }
   ],
   "source": [
    "test_predict['predict_renewal'] = trained_model.predict(test_predict)['p1']\n",
    "test_predict = test_predict.as_data_frame(use_pandas=True)\n",
    "\n",
    "test_predict['effort_incentives'] = test_predict['predict_renewal'].apply(effort_incentives)\n",
    "test_predict['percent_renewal_improvement'] = test_predict['predict_renewal'].apply(percent_renewal_improvement)\n",
    "\n",
    "test_predict['incentives_perc'] = test_predict.apply(lambda row: incentives_perc(row['predict_renewal'], row['percent_renewal_improvement']), axis=1)\n",
    "\n",
    "test_predict['incentives'] = test_predict.incentives_perc * test_predict.premium"
   ]
  },
  {
   "cell_type": "code",
   "execution_count": 561,
   "metadata": {
    "collapsed": false
   },
   "outputs": [],
   "source": [
    "test_predict = test_predict[['id', 'predict_renewal','incentives']]\n",
    "test_predict.columns = ['id' , 'renewal','incentives']"
   ]
  },
  {
   "cell_type": "code",
   "execution_count": 562,
   "metadata": {
    "collapsed": false
   },
   "outputs": [],
   "source": [
    "test_predict.to_csv('bryce_beckwith_submission.csv')"
   ]
  },
  {
   "cell_type": "code",
   "execution_count": 563,
   "metadata": {
    "collapsed": true
   },
   "outputs": [],
   "source": [
    "test_predict.to_csv('final_submission.csv')"
   ]
  }
 ],
 "metadata": {
  "anaconda-cloud": {},
  "kernelspec": {
   "display_name": "Python [conda env:python35]",
   "language": "python",
   "name": "conda-env-python35-py"
  },
  "language_info": {
   "codemirror_mode": {
    "name": "ipython",
    "version": 3
   },
   "file_extension": ".py",
   "mimetype": "text/x-python",
   "name": "python",
   "nbconvert_exporter": "python",
   "pygments_lexer": "ipython3",
   "version": "3.5.2"
  }
 },
 "nbformat": 4,
 "nbformat_minor": 1
}
