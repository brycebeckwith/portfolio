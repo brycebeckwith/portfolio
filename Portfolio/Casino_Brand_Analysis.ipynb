{
 "cells": [
  {
   "cell_type": "code",
   "execution_count": 13,
   "metadata": {
    "collapsed": true
   },
   "outputs": [],
   "source": [
    "import requests\n",
    "from bs4 import BeautifulSoup"
   ]
  },
  {
   "cell_type": "code",
   "execution_count": 31,
   "metadata": {
    "collapsed": false
   },
   "outputs": [
    {
     "data": {
      "text/plain": [
       "11"
      ]
     },
     "execution_count": 31,
     "metadata": {},
     "output_type": "execute_result"
    }
   ],
   "source": [
    "req = requests.get('https://www.tripadvisor.com/ShowTopic-g45963-i10-k7671083-MLife-Las_Vegas_Nevada.html')\n",
    "soup = BeautifulSoup(req.text, \"lxml\")\n",
    "\n",
    "Mlife_trip_advisor1 = []\n",
    "for post in soup.findAll(attrs={'class' : 'postBody'}):\n",
    "    Mlife_trip_advisor1.append(post.p)\n",
    "    \n",
    "len(Mlife_trip_advisor1)"
   ]
  },
  {
   "cell_type": "code",
   "execution_count": 33,
   "metadata": {
    "collapsed": false
   },
   "outputs": [
    {
     "data": {
      "text/plain": [
       "15"
      ]
     },
     "execution_count": 33,
     "metadata": {},
     "output_type": "execute_result"
    }
   ],
   "source": [
    "req = requests.get('https://www.tripadvisor.com/ShowTopic-g45963-i10-k7671083-o10-MLife-Las_Vegas_Nevada.html')\n",
    "soup = BeautifulSoup(req.text, \"lxml\")\n",
    "\n",
    "for post in soup.findAll(attrs={'class' : 'postBody'}):\n",
    "    Mlife_trip_advisor1.append(post.p)\n",
    "    \n",
    "len(Mlife_trip_advisor1)"
   ]
  },
  {
   "cell_type": "code",
   "execution_count": 36,
   "metadata": {
    "collapsed": false
   },
   "outputs": [
    {
     "data": {
      "text/plain": [
       "9"
      ]
     },
     "execution_count": 36,
     "metadata": {},
     "output_type": "execute_result"
    }
   ],
   "source": [
    "req = requests.get('https://www.tripadvisor.com/ShowTopic-g45963-i10-k7025850-M_Life_and_Total_Rewards-Las_Vegas_Nevada.html')\n",
    "soup = BeautifulSoup(req.text, \"lxml\")\n",
    "\n",
    "TR_Mlife = []\n",
    "for post in soup.findAll(attrs={'class' : 'postBody'}):\n",
    "    TR_Mlife.append(post.p)\n",
    "    \n",
    "len(TR_Mlife)"
   ]
  },
  {
   "cell_type": "code",
   "execution_count": 37,
   "metadata": {
    "collapsed": false
   },
   "outputs": [
    {
     "data": {
      "text/plain": [
       "4"
      ]
     },
     "execution_count": 37,
     "metadata": {},
     "output_type": "execute_result"
    }
   ],
   "source": [
    "req = requests.get('https://www.tripadvisor.com/ShowTopic-g45963-i10-k10482442-Collection_of_Total_Rewards_Membership_card-Las_Vegas_Nevada.html')\n",
    "soup = BeautifulSoup(req.text, \"lxml\")\n",
    "\n",
    "Total_Rewards_Membership = []\n",
    "for post in soup.findAll(attrs={'class' : 'postBody'}):\n",
    "    Total_Rewards_Membership.append(post.p)\n",
    "    \n",
    "len(Total_Rewards_Membership)"
   ]
  },
  {
   "cell_type": "code",
   "execution_count": 38,
   "metadata": {
    "collapsed": false
   },
   "outputs": [
    {
     "data": {
      "text/plain": [
       "11"
      ]
     },
     "execution_count": 38,
     "metadata": {},
     "output_type": "execute_result"
    }
   ],
   "source": [
    "req = requests.get('https://www.tripadvisor.com/ShowTopic-g45963-i10-k7675144-FoundersCard_and_Total_Rewards_Diamond_Status-Las_Vegas_Nevada.html')\n",
    "soup = BeautifulSoup(req.text, \"lxml\")\n",
    "\n",
    "Total_Rewards_Diamond = []\n",
    "for post in soup.findAll(attrs={'class' : 'postBody'}):\n",
    "    Total_Rewards_Diamond.append(post.p)\n",
    "    \n",
    "len(Total_Rewards_Diamond)"
   ]
  },
  {
   "cell_type": "code",
   "execution_count": 39,
   "metadata": {
    "collapsed": false
   },
   "outputs": [
    {
     "data": {
      "text/plain": [
       "5"
      ]
     },
     "execution_count": 39,
     "metadata": {},
     "output_type": "execute_result"
    }
   ],
   "source": [
    "req = requests.get('https://www.tripadvisor.com/ShowTopic-g45963-i10-k8910396-VIP_Pass_for_10K_spend_with_TR_VISA_what_do_you_get-Las_Vegas_Nevada.html')\n",
    "soup = BeautifulSoup(req.text, \"lxml\")\n",
    "\n",
    "TR_VISA = []\n",
    "for post in soup.findAll(attrs={'class' : 'postBody'}):\n",
    "    TR_VISA.append(post.p)\n",
    "    \n",
    "len(TR_VISA)"
   ]
  },
  {
   "cell_type": "code",
   "execution_count": 40,
   "metadata": {
    "collapsed": false
   },
   "outputs": [
    {
     "data": {
      "text/plain": [
       "11"
      ]
     },
     "execution_count": 40,
     "metadata": {},
     "output_type": "execute_result"
    }
   ],
   "source": [
    "req = requests.get('https://www.tripadvisor.com/ShowTopic-g45963-i10-k10953544-Total_Rewards_Increases_Credits_for_Diamond_Lounge_Access-Las_Vegas_Nevada.html')\n",
    "soup = BeautifulSoup(req.text, \"lxml\")\n",
    "\n",
    "TR_diamond = []\n",
    "for post in soup.findAll(attrs={'class' : 'postBody'}):\n",
    "    TR_diamond.append(post.p)\n",
    "    \n",
    "len(TR_diamond)"
   ]
  },
  {
   "cell_type": "code",
   "execution_count": 27,
   "metadata": {
    "collapsed": false
   },
   "outputs": [],
   "source": [
    "y = [1,2,3,4,5,6,7,8,9,10,11]\n",
    "TR_diamond = []\n",
    "for pos in y:\n",
    "    req = requests.get(\"https://www.tripadvisor.com/ShowTopic-g45963-i10-k10953544-o%d-Total_Rewards_Increases_Credits_for_Diamond_Lounge_Access-Las_Vegas_Nevada.html\" % pos )\n",
    "    soup = BeautifulSoup(req.text, \"lxml\")\n",
    "\n",
    "    for post in soup.findAll(attrs={'class' : 'postBody'}):\n",
    "        TR_diamond.append(post.p)\n",
    "    \n",
    "    TR_diamond[:1]"
   ]
  },
  {
   "cell_type": "code",
   "execution_count": 28,
   "metadata": {
    "collapsed": false
   },
   "outputs": [
    {
     "data": {
      "text/plain": [
       "121"
      ]
     },
     "execution_count": 28,
     "metadata": {},
     "output_type": "execute_result"
    }
   ],
   "source": [
    "len(TR_diamond)"
   ]
  },
  {
   "cell_type": "code",
   "execution_count": 43,
   "metadata": {
    "collapsed": false
   },
   "outputs": [
    {
     "data": {
      "text/plain": [
       "11"
      ]
     },
     "execution_count": 43,
     "metadata": {},
     "output_type": "execute_result"
    }
   ],
   "source": [
    "mlife_military = []\n",
    "req = requests.get(\"https://www.tripadvisor.com/ShowTopic-g45963-i10-k10728760-MLIFE_New_FREE_Military_Veterans_Program_MVP-Las_Vegas_Nevada.html\" )\n",
    "soup = BeautifulSoup(req.text, \"lxml\")\n",
    "\n",
    "for post in soup.findAll(attrs={'class' : 'postBody'}):\n",
    "    mlife_military.append(post.p)\n",
    "    \n",
    "len(mlife_military)"
   ]
  },
  {
   "cell_type": "code",
   "execution_count": 44,
   "metadata": {
    "collapsed": false
   },
   "outputs": [
    {
     "data": {
      "text/plain": [
       "10"
      ]
     },
     "execution_count": 44,
     "metadata": {},
     "output_type": "execute_result"
    }
   ],
   "source": [
    "mlife_general = []\n",
    "req = requests.get(\"https://www.tripadvisor.com/ShowTopic-g45963-i10-k5357364-What_is_mlife-Las_Vegas_Nevada.html\" )\n",
    "soup = BeautifulSoup(req.text, \"lxml\")\n",
    "\n",
    "for post in soup.findAll(attrs={'class' : 'postBody'}):\n",
    "    mlife_general.append(post.p)\n",
    "    \n",
    "len(mlife_general)"
   ]
  },
  {
   "cell_type": "code",
   "execution_count": 45,
   "metadata": {
    "collapsed": false
   },
   "outputs": [
    {
     "data": {
      "text/plain": [
       "11"
      ]
     },
     "execution_count": 45,
     "metadata": {},
     "output_type": "execute_result"
    }
   ],
   "source": [
    "TR_general = []\n",
    "req = requests.get(\"https://www.tripadvisor.com/ShowTopic-g45963-i10-k4518639-Total_Rewards_Comps-Las_Vegas_Nevada.html\" )\n",
    "soup = BeautifulSoup(req.text, \"lxml\")\n",
    "\n",
    "for post in soup.findAll(attrs={'class' : 'postBody'}):\n",
    "    TR_general.append(post.p)\n",
    "    \n",
    "len(TR_general)"
   ]
  },
  {
   "cell_type": "code",
   "execution_count": 51,
   "metadata": {
    "collapsed": false
   },
   "outputs": [
    {
     "data": {
      "text/plain": [
       "11"
      ]
     },
     "execution_count": 51,
     "metadata": {},
     "output_type": "execute_result"
    }
   ],
   "source": [
    "TR_vs_Mlife = []\n",
    "req = requests.get(\"https://www.tripadvisor.com/ShowTopic-g45963-i10-k6721650-Who_should_make_the_switch_Total_Rewards_vs_MLife-Las_Vegas_Nevada.html\" )\n",
    "soup = BeautifulSoup(req.text, \"lxml\")\n",
    "\n",
    "for post in soup.findAll(attrs={'class' : 'postBody'}):\n",
    "    TR_vs_Mlife.append(post.p)\n",
    "    \n",
    "len(TR_general)"
   ]
  },
  {
   "cell_type": "code",
   "execution_count": 52,
   "metadata": {
    "collapsed": false
   },
   "outputs": [
    {
     "data": {
      "text/plain": [
       "36"
      ]
     },
     "execution_count": 52,
     "metadata": {},
     "output_type": "execute_result"
    }
   ],
   "source": [
    "y = [1,2,3]\n",
    "for pos in y:\n",
    "    req = requests.get(\"https://www.tripadvisor.com/ShowTopic-g45963-i10-k6721650-o%d0-Who_should_make_the_switch_Total_Rewards_vs_MLife-Las_Vegas_Nevada.html\" % pos )\n",
    "    soup = BeautifulSoup(req.text, \"lxml\")\n",
    "\n",
    "    for post in soup.findAll(attrs={'class' : 'postBody'}):\n",
    "        TR_vs_Mlife.append(post.p)\n",
    "    \n",
    "len(TR_vs_Mlife)"
   ]
  },
  {
   "cell_type": "code",
   "execution_count": 56,
   "metadata": {
    "collapsed": false
   },
   "outputs": [
    {
     "data": {
      "text/plain": [
       "11"
      ]
     },
     "execution_count": 56,
     "metadata": {},
     "output_type": "execute_result"
    }
   ],
   "source": [
    "mgm_tr = []\n",
    "req = requests.get(\"https://www.tripadvisor.com/ShowTopic-g45963-i10-k7432956-MGM_Resorts_vs_CET-Las_Vegas_Nevada.html\" )\n",
    "soup = BeautifulSoup(req.text, \"lxml\")\n",
    "\n",
    "for post in soup.findAll(attrs={'class' : 'postBody'}):\n",
    "    mgm_tr.append(post.p)\n",
    "    \n",
    "len(mgm_tr)"
   ]
  },
  {
   "cell_type": "code",
   "execution_count": 58,
   "metadata": {
    "collapsed": false
   },
   "outputs": [
    {
     "data": {
      "text/plain": [
       "37"
      ]
     },
     "execution_count": 58,
     "metadata": {},
     "output_type": "execute_result"
    }
   ],
   "source": [
    "y = [1,2,3]\n",
    "for pos in y:\n",
    "    req = requests.get(\"https://www.tripadvisor.com/ShowTopic-g45963-i10-k7432956-o%d0-MGM_Resorts_vs_CET-Las_Vegas_Nevada.html\" % pos )\n",
    "    soup = BeautifulSoup(req.text, \"lxml\")\n",
    "\n",
    "    for post in soup.findAll(attrs={'class' : 'postBody'}):\n",
    "        mgm_tr.append(post.p)\n",
    "    \n",
    "len(mgm_tr)"
   ]
  },
  {
   "cell_type": "code",
   "execution_count": 60,
   "metadata": {
    "collapsed": false
   },
   "outputs": [
    {
     "data": {
      "text/plain": [
       "[<p>I've just checked my Total Rewards account and I put in dates for August to stay at Harrahs only to find I would be comped the rooms.</p>]"
      ]
     },
     "execution_count": 60,
     "metadata": {},
     "output_type": "execute_result"
    }
   ],
   "source": [
    "mgm_tr[:1]\n",
    "TR_vs_Mlife[:1]\n",
    "TR_general[:1]\n",
    "mlife_general[:1]\n",
    "TR_diamond[:1]\n",
    "TR_VISA[:1]\n",
    "Total_Rewards_Diamond[:1]\n",
    "TR_Mlife[:1]\n",
    "Mlife_trip_advisor1[:1]"
   ]
  },
  {
   "cell_type": "code",
   "execution_count": 203,
   "metadata": {
    "collapsed": false
   },
   "outputs": [],
   "source": [
    "import pandas as pd\n",
    "mgm_tr_df = pd.DataFrame({'comment':mgm_tr, 'post':'mgm_tr' })\n",
    "TR_vs_Mlife_df = pd.DataFrame({'comment':TR_vs_Mlife, 'post':'TR_vs_Mlife' })\n",
    "TR_general_df = pd.DataFrame({'comment':TR_general, 'post':'TR_general' })\n",
    "mlife_general_df = pd.DataFrame({'comment':mlife_general, 'post':'mlife_general' })\n",
    "TR_diamond_df = pd.DataFrame({'comment':TR_diamond, 'post':'TR_diamond' })\n",
    "TR_VISA_df = pd.DataFrame({'comment':TR_VISA, 'post':'TR_VISA' })\n",
    "Total_Rewards_Diamond_df = pd.DataFrame({'comment':Total_Rewards_Diamond, 'post':'Total_Rewards_Diamond' })\n",
    "TR_Mlife_df = pd.DataFrame({'comment':TR_Mlife, 'post':'TR_Mlife' })\n",
    "Mlife_trip_advisor1_df = pd.DataFrame({'comment':Mlife_trip_advisor1, 'post':'Mlife_trip_advisor1' })"
   ]
  },
  {
   "cell_type": "code",
   "execution_count": 204,
   "metadata": {
    "collapsed": false
   },
   "outputs": [],
   "source": [
    "df = pd.concat([mgm_tr_df, TR_vs_Mlife_df, TR_general_df, mlife_general_df, TR_diamond_df,TR_VISA_df,Total_Rewards_Diamond_df,TR_Mlife_df,Mlife_trip_advisor1_df])"
   ]
  },
  {
   "cell_type": "code",
   "execution_count": 205,
   "metadata": {
    "collapsed": false
   },
   "outputs": [
    {
     "data": {
      "text/html": [
       "<div>\n",
       "<style>\n",
       "    .dataframe thead tr:only-child th {\n",
       "        text-align: right;\n",
       "    }\n",
       "\n",
       "    .dataframe thead th {\n",
       "        text-align: left;\n",
       "    }\n",
       "\n",
       "    .dataframe tbody tr th {\n",
       "        vertical-align: top;\n",
       "    }\n",
       "</style>\n",
       "<table border=\"1\" class=\"dataframe\">\n",
       "  <thead>\n",
       "    <tr style=\"text-align: right;\">\n",
       "      <th></th>\n",
       "      <th>comment</th>\n",
       "      <th>post</th>\n",
       "    </tr>\n",
       "  </thead>\n",
       "  <tbody>\n",
       "    <tr>\n",
       "      <th>0</th>\n",
       "      <td>&lt;p&gt;Which one do you prefer and why?&lt;/p&gt;</td>\n",
       "      <td>mgm_tr</td>\n",
       "    </tr>\n",
       "    <tr>\n",
       "      <th>1</th>\n",
       "      <td>&lt;p&gt;I have stayed at both and really have no pr...</td>\n",
       "      <td>mgm_tr</td>\n",
       "    </tr>\n",
       "    <tr>\n",
       "      <th>2</th>\n",
       "      <td>&lt;p&gt;I stay wherever the free rooms are. CET ten...</td>\n",
       "      <td>mgm_tr</td>\n",
       "    </tr>\n",
       "    <tr>\n",
       "      <th>3</th>\n",
       "      <td>&lt;p&gt;I prefer MGM hotels over CET. However, I al...</td>\n",
       "      <td>mgm_tr</td>\n",
       "    </tr>\n",
       "    <tr>\n",
       "      <th>4</th>\n",
       "      <td>&lt;p&gt;I'm with Rhinoman. We stay wherever we get ...</td>\n",
       "      <td>mgm_tr</td>\n",
       "    </tr>\n",
       "  </tbody>\n",
       "</table>\n",
       "</div>"
      ],
      "text/plain": [
       "                                             comment    post\n",
       "0            <p>Which one do you prefer and why?</p>  mgm_tr\n",
       "1  <p>I have stayed at both and really have no pr...  mgm_tr\n",
       "2  <p>I stay wherever the free rooms are. CET ten...  mgm_tr\n",
       "3  <p>I prefer MGM hotels over CET. However, I al...  mgm_tr\n",
       "4  <p>I'm with Rhinoman. We stay wherever we get ...  mgm_tr"
      ]
     },
     "execution_count": 205,
     "metadata": {},
     "output_type": "execute_result"
    }
   ],
   "source": [
    "df.head()"
   ]
  },
  {
   "cell_type": "code",
   "execution_count": 208,
   "metadata": {
    "collapsed": false
   },
   "outputs": [],
   "source": [
    "df['comment'] = df['comment'].apply(lambda x: x[3:])\n",
    "df['comment'] = df['comment'].apply(lambda x: x[:-4])"
   ]
  },
  {
   "cell_type": "code",
   "execution_count": 209,
   "metadata": {
    "collapsed": false
   },
   "outputs": [],
   "source": [
    "df = df.apply(lambda x: x.astype(str).str.lower())"
   ]
  },
  {
   "cell_type": "code",
   "execution_count": 210,
   "metadata": {
    "collapsed": false
   },
   "outputs": [
    {
     "data": {
      "text/plain": [
       "0.18620689655172415"
      ]
     },
     "execution_count": 210,
     "metadata": {},
     "output_type": "execute_result"
    }
   ],
   "source": [
    "df.comment.str.contains(r'(?=mlife)').sum() / len(df)"
   ]
  },
  {
   "cell_type": "code",
   "execution_count": 211,
   "metadata": {
    "collapsed": false
   },
   "outputs": [
    {
     "data": {
      "text/plain": [
       "0.034482758620689655"
      ]
     },
     "execution_count": 211,
     "metadata": {},
     "output_type": "execute_result"
    }
   ],
   "source": [
    "df.comment.str.contains(r'(?=mgm resorts)').sum() / len(df)"
   ]
  },
  {
   "cell_type": "code",
   "execution_count": 212,
   "metadata": {
    "collapsed": false
   },
   "outputs": [
    {
     "data": {
      "text/plain": [
       "0.28275862068965518"
      ]
     },
     "execution_count": 212,
     "metadata": {},
     "output_type": "execute_result"
    }
   ],
   "source": [
    "df.comment.str.contains(r'(?=cet)').sum() / len(df)"
   ]
  },
  {
   "cell_type": "code",
   "execution_count": 213,
   "metadata": {
    "collapsed": false
   },
   "outputs": [
    {
     "data": {
      "text/plain": [
       "0.32413793103448274"
      ]
     },
     "execution_count": 213,
     "metadata": {},
     "output_type": "execute_result"
    }
   ],
   "source": [
    "df.comment.str.contains(r'(?=tr)').sum() / len(df)"
   ]
  },
  {
   "cell_type": "code",
   "execution_count": 214,
   "metadata": {
    "collapsed": false
   },
   "outputs": [
    {
     "data": {
      "text/plain": [
       "0.0"
      ]
     },
     "execution_count": 214,
     "metadata": {},
     "output_type": "execute_result"
    }
   ],
   "source": [
    "df.comment.str.contains(r'(?=tr)(?=a)').sum() / len(df)"
   ]
  },
  {
   "cell_type": "code",
   "execution_count": 215,
   "metadata": {
    "collapsed": false
   },
   "outputs": [],
   "source": [
    "import numpy as np\n",
    "df['cet'] = np.where(df.comment.str.contains('cet'), 1, 0)\n",
    "df['mlife'] = np.where(df.comment.str.contains('mlife'), 1, 0)\n",
    "df['mgm resorts'] = np.where(df.comment.str.contains('mgm resorts'), 1, 0)\n",
    "df['tr'] = np.where(df.comment.str.contains('tr'), 1, 0)\n",
    "df['total rewards'] = np.where(df.comment.str.contains('total rewards'), 1, 0)\n",
    "df['caesars entertainment'] = np.where(df.comment.str.contains('total rewards'), 1, 0)"
   ]
  },
  {
   "cell_type": "code",
   "execution_count": 216,
   "metadata": {
    "collapsed": false
   },
   "outputs": [
    {
     "data": {
      "text/plain": [
       "145"
      ]
     },
     "execution_count": 216,
     "metadata": {},
     "output_type": "execute_result"
    }
   ],
   "source": [
    "len(df)"
   ]
  },
  {
   "cell_type": "code",
   "execution_count": 221,
   "metadata": {
    "collapsed": true
   },
   "outputs": [],
   "source": [
    "exclude = ['tripadvisor','auto','_blank','html','g29750']"
   ]
  },
  {
   "cell_type": "code",
   "execution_count": 222,
   "metadata": {
    "collapsed": false
   },
   "outputs": [],
   "source": [
    "df = df[~df['comment'].str.contains('|'.join(exclude))]"
   ]
  },
  {
   "cell_type": "code",
   "execution_count": 223,
   "metadata": {
    "collapsed": false
   },
   "outputs": [
    {
     "data": {
      "text/plain": [
       "130"
      ]
     },
     "execution_count": 223,
     "metadata": {},
     "output_type": "execute_result"
    }
   ],
   "source": [
    "len(df)"
   ]
  },
  {
   "cell_type": "code",
   "execution_count": 226,
   "metadata": {
    "collapsed": false
   },
   "outputs": [],
   "source": [
    "from sklearn.feature_extraction.text import CountVectorizer\n",
    "word_vectorizer = CountVectorizer(ngram_range=(5,7), analyzer='word')\n",
    "sparse_matrix = word_vectorizer.fit_transform(df['comment'])\n",
    "frequencies = sum(sparse_matrix).toarray()[0]\n",
    "trigram = pd.DataFrame(frequencies, index=word_vectorizer.get_feature_names(), columns=['frequency'])"
   ]
  },
  {
   "cell_type": "code",
   "execution_count": 228,
   "metadata": {
    "collapsed": false
   },
   "outputs": [],
   "source": [
    "tri_csv = trigram.sort_values('frequency', ascending=False)"
   ]
  },
  {
   "cell_type": "code",
   "execution_count": 229,
   "metadata": {
    "collapsed": true
   },
   "outputs": [],
   "source": [
    "tri_csv.to_csv('ngram_tripadvisor.csv')"
   ]
  },
  {
   "cell_type": "code",
   "execution_count": 233,
   "metadata": {
    "collapsed": true
   },
   "outputs": [],
   "source": [
    "df.to_csv('trip_advisor.csv')"
   ]
  },
  {
   "cell_type": "markdown",
   "metadata": {},
   "source": [
    "----"
   ]
  },
  {
   "cell_type": "code",
   "execution_count": 125,
   "metadata": {
    "collapsed": true
   },
   "outputs": [],
   "source": [
    "fstack = pd.read_csv('TotalRewards.csv')"
   ]
  },
  {
   "cell_type": "code",
   "execution_count": 126,
   "metadata": {
    "collapsed": false
   },
   "outputs": [],
   "source": [
    "fstack = fstack.iloc[:,8]"
   ]
  },
  {
   "cell_type": "code",
   "execution_count": 127,
   "metadata": {
    "collapsed": true
   },
   "outputs": [],
   "source": [
    "fstack = fstack.to_frame()"
   ]
  },
  {
   "cell_type": "code",
   "execution_count": 128,
   "metadata": {
    "collapsed": true
   },
   "outputs": [],
   "source": [
    "fstack.columns = ['comment']"
   ]
  },
  {
   "cell_type": "code",
   "execution_count": 131,
   "metadata": {
    "collapsed": false
   },
   "outputs": [],
   "source": [
    "fstack = fstack.apply(lambda x: x.astype(str).str.lower())"
   ]
  },
  {
   "cell_type": "code",
   "execution_count": 155,
   "metadata": {
    "collapsed": false
   },
   "outputs": [
    {
     "data": {
      "text/plain": [
       "0.0012999675008124798"
      ]
     },
     "execution_count": 155,
     "metadata": {},
     "output_type": "execute_result"
    }
   ],
   "source": [
    "fstack.comment.str.contains(r'(?=cet)').sum() / len(fstack)"
   ]
  },
  {
   "cell_type": "code",
   "execution_count": 156,
   "metadata": {
    "collapsed": false
   },
   "outputs": [
    {
     "data": {
      "text/plain": [
       "0.1026974325641859"
      ]
     },
     "execution_count": 156,
     "metadata": {},
     "output_type": "execute_result"
    }
   ],
   "source": [
    "fstack.comment.str.contains(r'(?=total rewards)').sum() / len(fstack)"
   ]
  },
  {
   "cell_type": "code",
   "execution_count": 157,
   "metadata": {
    "collapsed": false
   },
   "outputs": [
    {
     "data": {
      "text/plain": [
       "0.0029249268768280793"
      ]
     },
     "execution_count": 157,
     "metadata": {},
     "output_type": "execute_result"
    }
   ],
   "source": [
    "fstack.comment.str.contains(r'(?=caesars entertainment)').sum() / len(fstack)"
   ]
  },
  {
   "cell_type": "code",
   "execution_count": 234,
   "metadata": {
    "collapsed": true
   },
   "outputs": [],
   "source": [
    "word_vectorizer = CountVectorizer(ngram_range=(5,7), analyzer='word')\n",
    "sparse_matrix = word_vectorizer.fit_transform(fstack['comment'])\n",
    "frequencies = sum(sparse_matrix).toarray()[0]\n",
    "trigram = pd.DataFrame(frequencies, index=word_vectorizer.get_feature_names(), columns=['frequency'])"
   ]
  },
  {
   "cell_type": "code",
   "execution_count": 236,
   "metadata": {
    "collapsed": false
   },
   "outputs": [],
   "source": [
    "fs = trigram.sort_values('frequency', ascending=False)"
   ]
  },
  {
   "cell_type": "code",
   "execution_count": 237,
   "metadata": {
    "collapsed": true
   },
   "outputs": [],
   "source": [
    "fs.to_csv('formstack_ngram.csv')"
   ]
  },
  {
   "cell_type": "code",
   "execution_count": null,
   "metadata": {
    "collapsed": true
   },
   "outputs": [],
   "source": [
    "fstack['cet'] = np.where(fstack.comment.str.contains('cet'), 1, 0)\n",
    "fstack['mlife'] = np.where(fstack.comment.str.contains('mlife'), 1, 0)\n",
    "fstack['mgm resorts'] = np.where(fstack.comment.str.contains('mgm resorts'), 1, 0)\n",
    "fstack['tr'] = np.where(fstack.comment.str.contains('tr'), 1, 0)\n",
    "fstack['total rewards'] = np.where(fstack.comment.str.contains('total rewards'), 1, 0)\n",
    "fstack['caesars entertainment'] = np.where(fstack.comment.str.contains('total rewards'), 1, 0)"
   ]
  },
  {
   "cell_type": "code",
   "execution_count": null,
   "metadata": {
    "collapsed": true
   },
   "outputs": [],
   "source": []
  },
  {
   "cell_type": "code",
   "execution_count": 250,
   "metadata": {
    "collapsed": false
   },
   "outputs": [
    {
     "data": {
      "text/plain": [
       "Index(['ngram comment', 'frequency', 'cet', 'caesars entertainment', 'mlife',\n",
       "       'mgm resorts', 'tr', 'total rewards', 'cet tr',\n",
       "       'caesars entertainment tr', 'mlife mgm resorts', 'cet total rewards',\n",
       "       'caesars entertainment total rewards', 'mlife tr'],\n",
       "      dtype='object')"
      ]
     },
     "execution_count": 250,
     "metadata": {},
     "output_type": "execute_result"
    }
   ],
   "source": [
    "df.columns"
   ]
  },
  {
   "cell_type": "code",
   "execution_count": 282,
   "metadata": {
    "collapsed": true
   },
   "outputs": [],
   "source": [
    "df = pd.read_csv('ngram_tripadvisor.csv')"
   ]
  },
  {
   "cell_type": "code",
   "execution_count": 288,
   "metadata": {
    "collapsed": true
   },
   "outputs": [],
   "source": [
    "cet  = df[df['cet'] > 0]\n",
    "mgm  = df[df['mgm'] > 0]\n",
    "tr  = df[df['tr'] > 0]\n",
    "caesars  = df[df['caesars'] > 0]\n",
    "mlife  = df[df['mlife'] > 0]"
   ]
  },
  {
   "cell_type": "code",
   "execution_count": 295,
   "metadata": {
    "collapsed": false
   },
   "outputs": [
    {
     "data": {
      "text/plain": [
       "0.01948051948051948"
      ]
     },
     "execution_count": 295,
     "metadata": {},
     "output_type": "execute_result"
    }
   ],
   "source": [
    "sum(tr['cet']) / sum(tr['tr'])"
   ]
  },
  {
   "cell_type": "code",
   "execution_count": 292,
   "metadata": {
    "collapsed": false
   },
   "outputs": [
    {
     "data": {
      "text/plain": [
       "0.13441955193482688"
      ]
     },
     "execution_count": 292,
     "metadata": {},
     "output_type": "execute_result"
    }
   ],
   "source": [
    "sum(mlife['mgm']) / sum(mlife['mlife'])"
   ]
  },
  {
   "cell_type": "code",
   "execution_count": 290,
   "metadata": {
    "collapsed": false
   },
   "outputs": [
    {
     "data": {
      "text/plain": [
       "0.031168831168831169"
      ]
     },
     "execution_count": 290,
     "metadata": {},
     "output_type": "execute_result"
    }
   ],
   "source": [
    "sum(tr['total rewards']) / sum(tr['tr'])"
   ]
  },
  {
   "cell_type": "code",
   "execution_count": 297,
   "metadata": {
    "collapsed": false
   },
   "outputs": [
    {
     "data": {
      "text/plain": [
       "0.012219959266802444"
      ]
     },
     "execution_count": 297,
     "metadata": {},
     "output_type": "execute_result"
    }
   ],
   "source": [
    "sum(mlife['tr']) / sum(mlife['mlife'])"
   ]
  },
  {
   "cell_type": "code",
   "execution_count": 266,
   "metadata": {
    "collapsed": false
   },
   "outputs": [
    {
     "data": {
      "text/plain": [
       "0.31878787878787879"
      ]
     },
     "execution_count": 266,
     "metadata": {},
     "output_type": "execute_result"
    }
   ],
   "source": [
    "sum(df['total rewards']) / sum(df['cet'])"
   ]
  },
  {
   "cell_type": "code",
   "execution_count": 296,
   "metadata": {
    "collapsed": false
   },
   "outputs": [
    {
     "data": {
      "text/plain": [
       "0.060055496828752643"
      ]
     },
     "execution_count": 296,
     "metadata": {},
     "output_type": "execute_result"
    }
   ],
   "source": [
    "sum(df['mgm']) / sum(df['frequency'])"
   ]
  },
  {
   "cell_type": "code",
   "execution_count": 273,
   "metadata": {
    "collapsed": false
   },
   "outputs": [
    {
     "data": {
      "text/plain": [
       "0.0039640591966173359"
      ]
     },
     "execution_count": 273,
     "metadata": {},
     "output_type": "execute_result"
    }
   ],
   "source": [
    "sum(df['mgm resorts']) / sum(df['frequency'])"
   ]
  },
  {
   "cell_type": "code",
   "execution_count": 269,
   "metadata": {
    "collapsed": false
   },
   "outputs": [
    {
     "data": {
      "text/plain": [
       "0.0"
      ]
     },
     "execution_count": 269,
     "metadata": {},
     "output_type": "execute_result"
    }
   ],
   "source": [
    "sum(df['caesars entertainment']) / sum(df['frequency'])"
   ]
  },
  {
   "cell_type": "code",
   "execution_count": 246,
   "metadata": {
    "collapsed": false
   },
   "outputs": [
    {
     "data": {
      "text/plain": [
       "Index(['ngram comment', 'frequency', 'cet', 'caesars entertainment', 'mlife',\n",
       "       'mgm resorts', 'tr', 'total rewards', 'cet tr',\n",
       "       'caesars entertainment tr', 'mlife mgm resorts', 'cet total rewards',\n",
       "       'caesars entertainment total rewards', 'mlife tr'],\n",
       "      dtype='object')"
      ]
     },
     "execution_count": 246,
     "metadata": {},
     "output_type": "execute_result"
    }
   ],
   "source": [
    "df.columns"
   ]
  },
  {
   "cell_type": "code",
   "execution_count": 275,
   "metadata": {
    "collapsed": false
   },
   "outputs": [
    {
     "data": {
      "text/plain": [
       "14395"
      ]
     },
     "execution_count": 275,
     "metadata": {},
     "output_type": "execute_result"
    }
   ],
   "source": [
    "len(df)"
   ]
  },
  {
   "cell_type": "code",
   "execution_count": null,
   "metadata": {
    "collapsed": true
   },
   "outputs": [],
   "source": []
  }
 ],
 "metadata": {
  "anaconda-cloud": {},
  "kernelspec": {
   "display_name": "Python [conda env:python35]",
   "language": "python",
   "name": "conda-env-python35-py"
  },
  "language_info": {
   "codemirror_mode": {
    "name": "ipython",
    "version": 3
   },
   "file_extension": ".py",
   "mimetype": "text/x-python",
   "name": "python",
   "nbconvert_exporter": "python",
   "pygments_lexer": "ipython3",
   "version": "3.5.2"
  }
 },
 "nbformat": 4,
 "nbformat_minor": 1
}
