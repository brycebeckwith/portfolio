{
 "cells": [
  {
   "cell_type": "code",
   "execution_count": 298,
   "metadata": {
    "collapsed": true
   },
   "outputs": [],
   "source": [
    "import numpy as np\n",
    "import pandas as pd\n",
    "import matplotlib\n",
    "import matplotlib.pyplot as plt\n",
    "import scipy.stats as stats\n",
    "%matplotlib inline\n",
    "matplotlib.style.use('ggplot')\n",
    "import warnings\n",
    "warnings.filterwarnings(\"ignore\")\n",
    "from sklearn.metrics import classification_report\n",
    "from sklearn.utils import shuffle\n",
    "from sklearn import svm\n",
    "from pylab import rcParams\n",
    "rcParams['figure.figsize'] = 10, 10"
   ]
  },
  {
   "cell_type": "markdown",
   "metadata": {},
   "source": [
    "## SVM Classification of Iris & Mushroom datasets"
   ]
  },
  {
   "cell_type": "markdown",
   "metadata": {},
   "source": [
    "### Iris SVM: "
   ]
  },
  {
   "cell_type": "code",
   "execution_count": 113,
   "metadata": {
    "collapsed": false
   },
   "outputs": [
    {
     "name": "stdout",
     "output_type": "stream",
     "text": [
      "pred             Iris-setosa  Iris-versicolor  Iris-virginica\n",
      "class                                                        \n",
      "Iris-setosa                4                0               0\n",
      "Iris-versicolor            0                3               1\n",
      "Iris-virginica             0                0               2\n",
      "                 precision    recall  f1-score   support\n",
      "\n",
      "    Iris-setosa       1.00      1.00      1.00         4\n",
      " Iris-virginica       1.00      0.75      0.86         4\n",
      "Iris-versicolor       0.67      1.00      0.80         2\n",
      "\n",
      "    avg / total       0.93      0.90      0.90        10\n",
      "\n"
     ]
    },
    {
     "data": {
      "text/plain": [
       "<matplotlib.image.AxesImage at 0x11d3a8400>"
      ]
     },
     "execution_count": 113,
     "metadata": {},
     "output_type": "execute_result"
    },
    {
     "data": {
      "image/png": "[encoded data removed]",
      "text/plain": [
       "<matplotlib.figure.Figure at 0x11d01c828>"
      ]
     },
     "metadata": {},
     "output_type": "display_data"
    }
   ],
   "source": [
    "url=\"https://archive.ics.uci.edu/ml/machine-learning-databases/iris/iris.data\"\n",
    "iris =pd.read_csv(url, header=None)\n",
    "iris.columns = ['sepal_length', 'sepal_width', 'petal_length','petal_width','class']\n",
    "\n",
    "iris = shuffle(iris)\n",
    "iris_X = iris[['sepal_length', 'sepal_width', 'petal_length','petal_width']]\n",
    "iris_Y = iris[['class']]\n",
    "\n",
    "np.random.seed(0)\n",
    "\n",
    "iris_X_train = iris_X[:-10]\n",
    "iris_y_train = iris_Y[:-10]\n",
    "iris_X_test  = iris_X[-10:]\n",
    "iris_y_test  = iris_Y[-10:]\n",
    "\n",
    "svc = svm.SVC()\n",
    "svc.fit(iris_X_train, iris_y_train) \n",
    "\n",
    "iris_y_test['pred'] = svc.predict(iris_X_test)\n",
    "\n",
    "group_names = ['Iris-setosa','Iris-virginica','Iris-versicolor']\n",
    "print (pd.crosstab(iris_y_test['class'], iris_y_test['pred']))\n",
    "print(classification_report(iris_y_test['class'], iris_y_test['pred'], target_names=group_names))\n",
    "\n",
    "cf = pd.crosstab(iris_y_test['class'], iris_y_test['pred'])\n",
    "plt.imshow(cf, cmap='Blues')"
   ]
  },
  {
   "cell_type": "markdown",
   "metadata": {},
   "source": [
    "### Mushroom SVM"
   ]
  },
  {
   "cell_type": "code",
   "execution_count": 114,
   "metadata": {
    "collapsed": false
   },
   "outputs": [
    {
     "name": "stdout",
     "output_type": "stream",
     "text": [
      "pred     e    p\n",
      "class          \n",
      "e      100    0\n",
      "p        0  100\n",
      "             precision    recall  f1-score   support\n",
      "\n",
      "          e       1.00      1.00      1.00       100\n",
      "          p       1.00      1.00      1.00       100\n",
      "\n",
      "avg / total       1.00      1.00      1.00       200\n",
      "\n"
     ]
    },
    {
     "data": {
      "text/plain": [
       "<matplotlib.image.AxesImage at 0x11d6909b0>"
      ]
     },
     "execution_count": 114,
     "metadata": {},
     "output_type": "execute_result"
    },
    {
     "data": {
      "image/png": "[encoded data removed]",
      "text/plain": [
       "<matplotlib.figure.Figure at 0x12432c9b0>"
      ]
     },
     "metadata": {},
     "output_type": "display_data"
    }
   ],
   "source": [
    "url=\"https://archive.ics.uci.edu/ml/machine-learning-databases/mushroom/agaricus-lepiota.data\"\n",
    "mushroom =pd.read_csv(url, header=None)\n",
    "mushroom.columns = [\"class\",\n",
    "\"\tcap-shape:\t\",\n",
    "\"\tcap-surface:\t\",\n",
    "\"\tcap-color:\t\",\n",
    "\"\tbruises?:\t\",\n",
    "\"\todor:\t\",\n",
    "\"\tgill-attachment:\t\",\n",
    "\"\tgill-spacing:\t\",\n",
    "\"\tgill-size:\t\",\n",
    "\"\tgill-color:\t\",\n",
    "\"\tstalk-shape:\t\",\n",
    "\"\tstalk-root:\t\",\n",
    "\"\tstalk-surface-above-ring:\t\",\n",
    "\"\tstalk-surface-below-ring:\t\",\n",
    "\"\tstalk-color-above-ring:\t\",\n",
    "\"\tstalk-color-below-ring:\t\",\n",
    "\"\tveil-type:\t\",\n",
    "\"\tveil-color:\t\",\n",
    "\"\tring-number:\t\",\n",
    "\"\tring-type:\t\",\n",
    "\"\tspore-print-color:\t\",\n",
    "\"\tpopulation:\t\",\n",
    "\"\thabitat:\t\"]\n",
    "\n",
    "\n",
    "\n",
    "mushroom = mushroom.set_index('class')\n",
    "\n",
    "from sklearn import preprocessing\n",
    "le = preprocessing.LabelEncoder()\n",
    "le.fit(np.unique(mushroom.values))\n",
    "mushroom = mushroom.apply(le.transform)\n",
    "\n",
    "\n",
    "mushroom = mushroom.reset_index()\n",
    "\n",
    "mushroom = shuffle(mushroom)\n",
    "mushroom_X = mushroom[[\"\tcap-shape:\t\",\n",
    "\"\tcap-surface:\t\",\n",
    "\"\tcap-color:\t\",\n",
    "\"\tbruises?:\t\",\n",
    "\"\todor:\t\",\n",
    "\"\tgill-attachment:\t\",\n",
    "\"\tgill-spacing:\t\",\n",
    "\"\tgill-size:\t\",\n",
    "\"\tgill-color:\t\",\n",
    "\"\tstalk-shape:\t\",\n",
    "\"\tstalk-root:\t\",\n",
    "\"\tstalk-surface-above-ring:\t\",\n",
    "\"\tstalk-surface-below-ring:\t\",\n",
    "\"\tstalk-color-above-ring:\t\",\n",
    "\"\tstalk-color-below-ring:\t\",\n",
    "\"\tveil-type:\t\",\n",
    "\"\tveil-color:\t\",\n",
    "\"\tring-number:\t\",\n",
    "\"\tring-type:\t\",\n",
    "\"\tspore-print-color:\t\",\n",
    "\"\tpopulation:\t\",\n",
    "\"\thabitat:\t\"]]\n",
    "mushroom_Y = mushroom[['class']]\n",
    "\n",
    "np.random.seed(0)\n",
    "\n",
    "mushroom_X_train = mushroom_X[:-200]\n",
    "mushroom_y_train = mushroom_Y[:-200]\n",
    "mushroom_X_test  = mushroom_X[-200:]\n",
    "mushroom_y_test  = mushroom_Y[-200:]\n",
    "\n",
    "svc = svm.SVC()\n",
    "svc.fit(mushroom_X_train, mushroom_y_train) \n",
    "\n",
    "mushroom_y_test['pred'] = svc.predict(mushroom_X_test)\n",
    "\n",
    "group_names = ['e','p']\n",
    "print (pd.crosstab(mushroom_y_test['class'], mushroom_y_test['pred']))\n",
    "print(classification_report(mushroom_y_test['class'], mushroom_y_test['pred'], target_names=group_names))\n",
    "\n",
    "cf = pd.crosstab(mushroom_y_test['class'], mushroom_y_test['pred'])\n",
    "plt.imshow(cf, cmap='Blues')"
   ]
  },
  {
   "cell_type": "markdown",
   "metadata": {},
   "source": [
    "## Conduct a Neural Network and a Decision Tree based Classification on the Mushrooms data set.  \n",
    "- How do the results from 3 classification algorithms compare?  "
   ]
  },
  {
   "cell_type": "markdown",
   "metadata": {},
   "source": [
    "### Tensorflow Binary Classifier Neural Network"
   ]
  },
  {
   "cell_type": "code",
   "execution_count": 339,
   "metadata": {
    "collapsed": true
   },
   "outputs": [],
   "source": [
    "import tensorflow as tf\n",
    "import numpy as np\n",
    "from sklearn.datasets import make_classification\n",
    "from sklearn.model_selection import train_test_split"
   ]
  },
  {
   "cell_type": "code",
   "execution_count": 353,
   "metadata": {
    "collapsed": false
   },
   "outputs": [],
   "source": [
    "url=\"https://archive.ics.uci.edu/ml/machine-learning-databases/mushroom/agaricus-lepiota.data\"\n",
    "mushroom =pd.read_csv(url, header=None)\n",
    "mushroom.columns = [\"class\",\n",
    "\"\tcap-shape:\t\",\n",
    "\"\tcap-surface:\t\",\n",
    "\"\tcap-color:\t\",\n",
    "\"\tbruises?:\t\",\n",
    "\"\todor:\t\",\n",
    "\"\tgill-attachment:\t\",\n",
    "\"\tgill-spacing:\t\",\n",
    "\"\tgill-size:\t\",\n",
    "\"\tgill-color:\t\",\n",
    "\"\tstalk-shape:\t\",\n",
    "\"\tstalk-root:\t\",\n",
    "\"\tstalk-surface-above-ring:\t\",\n",
    "\"\tstalk-surface-below-ring:\t\",\n",
    "\"\tstalk-color-above-ring:\t\",\n",
    "\"\tstalk-color-below-ring:\t\",\n",
    "\"\tveil-type:\t\",\n",
    "\"\tveil-color:\t\",\n",
    "\"\tring-number:\t\",\n",
    "\"\tring-type:\t\",\n",
    "\"\tspore-print-color:\t\",\n",
    "\"\tpopulation:\t\",\n",
    "\"\thabitat:\t\"]\n",
    "\n",
    "mushroom = mushroom.set_index('class')\n",
    "\n",
    "from sklearn import preprocessing\n",
    "le = preprocessing.LabelEncoder()\n",
    "le.fit(np.unique(mushroom.values))\n",
    "mushroom = mushroom.apply(le.transform)\n",
    "mushroom = mushroom.reset_index()"
   ]
  },
  {
   "cell_type": "code",
   "execution_count": 354,
   "metadata": {
    "collapsed": true
   },
   "outputs": [],
   "source": [
    "def conv(x):\n",
    "    if x['class'] == 'p':\n",
    "        return 1\n",
    "    else:\n",
    "        return 0"
   ]
  },
  {
   "cell_type": "code",
   "execution_count": 355,
   "metadata": {
    "collapsed": false
   },
   "outputs": [],
   "source": [
    "mushroom['class'] = mushroom.apply (lambda row: conv (row),axis=1)"
   ]
  },
  {
   "cell_type": "code",
   "execution_count": 356,
   "metadata": {
    "collapsed": false
   },
   "outputs": [],
   "source": [
    "mushroom = shuffle(mushroom)\n",
    "mushroom_X = mushroom[[\"\tcap-shape:\t\",\n",
    "\"\tcap-surface:\t\",\n",
    "\"\tcap-color:\t\",\n",
    "\"\tbruises?:\t\",\n",
    "\"\todor:\t\",\n",
    "\"\tgill-attachment:\t\",\n",
    "\"\tgill-spacing:\t\",\n",
    "\"\tgill-size:\t\",\n",
    "\"\tgill-color:\t\",\n",
    "\"\tstalk-shape:\t\",\n",
    "\"\tstalk-root:\t\",\n",
    "\"\tstalk-surface-above-ring:\t\",\n",
    "\"\tstalk-surface-below-ring:\t\",\n",
    "\"\tstalk-color-above-ring:\t\",\n",
    "\"\tstalk-color-below-ring:\t\",\n",
    "\"\tveil-type:\t\",\n",
    "\"\tveil-color:\t\",\n",
    "\"\tring-number:\t\",\n",
    "\"\tring-type:\t\",\n",
    "\"\tspore-print-color:\t\",\n",
    "\"\tpopulation:\t\",\n",
    "\"\thabitat:\t\"]]\n",
    "mushroom_Y = mushroom[['class']]\n",
    "\n",
    "np.random.seed(0)\n",
    "\n",
    "mushroom_X_train = mushroom_X[:-200]\n",
    "mushroom_y_train = mushroom_Y[:-200]\n",
    "mushroom_X_test  = mushroom_X[-200:]\n",
    "mushroom_y_test  = mushroom_Y[-200:]"
   ]
  },
  {
   "cell_type": "code",
   "execution_count": 364,
   "metadata": {
    "collapsed": true
   },
   "outputs": [],
   "source": [
    "X, X_test, Y, Y_test = mushroom_X_train.values, mushroom_X_test.values, mushroom_y_train.values ,mushroom_y_test.values "
   ]
  },
  {
   "cell_type": "code",
   "execution_count": 369,
   "metadata": {
    "collapsed": true
   },
   "outputs": [],
   "source": [
    "# Parameters\n",
    "learning_rate = 0.001\n",
    "training_epochs = 10\n",
    "batch_size = 10\n",
    "display_step = 1\n",
    "\n",
    "\n",
    "# Network Parameters\n",
    "n_hidden_1 = 22 # 1st layer number of features\n",
    "n_hidden_2 = 22 # 2nd layer number of features\n",
    "n_input = 22 # Number of feature\n",
    "n_classes = 1 # Number of classes to predict\n",
    "\n",
    "\n",
    "# tf Graph input\n",
    "x = tf.placeholder(\"float\", [None, n_input])\n",
    "y = tf.placeholder(\"float\", [None, n_classes])\n",
    "\n",
    "# Create model\n",
    "def multilayer_perceptron(x, weights, biases):\n",
    "    # Hidden layer with RELU activation\n",
    "    layer_1 = tf.add(tf.matmul(x, weights['h1']), biases['b1'])\n",
    "    layer_1 = tf.nn.relu(layer_1)\n",
    "    # Hidden layer with RELU activation\n",
    "    layer_2 = tf.add(tf.matmul(layer_1, weights['h2']), biases['b2'])\n",
    "    layer_2 = tf.nn.relu(layer_2)\n",
    "    # Output layer with linear activation\n",
    "    out_layer = tf.matmul(layer_2, weights['out']) + biases['out']\n",
    "    return out_layer\n",
    "\n",
    "# Store layers weight & bias\n",
    "weights = {\n",
    "    'h1': tf.Variable(tf.random_normal([n_input, n_hidden_1])),\n",
    "    'h2': tf.Variable(tf.random_normal([n_hidden_1, n_hidden_2])),\n",
    "    'out': tf.Variable(tf.random_normal([n_hidden_2, n_classes]))\n",
    "}\n",
    "\n",
    "biases = {\n",
    "    'b1': tf.Variable(tf.random_normal([n_hidden_1])),\n",
    "    'b2': tf.Variable(tf.random_normal([n_hidden_2])),\n",
    "    'out': tf.Variable(tf.random_normal([n_classes]))\n",
    "}\n",
    "\n",
    "# Construct model\n",
    "pred = multilayer_perceptron(x, weights, biases)\n",
    "\n",
    "# Define loss and optimizer\n",
    "cost = tf.reduce_mean(tf.nn.softmax_cross_entropy_with_logits(logits=pred, labels=y))\n",
    "optimizer = tf.train.AdamOptimizer(learning_rate=learning_rate).minimize(cost)\n",
    "\n",
    "# Initializing the variables\n",
    "init = tf.global_variables_initializer()"
   ]
  },
  {
   "cell_type": "code",
   "execution_count": 370,
   "metadata": {
    "collapsed": false
   },
   "outputs": [
    {
     "name": "stdout",
     "output_type": "stream",
     "text": [
      "Epoch: 0001 cost= 0.000000000\n",
      "Epoch: 0002 cost= 0.000000000\n",
      "Epoch: 0003 cost= 0.000000000\n",
      "Epoch: 0004 cost= 0.000000000\n",
      "Epoch: 0005 cost= 0.000000000\n",
      "Epoch: 0006 cost= 0.000000000\n",
      "Epoch: 0007 cost= 0.000000000\n",
      "Epoch: 0008 cost= 0.000000000\n",
      "Epoch: 0009 cost= 0.000000000\n",
      "Epoch: 0010 cost= 0.000000000\n",
      "Optimization Finished!\n",
      "Accuracy: 1.0\n"
     ]
    }
   ],
   "source": [
    "with tf.Session() as sess:\n",
    "    sess.run(init)\n",
    "    # Training cycle\n",
    "    for epoch in range(training_epochs):\n",
    "        avg_cost = 0.\n",
    "        total_batch = int(len(X)/batch_size)\n",
    "        X_batches = np.array_split(X, total_batch)\n",
    "        Y_batches = np.array_split(Y, total_batch)\n",
    "        # Loop over all batches\n",
    "        for i in range(total_batch):\n",
    "            batch_x, batch_y = X_batches[i], Y_batches[i]\n",
    "            # Run optimization op (backprop) and cost op (to get loss value)\n",
    "            _, c = sess.run([optimizer, cost], feed_dict={x: batch_x,\n",
    "                                                          y: batch_y})\n",
    "            # Compute average loss\n",
    "            avg_cost += c / total_batch\n",
    "        # Display logs per epoch step\n",
    "        if epoch % display_step == 0:\n",
    "            print(\"Epoch:\", '%04d' % (epoch+1), \"cost=\", \"{:.9f}\".format(avg_cost))\n",
    "    print(\"Optimization Finished!\")\n",
    "\n",
    "    # Test model\n",
    "    correct_prediction = tf.equal(tf.argmax(pred, 1), tf.argmax(y, 1))\n",
    "    # Calculate accuracy\n",
    "    accuracy = tf.reduce_mean(tf.cast(correct_prediction, \"float\"))\n",
    "    print(\"Accuracy:\", accuracy.eval({x: X_test, y: Y_test}))\n",
    "    global result \n",
    "    result = tf.argmax(pred, 1).eval({x: X_test, y: Y_test})"
   ]
  },
  {
   "cell_type": "markdown",
   "metadata": {},
   "source": [
    "### Decision Tree Classifier"
   ]
  },
  {
   "cell_type": "code",
   "execution_count": 115,
   "metadata": {
    "collapsed": false
   },
   "outputs": [
    {
     "name": "stdout",
     "output_type": "stream",
     "text": [
      "pred     e    p\n",
      "class          \n",
      "e      100    0\n",
      "p        0  100\n",
      "             precision    recall  f1-score   support\n",
      "\n",
      "          e       1.00      1.00      1.00       100\n",
      "          p       1.00      1.00      1.00       100\n",
      "\n",
      "avg / total       1.00      1.00      1.00       200\n",
      "\n"
     ]
    },
    {
     "data": {
      "text/plain": [
       "<matplotlib.image.AxesImage at 0x11c80b3c8>"
      ]
     },
     "execution_count": 115,
     "metadata": {},
     "output_type": "execute_result"
    },
    {
     "data": {
      "image/png": "[encoded data removed]",
      "text/plain": [
       "<matplotlib.figure.Figure at 0x11d391208>"
      ]
     },
     "metadata": {},
     "output_type": "display_data"
    }
   ],
   "source": [
    "url=\"https://archive.ics.uci.edu/ml/machine-learning-databases/mushroom/agaricus-lepiota.data\"\n",
    "mushroom =pd.read_csv(url, header=None)\n",
    "mushroom.columns = [\"class\",\n",
    "\"\tcap-shape:\t\",\n",
    "\"\tcap-surface:\t\",\n",
    "\"\tcap-color:\t\",\n",
    "\"\tbruises?:\t\",\n",
    "\"\todor:\t\",\n",
    "\"\tgill-attachment:\t\",\n",
    "\"\tgill-spacing:\t\",\n",
    "\"\tgill-size:\t\",\n",
    "\"\tgill-color:\t\",\n",
    "\"\tstalk-shape:\t\",\n",
    "\"\tstalk-root:\t\",\n",
    "\"\tstalk-surface-above-ring:\t\",\n",
    "\"\tstalk-surface-below-ring:\t\",\n",
    "\"\tstalk-color-above-ring:\t\",\n",
    "\"\tstalk-color-below-ring:\t\",\n",
    "\"\tveil-type:\t\",\n",
    "\"\tveil-color:\t\",\n",
    "\"\tring-number:\t\",\n",
    "\"\tring-type:\t\",\n",
    "\"\tspore-print-color:\t\",\n",
    "\"\tpopulation:\t\",\n",
    "\"\thabitat:\t\"]\n",
    "\n",
    "\n",
    "\n",
    "mushroom = mushroom.set_index('class')\n",
    "\n",
    "from sklearn import preprocessing\n",
    "le = preprocessing.LabelEncoder()\n",
    "le.fit(np.unique(mushroom.values))\n",
    "mushroom = mushroom.apply(le.transform)\n",
    "\n",
    "\n",
    "mushroom = mushroom.reset_index()\n",
    "\n",
    "mushroom = shuffle(mushroom)\n",
    "mushroom_X = mushroom[[\"\tcap-shape:\t\",\n",
    "\"\tcap-surface:\t\",\n",
    "\"\tcap-color:\t\",\n",
    "\"\tbruises?:\t\",\n",
    "\"\todor:\t\",\n",
    "\"\tgill-attachment:\t\",\n",
    "\"\tgill-spacing:\t\",\n",
    "\"\tgill-size:\t\",\n",
    "\"\tgill-color:\t\",\n",
    "\"\tstalk-shape:\t\",\n",
    "\"\tstalk-root:\t\",\n",
    "\"\tstalk-surface-above-ring:\t\",\n",
    "\"\tstalk-surface-below-ring:\t\",\n",
    "\"\tstalk-color-above-ring:\t\",\n",
    "\"\tstalk-color-below-ring:\t\",\n",
    "\"\tveil-type:\t\",\n",
    "\"\tveil-color:\t\",\n",
    "\"\tring-number:\t\",\n",
    "\"\tring-type:\t\",\n",
    "\"\tspore-print-color:\t\",\n",
    "\"\tpopulation:\t\",\n",
    "\"\thabitat:\t\"]]\n",
    "mushroom_Y = mushroom[['class']]\n",
    "\n",
    "np.random.seed(0)\n",
    "\n",
    "mushroom_X_train = mushroom_X[:-200]\n",
    "mushroom_y_train = mushroom_Y[:-200]\n",
    "mushroom_X_test  = mushroom_X[-200:]\n",
    "mushroom_y_test  = mushroom_Y[-200:]\n",
    "\n",
    "from sklearn import model_selection\n",
    "from sklearn.ensemble import BaggingClassifier\n",
    "from sklearn.tree import DecisionTreeClassifier\n",
    "\n",
    "seed = 7\n",
    "kfold = model_selection.KFold(n_splits=5, random_state=seed)\n",
    "cart = DecisionTreeClassifier()\n",
    "num_trees = 100\n",
    "model = BaggingClassifier(base_estimator=cart, n_estimators=num_trees, random_state=seed)\n",
    "\n",
    "model.fit(mushroom_X_train, mushroom_y_train)\n",
    "mushroom_y_test['pred'] = model.predict(mushroom_X_test)\n",
    "\n",
    "group_names = ['e','p']\n",
    "print (pd.crosstab(mushroom_y_test['class'], mushroom_y_test['pred']))\n",
    "print(classification_report(mushroom_y_test['class'], mushroom_y_test['pred'], target_names=group_names))\n",
    "\n",
    "cf = pd.crosstab(mushroom_y_test['class'], mushroom_y_test['pred'])\n",
    "plt.imshow(cf, cmap='Blues')"
   ]
  },
  {
   "cell_type": "markdown",
   "metadata": {},
   "source": [
    "All of the mushroom classification models all delivered a 100% accuracy.  "
   ]
  },
  {
   "cell_type": "markdown",
   "metadata": {},
   "source": [
    "## Twitter Analytics\n",
    "- http://www.r-bloggers.com/getting-started-with-twitter-analysis-in-r/\n",
    "- http://www.r-bloggers.com/in-depth-analysis-of-twitter-activity-and-sentiment-with-r/\n",
    "- http://www.rdatamining.com/examples/text-mining \n"
   ]
  },
  {
   "cell_type": "code",
   "execution_count": 246,
   "metadata": {
    "collapsed": true
   },
   "outputs": [],
   "source": [
    "import jsonpickle\n",
    "import tweepy \n",
    "import csv\n",
    "\n",
    "consumer_token = \"PJcj3bbtl4EiwdDbRt8Ys1dvh\"\n",
    "consumer_secret = \"HK2fhhmfyRctAP74UmnxL4disTVQrpN9k1PpCvgkfekG21kx3i\"\n",
    "access_key = \"1872558674-XTX2hS59qFwNqlCUTlE3abJ8YqqKMNocxfz44AK\"\n",
    "access_secret = \"PZ6RG1cxo6fxONGGpeSodYLDiczGIgmxAgDsU0WRM49q8\"\n",
    "\n",
    "auth = tweepy.AppAuthHandler(consumer_token, consumer_secret)\n",
    "auth.secure = True\n",
    "api = tweepy.API(auth, wait_on_rate_limit=True, wait_on_rate_limit_notify=True)\n",
    "\n",
    "def tweepy_pull(username):\n",
    "\n",
    "    searchQuery = username\n",
    "    retweet_filter='-filter:retweets'\n",
    "    q=searchQuery+retweet_filter\n",
    "    tweetsPerQry = 1000\n",
    "    fName = '%s_tweets.csv' % searchQuery\n",
    "    sinceId = None\n",
    "    maxTweets = 10000\n",
    "    max_id = -1\n",
    "    tweetCount = 0\n",
    "    print(\"Downloading max {0} tweets\".format(maxTweets))\n",
    "    with open(fName, 'w') as f:\n",
    "        while tweetCount < maxTweets:\n",
    "            try:\n",
    "                if (max_id <= 0):\n",
    "                    if (not sinceId):\n",
    "                        new_tweets = api.search(q=searchQuery, count=tweetsPerQry)\n",
    "                    else:\n",
    "                        new_tweets = api.search(q=searchQuery, count=tweetsPerQry,\n",
    "                                                since_id=sinceId)\n",
    "                else:\n",
    "                    if (not sinceId):\n",
    "                        new_tweets = api.search(q=searchQuery, count=tweetsPerQry,\n",
    "                                                max_id=str(max_id - 1))\n",
    "                    else:\n",
    "                        new_tweets = api.search(q=searchQuery, count=tweetsPerQry,\n",
    "                                                max_id=str(max_id - 1),\n",
    "                                                since_id=sinceId)\n",
    "                if not new_tweets:\n",
    "                    print(\"No more tweets found\")\n",
    "                    break\n",
    "\n",
    "                for tweet in new_tweets:\n",
    "                    f.write(jsonpickle.encode(tweet._json['text'], unpicklable=False) +\n",
    "                            '\\n')\n",
    "                tweetCount += len(new_tweets)\n",
    "                print(\"Downloaded {0} tweets\".format(tweetCount))\n",
    "                max_id = new_tweets[-1].id\n",
    "            except tweepy.TweepError as e:\n",
    "                print(\"some error : \" + str(e))\n",
    "                break\n",
    "\n",
    "    print (\"Downloaded {0} tweets, Saved to {1}\".format(tweetCount, fName))"
   ]
  },
  {
   "cell_type": "code",
   "execution_count": 247,
   "metadata": {
    "collapsed": false
   },
   "outputs": [
    {
     "name": "stdout",
     "output_type": "stream",
     "text": [
      "Downloading max 10000 tweets\n",
      "Downloaded 97 tweets\n",
      "Downloaded 197 tweets\n",
      "Downloaded 297 tweets\n",
      "Downloaded 397 tweets\n",
      "Downloaded 497 tweets\n",
      "Downloaded 597 tweets\n",
      "Downloaded 697 tweets\n",
      "Downloaded 797 tweets\n",
      "Downloaded 897 tweets\n",
      "Downloaded 997 tweets\n",
      "Downloaded 1097 tweets\n",
      "Downloaded 1195 tweets\n",
      "Downloaded 1295 tweets\n",
      "Downloaded 1395 tweets\n",
      "Downloaded 1495 tweets\n",
      "Downloaded 1595 tweets\n",
      "Downloaded 1693 tweets\n",
      "No more tweets found\n",
      "Downloaded 1693 tweets, Saved to CaesarsPalace_tweets.csv\n"
     ]
    }
   ],
   "source": [
    "tweepy_pull('CaesarsPalace')"
   ]
  },
  {
   "cell_type": "code",
   "execution_count": 273,
   "metadata": {
    "collapsed": false
   },
   "outputs": [
    {
     "name": "stderr",
     "output_type": "stream",
     "text": [
      "b'Skipping line 327: expected 1 fields, saw 4\\nSkipping line 337: expected 1 fields, saw 4\\nSkipping line 347: expected 1 fields, saw 4\\nSkipping line 348: expected 1 fields, saw 4\\nSkipping line 353: expected 1 fields, saw 4\\nSkipping line 354: expected 1 fields, saw 4\\nSkipping line 355: expected 1 fields, saw 4\\nSkipping line 356: expected 1 fields, saw 4\\nSkipping line 357: expected 1 fields, saw 4\\nSkipping line 358: expected 1 fields, saw 4\\nSkipping line 359: expected 1 fields, saw 4\\nSkipping line 360: expected 1 fields, saw 4\\nSkipping line 362: expected 1 fields, saw 4\\nSkipping line 470: expected 1 fields, saw 3\\nSkipping line 474: expected 1 fields, saw 3\\nSkipping line 764: expected 1 fields, saw 3\\nSkipping line 766: expected 1 fields, saw 3\\nSkipping line 985: expected 1 fields, saw 2\\nSkipping line 1161: expected 1 fields, saw 2\\n'\n"
     ]
    }
   ],
   "source": [
    "CP = pd.read_csv('CaesarsPalace_tweets.csv', header=None, error_bad_lines=False)"
   ]
  },
  {
   "cell_type": "code",
   "execution_count": 274,
   "metadata": {
    "collapsed": false
   },
   "outputs": [
    {
     "name": "stdout",
     "output_type": "stream",
     "text": [
      "18 tweets contained bad encoding and was not readable\n"
     ]
    }
   ],
   "source": [
    "print (str(1692 - len(CP)) + \" tweets contained bad encoding and was not readable\")"
   ]
  },
  {
   "cell_type": "code",
   "execution_count": 275,
   "metadata": {
    "collapsed": false
   },
   "outputs": [],
   "source": [
    "CP = CP.apply(lambda x: x.astype(str).str.lower())"
   ]
  },
  {
   "cell_type": "code",
   "execution_count": 276,
   "metadata": {
    "collapsed": false
   },
   "outputs": [],
   "source": [
    "CP.columns = ['tweet']\n",
    "CP['tweet'] = CP['tweet'].str.replace('@', '')\n",
    "CP['tweet'] = CP['tweet'].str.replace('#', '')\n",
    "CP['tweet'] = CP['tweet'].str.replace('caesarspalace:', '')\n",
    "CP['tweet'] = CP['tweet'].str.replace('rt', '')"
   ]
  },
  {
   "cell_type": "code",
   "execution_count": 277,
   "metadata": {
    "collapsed": false
   },
   "outputs": [
    {
     "name": "stdout",
     "output_type": "stream",
     "text": [
      "[nltk_data] Downloading package stopwords to\n",
      "[nltk_data]     /Users/bryceeb/nltk_data...\n",
      "[nltk_data]   Package stopwords is already up-to-date!\n"
     ]
    }
   ],
   "source": [
    "from nltk.corpus import stopwords\n",
    "nltk.download('stopwords')\n",
    "stop = stopwords.words('english')"
   ]
  },
  {
   "cell_type": "code",
   "execution_count": 278,
   "metadata": {
    "collapsed": true
   },
   "outputs": [],
   "source": [
    "CP[\"cleaned\"] = CP[\"tweet\"].str.lower().str.split()\n",
    "\n",
    "CP['cleaned'] = CP['cleaned'].apply(lambda x: [item for item in x if item not in stop])"
   ]
  },
  {
   "cell_type": "code",
   "execution_count": 279,
   "metadata": {
    "collapsed": true
   },
   "outputs": [],
   "source": [
    "CP['cleaned']  = CP['cleaned'] .apply(' '.join)"
   ]
  },
  {
   "cell_type": "code",
   "execution_count": 280,
   "metadata": {
    "collapsed": false
   },
   "outputs": [],
   "source": [
    "CP['cleaned'] = CP['cleaned'].str.replace(r\"([\\\\])\\w+\", ' ', case=False)\n",
    "CP['cleaned'] = CP['cleaned'].str.replace(r\"http\\S+\", ' ', case=False)"
   ]
  },
  {
   "cell_type": "code",
   "execution_count": 281,
   "metadata": {
    "collapsed": false
   },
   "outputs": [
    {
     "data": {
      "text/html": [
       "<div>\n",
       "<style>\n",
       "    .dataframe thead tr:only-child th {\n",
       "        text-align: right;\n",
       "    }\n",
       "\n",
       "    .dataframe thead th {\n",
       "        text-align: left;\n",
       "    }\n",
       "\n",
       "    .dataframe tbody tr th {\n",
       "        vertical-align: top;\n",
       "    }\n",
       "</style>\n",
       "<table border=\"1\" class=\"dataframe\">\n",
       "  <thead>\n",
       "    <tr style=\"text-align: right;\">\n",
       "      <th></th>\n",
       "      <th>tweet</th>\n",
       "      <th>cleaned</th>\n",
       "    </tr>\n",
       "  </thead>\n",
       "  <tbody>\n",
       "    <tr>\n",
       "      <th>0</th>\n",
       "      <td>caesarspalace gordonramsay yes, please! &amp;lt;3</td>\n",
       "      <td>caesarspalace gordonramsay yes, please! &amp;lt;3</td>\n",
       "    </tr>\n",
       "    <tr>\n",
       "      <th>1</th>\n",
       "      <td>rachelfox5: celinedion opened her show tonigh...</td>\n",
       "      <td>rachelfox5: celinedion opened show tonight tal...</td>\n",
       "    </tr>\n",
       "    <tr>\n",
       "      <th>2</th>\n",
       "      <td>tech rehearsal cocktailcabaretlv opening nov. ...</td>\n",
       "      <td>tech rehearsal cocktailcabaretlv opening nov. ...</td>\n",
       "    </tr>\n",
       "    <tr>\n",
       "      <th>3</th>\n",
       "      <td>cybermonday: enjoy the best deals of the yea...</td>\n",
       "      <td>cybermonday: enjoy best deals year - 30% off. ...</td>\n",
       "    </tr>\n",
       "    <tr>\n",
       "      <th>4</th>\n",
       "      <td>what a beauty! \\ud83c\\udf54\\ud83d\\ude0d gord...</td>\n",
       "      <td>beauty!      gordonramsay grhellskitchen comin...</td>\n",
       "    </tr>\n",
       "  </tbody>\n",
       "</table>\n",
       "</div>"
      ],
      "text/plain": [
       "                                               tweet  \\\n",
       "0      caesarspalace gordonramsay yes, please! &lt;3   \n",
       "1   rachelfox5: celinedion opened her show tonigh...   \n",
       "2  tech rehearsal cocktailcabaretlv opening nov. ...   \n",
       "3    cybermonday: enjoy the best deals of the yea...   \n",
       "4    what a beauty! \\ud83c\\udf54\\ud83d\\ude0d gord...   \n",
       "\n",
       "                                             cleaned  \n",
       "0      caesarspalace gordonramsay yes, please! &lt;3  \n",
       "1  rachelfox5: celinedion opened show tonight tal...  \n",
       "2  tech rehearsal cocktailcabaretlv opening nov. ...  \n",
       "3  cybermonday: enjoy best deals year - 30% off. ...  \n",
       "4  beauty!      gordonramsay grhellskitchen comin...  "
      ]
     },
     "execution_count": 281,
     "metadata": {},
     "output_type": "execute_result"
    }
   ],
   "source": [
    "CP.head()"
   ]
  },
  {
   "cell_type": "code",
   "execution_count": 282,
   "metadata": {
    "collapsed": false
   },
   "outputs": [],
   "source": [
    "from textblob import TextBlob\n",
    "import nltk\n",
    "CP['sentiment'] = CP['cleaned'].apply(lambda x: TextBlob(x).sentiment.polarity)\n",
    "CP['nouns'] = CP['cleaned'].apply(lambda x: TextBlob(x).noun_phrases)"
   ]
  },
  {
   "cell_type": "code",
   "execution_count": 283,
   "metadata": {
    "collapsed": false
   },
   "outputs": [
    {
     "data": {
      "text/html": [
       "<div>\n",
       "<style>\n",
       "    .dataframe thead tr:only-child th {\n",
       "        text-align: right;\n",
       "    }\n",
       "\n",
       "    .dataframe thead th {\n",
       "        text-align: left;\n",
       "    }\n",
       "\n",
       "    .dataframe tbody tr th {\n",
       "        vertical-align: top;\n",
       "    }\n",
       "</style>\n",
       "<table border=\"1\" class=\"dataframe\">\n",
       "  <thead>\n",
       "    <tr style=\"text-align: right;\">\n",
       "      <th></th>\n",
       "      <th>tweet</th>\n",
       "      <th>cleaned</th>\n",
       "      <th>sentiment</th>\n",
       "      <th>nouns</th>\n",
       "    </tr>\n",
       "  </thead>\n",
       "  <tbody>\n",
       "    <tr>\n",
       "      <th>0</th>\n",
       "      <td>caesarspalace gordonramsay yes, please! &amp;lt;3</td>\n",
       "      <td>caesarspalace gordonramsay yes, please! &amp;lt;3</td>\n",
       "      <td>0.000000</td>\n",
       "      <td>[caesarspalace gordonramsay yes]</td>\n",
       "    </tr>\n",
       "    <tr>\n",
       "      <th>1</th>\n",
       "      <td>rachelfox5: celinedion opened her show tonigh...</td>\n",
       "      <td>rachelfox5: celinedion opened show tonight tal...</td>\n",
       "      <td>0.158333</td>\n",
       "      <td>[show wk]</td>\n",
       "    </tr>\n",
       "    <tr>\n",
       "      <th>2</th>\n",
       "      <td>tech rehearsal cocktailcabaretlv opening nov. ...</td>\n",
       "      <td>tech rehearsal cocktailcabaretlv opening nov. ...</td>\n",
       "      <td>0.000000</td>\n",
       "      <td>[tech rehearsal cocktailcabaretlv opening nov,...</td>\n",
       "    </tr>\n",
       "    <tr>\n",
       "      <th>3</th>\n",
       "      <td>cybermonday: enjoy the best deals of the yea...</td>\n",
       "      <td>cybermonday: enjoy best deals year - 30% off. ...</td>\n",
       "      <td>0.700000</td>\n",
       "      <td>[deals year]</td>\n",
       "    </tr>\n",
       "    <tr>\n",
       "      <th>4</th>\n",
       "      <td>what a beauty! \\ud83c\\udf54\\ud83d\\ude0d gord...</td>\n",
       "      <td>beauty!      gordonramsay grhellskitchen comin...</td>\n",
       "      <td>0.000000</td>\n",
       "      <td>[gordonramsay grhellskitchen comingsoon behind...</td>\n",
       "    </tr>\n",
       "  </tbody>\n",
       "</table>\n",
       "</div>"
      ],
      "text/plain": [
       "                                               tweet  \\\n",
       "0      caesarspalace gordonramsay yes, please! &lt;3   \n",
       "1   rachelfox5: celinedion opened her show tonigh...   \n",
       "2  tech rehearsal cocktailcabaretlv opening nov. ...   \n",
       "3    cybermonday: enjoy the best deals of the yea...   \n",
       "4    what a beauty! \\ud83c\\udf54\\ud83d\\ude0d gord...   \n",
       "\n",
       "                                             cleaned  sentiment  \\\n",
       "0      caesarspalace gordonramsay yes, please! &lt;3   0.000000   \n",
       "1  rachelfox5: celinedion opened show tonight tal...   0.158333   \n",
       "2  tech rehearsal cocktailcabaretlv opening nov. ...   0.000000   \n",
       "3  cybermonday: enjoy best deals year - 30% off. ...   0.700000   \n",
       "4  beauty!      gordonramsay grhellskitchen comin...   0.000000   \n",
       "\n",
       "                                               nouns  \n",
       "0                   [caesarspalace gordonramsay yes]  \n",
       "1                                          [show wk]  \n",
       "2  [tech rehearsal cocktailcabaretlv opening nov,...  \n",
       "3                                       [deals year]  \n",
       "4  [gordonramsay grhellskitchen comingsoon behind...  "
      ]
     },
     "execution_count": 283,
     "metadata": {},
     "output_type": "execute_result"
    }
   ],
   "source": [
    "CP.head()"
   ]
  },
  {
   "cell_type": "code",
   "execution_count": 305,
   "metadata": {
    "collapsed": false
   },
   "outputs": [
    {
     "data": {
      "text/plain": [
       "<matplotlib.text.Text at 0x122f9a7f0>"
      ]
     },
     "execution_count": 305,
     "metadata": {},
     "output_type": "execute_result"
    },
    {
     "data": {
      "image/png": "[encoded data removed]",
      "text/plain": [
       "<matplotlib.figure.Figure at 0x122f21da0>"
      ]
     },
     "metadata": {},
     "output_type": "display_data"
    }
   ],
   "source": [
    "import seaborn as sn\n",
    "sn.distplot(CP.sentiment, bins = 5);\n",
    "plt.title(\"Here is the distribution of sentiment across the tweets:\" )"
   ]
  },
  {
   "cell_type": "code",
   "execution_count": 300,
   "metadata": {
    "collapsed": false
   },
   "outputs": [
    {
     "data": {
      "image/png": "[encoded data removed]",
      "text/plain": [
       "<matplotlib.figure.Figure at 0x128db64a8>"
      ]
     },
     "metadata": {},
     "output_type": "display_data"
    }
   ],
   "source": [
    "positive = CP[CP.sentiment > 0.6]\n",
    "\n",
    "import matplotlib.pyplot as plt\n",
    "from wordcloud import WordCloud, STOPWORDS\n",
    "\n",
    "words = ' '.join(positive['cleaned'])\n",
    "\n",
    "no_urls_no_tags = \" \".join([word for word in words.split()\n",
    "                            if 'http' not in word\n",
    "                                and not word.startswith('@')\n",
    "                                and word != 'RT'\n",
    "                            ])\n",
    "\n",
    "wordcloud = WordCloud(\n",
    "                      stopwords=STOPWORDS,\n",
    "                      background_color='black',\n",
    "                      width=1800,\n",
    "                      height=1400\n",
    "                     ).generate(no_urls_no_tags)\n",
    "\n",
    "\n",
    "plt.imshow(wordcloud)\n",
    "plt.axis('off')\n",
    "plt.savefig('./caesarspalace_wordcloud_1.png', dpi=300)\n",
    "plt.show()"
   ]
  }
 ],
 "metadata": {
  "anaconda-cloud": {},
  "kernelspec": {
   "display_name": "Python [conda env:python35]",
   "language": "python",
   "name": "conda-env-python35-py"
  },
  "language_info": {
   "codemirror_mode": {
    "name": "ipython",
    "version": 3
   },
   "file_extension": ".py",
   "mimetype": "text/x-python",
   "name": "python",
   "nbconvert_exporter": "python",
   "pygments_lexer": "ipython3",
   "version": "3.5.2"
  }
 },
 "nbformat": 4,
 "nbformat_minor": 1
}
