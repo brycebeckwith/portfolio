{
 "cells": [
  {
   "cell_type": "code",
   "execution_count": 133,
   "metadata": {
    "collapsed": false
   },
   "outputs": [],
   "source": [
    "import numpy as np\n",
    "import pandas as pd\n",
    "import matplotlib\n",
    "import matplotlib.pyplot as plt\n",
    "import scipy.stats as stats\n",
    "%matplotlib inline\n",
    "matplotlib.style.use('ggplot')\n",
    "import warnings\n",
    "warnings.filterwarnings(\"ignore\")"
   ]
  },
  {
   "cell_type": "markdown",
   "metadata": {},
   "source": [
    "## Feature Selection"
   ]
  },
  {
   "cell_type": "markdown",
   "metadata": {},
   "source": [
    "Feature Selection is the automatic selection of attributes in your data (such as columns in tabular data) that are most relevant to the predictive modeling problem you are working on.\n",
    "\n",
    "Top reasons to use feature selection are:\n",
    "\n",
    "- It enables the machine learning algorithm to train faster.\n",
    "- It reduces the complexity of a model and makes it easier to interpret.\n",
    "- It improves the accuracy of a model if the right subset is chosen.\n",
    "- It reduces overfitting.\n"
   ]
  },
  {
   "cell_type": "code",
   "execution_count": 134,
   "metadata": {
    "collapsed": true
   },
   "outputs": [],
   "source": [
    "o = pd.read_csv('Ozone1.csv', index_col='Unnamed: 0')"
   ]
  },
  {
   "cell_type": "markdown",
   "metadata": {},
   "source": [
    "The prediction will be made on O3 as it it closely represents a class. There are 38 categories in the O3 column, out of 330 entries. "
   ]
  },
  {
   "cell_type": "code",
   "execution_count": 135,
   "metadata": {
    "collapsed": false
   },
   "outputs": [
    {
     "data": {
      "text/html": [
       "<div>\n",
       "<style>\n",
       "    .dataframe thead tr:only-child th {\n",
       "        text-align: right;\n",
       "    }\n",
       "\n",
       "    .dataframe thead th {\n",
       "        text-align: left;\n",
       "    }\n",
       "\n",
       "    .dataframe tbody tr th {\n",
       "        vertical-align: top;\n",
       "    }\n",
       "</style>\n",
       "<table border=\"1\" class=\"dataframe\">\n",
       "  <thead>\n",
       "    <tr style=\"text-align: right;\">\n",
       "      <th></th>\n",
       "      <th>O3</th>\n",
       "      <th>vh</th>\n",
       "      <th>wind</th>\n",
       "      <th>humidity</th>\n",
       "      <th>temp</th>\n",
       "      <th>ibh</th>\n",
       "      <th>dpg</th>\n",
       "      <th>ibt</th>\n",
       "      <th>vis</th>\n",
       "      <th>doy</th>\n",
       "    </tr>\n",
       "  </thead>\n",
       "  <tbody>\n",
       "    <tr>\n",
       "      <th>1</th>\n",
       "      <td>3</td>\n",
       "      <td>5710</td>\n",
       "      <td>4</td>\n",
       "      <td>28</td>\n",
       "      <td>40</td>\n",
       "      <td>2693</td>\n",
       "      <td>-25</td>\n",
       "      <td>87</td>\n",
       "      <td>250</td>\n",
       "      <td>33</td>\n",
       "    </tr>\n",
       "  </tbody>\n",
       "</table>\n",
       "</div>"
      ],
      "text/plain": [
       "   O3    vh  wind  humidity  temp   ibh  dpg  ibt  vis  doy\n",
       "1   3  5710     4        28    40  2693  -25   87  250   33"
      ]
     },
     "execution_count": 135,
     "metadata": {},
     "output_type": "execute_result"
    }
   ],
   "source": [
    "o[:1]"
   ]
  },
  {
   "cell_type": "code",
   "execution_count": 136,
   "metadata": {
    "collapsed": false
   },
   "outputs": [
    {
     "name": "stdout",
     "output_type": "stream",
     "text": [
      "Features sorted by their score:\n",
      "[(0.1449, 'ibt'), (0.13439999999999999, 'humidity'), (0.12529999999999999, 'temp'), (0.1216, 'dpg'), (0.11310000000000001, 'doy'), (0.1052, 'vh'), (0.098400000000000001, 'ibh'), (0.091800000000000007, 'vis'), (0.065299999999999997, 'wind')]\n"
     ]
    }
   ],
   "source": [
    "from sklearn.ensemble import RandomForestClassifier\n",
    "X = o[['vh','wind','humidity','temp','ibh','dpg','ibt','vis','doy']]\n",
    "y = o[['O3']]\n",
    "names = X.columns.values\n",
    "rfc = RandomForestClassifier()\n",
    "rfc.fit(X, y)\n",
    "print(\"Features sorted by their score:\")\n",
    "print(sorted(zip(map(lambda x: round(x, 4), rfc.feature_importances_), names), reverse=True))"
   ]
  },
  {
   "cell_type": "code",
   "execution_count": 170,
   "metadata": {
    "collapsed": false
   },
   "outputs": [
    {
     "name": "stdout",
     "output_type": "stream",
     "text": [
      "Top 5 features of the dataset:\n",
      "[(0.1449, 'ibt'), (0.13439999999999999, 'humidity'), (0.12529999999999999, 'temp'), (0.1216, 'dpg'), (0.11310000000000001, 'doy')]\n"
     ]
    }
   ],
   "source": [
    "print ('Top 5 features of the dataset:')\n",
    "print (sorted(zip(map(lambda x: round(x, 4), rfc.feature_importances_), names), reverse=True)[0:5])"
   ]
  },
  {
   "cell_type": "markdown",
   "metadata": {},
   "source": [
    "## Factor Analysis\n",
    "Study the Factor Analysis tutorial in R here:\n",
    "http://yatani.jp/teaching/doku.php?id=hcistats:fa\n",
    "\n",
    "Then conduct FA on the modified States.XX (statemodx77.csv) data set.  \n",
    "Explain \n",
    "- What FA is in the context of this data set, \n",
    "- What it does\n",
    "- Interpret your results.  \n",
    "- Why is it useful?\t\t"
   ]
  },
  {
   "cell_type": "markdown",
   "metadata": {},
   "source": [
    "Factor analysis is another technique we can use to reduce dimensionality. However, factor analysis makes assumptions and PCA does not. The basic assumption is that there are implicit features responsible for the features of the dataset.\n",
    "\n",
    "Factor Analysis aims to find the explicit features from the sample in an attempt to understand the independent variables as much as the dependent variables.\n",
    "\n",
    "Factor Analysis is a simple linear generative model with Gaussian latent variables.\n",
    "The observations are assumed to be caused by a linear transformation of lower dimensional latent factors and added Gaussian noise.\n",
    "\n",
    "Factor Analysis in the context of this data should be able to select the most important features when it comes to predicting the class of the region.\n",
    "\n",
    "These results are very hard to interpret as the matrix is so large. I imagine this would be easier to determine given a smaller amount of features in the dataset. I can definitely see that there is often a negative relationship between features of the dataset.  \n",
    "\n",
    "I had to engineer the the confusion matrix to show how the data features relate to one another. The relationship is more visible now. "
   ]
  },
  {
   "cell_type": "code",
   "execution_count": 155,
   "metadata": {
    "collapsed": false
   },
   "outputs": [
    {
     "data": {
      "text/html": [
       "<div>\n",
       "<style>\n",
       "    .dataframe thead tr:only-child th {\n",
       "        text-align: right;\n",
       "    }\n",
       "\n",
       "    .dataframe thead th {\n",
       "        text-align: left;\n",
       "    }\n",
       "\n",
       "    .dataframe tbody tr th {\n",
       "        vertical-align: top;\n",
       "    }\n",
       "</style>\n",
       "<table border=\"1\" class=\"dataframe\">\n",
       "  <thead>\n",
       "    <tr style=\"text-align: right;\">\n",
       "      <th></th>\n",
       "      <th></th>\n",
       "      <th>Population</th>\n",
       "      <th>Income</th>\n",
       "      <th>Illiteracy</th>\n",
       "      <th>Life Exp</th>\n",
       "      <th>Murder</th>\n",
       "      <th>HS Grad</th>\n",
       "      <th>Frost</th>\n",
       "      <th>Area</th>\n",
       "      <th>region</th>\n",
       "      <th>SATV</th>\n",
       "      <th>SATM</th>\n",
       "      <th>percent</th>\n",
       "      <th>dollars</th>\n",
       "      <th>pay</th>\n",
       "    </tr>\n",
       "    <tr>\n",
       "      <th></th>\n",
       "      <th>Unnamed: 9</th>\n",
       "      <th></th>\n",
       "      <th></th>\n",
       "      <th></th>\n",
       "      <th></th>\n",
       "      <th></th>\n",
       "      <th></th>\n",
       "      <th></th>\n",
       "      <th></th>\n",
       "      <th></th>\n",
       "      <th></th>\n",
       "      <th></th>\n",
       "      <th></th>\n",
       "      <th></th>\n",
       "      <th></th>\n",
       "    </tr>\n",
       "  </thead>\n",
       "  <tbody>\n",
       "    <tr>\n",
       "      <th>Alabama</th>\n",
       "      <th>AL</th>\n",
       "      <td>3615</td>\n",
       "      <td>3624</td>\n",
       "      <td>2.1</td>\n",
       "      <td>69.05</td>\n",
       "      <td>15.1</td>\n",
       "      <td>41.3</td>\n",
       "      <td>20</td>\n",
       "      <td>50708</td>\n",
       "      <td>0</td>\n",
       "      <td>470</td>\n",
       "      <td>514</td>\n",
       "      <td>8</td>\n",
       "      <td>3.648</td>\n",
       "      <td>27</td>\n",
       "    </tr>\n",
       "    <tr>\n",
       "      <th>Alaska</th>\n",
       "      <th>AK</th>\n",
       "      <td>365</td>\n",
       "      <td>6315</td>\n",
       "      <td>1.5</td>\n",
       "      <td>69.31</td>\n",
       "      <td>11.3</td>\n",
       "      <td>66.7</td>\n",
       "      <td>152</td>\n",
       "      <td>566432</td>\n",
       "      <td>1</td>\n",
       "      <td>438</td>\n",
       "      <td>476</td>\n",
       "      <td>42</td>\n",
       "      <td>7.887</td>\n",
       "      <td>43</td>\n",
       "    </tr>\n",
       "    <tr>\n",
       "      <th>Arizona</th>\n",
       "      <th>AZ</th>\n",
       "      <td>2212</td>\n",
       "      <td>4530</td>\n",
       "      <td>1.8</td>\n",
       "      <td>70.55</td>\n",
       "      <td>7.8</td>\n",
       "      <td>58.1</td>\n",
       "      <td>15</td>\n",
       "      <td>113417</td>\n",
       "      <td>2</td>\n",
       "      <td>445</td>\n",
       "      <td>497</td>\n",
       "      <td>25</td>\n",
       "      <td>4.231</td>\n",
       "      <td>30</td>\n",
       "    </tr>\n",
       "    <tr>\n",
       "      <th>Arkansas</th>\n",
       "      <th>AR</th>\n",
       "      <td>2110</td>\n",
       "      <td>3378</td>\n",
       "      <td>1.9</td>\n",
       "      <td>70.66</td>\n",
       "      <td>10.1</td>\n",
       "      <td>39.9</td>\n",
       "      <td>65</td>\n",
       "      <td>51945</td>\n",
       "      <td>3</td>\n",
       "      <td>470</td>\n",
       "      <td>511</td>\n",
       "      <td>6</td>\n",
       "      <td>3.334</td>\n",
       "      <td>23</td>\n",
       "    </tr>\n",
       "    <tr>\n",
       "      <th>California</th>\n",
       "      <th>CA</th>\n",
       "      <td>21198</td>\n",
       "      <td>5114</td>\n",
       "      <td>1.1</td>\n",
       "      <td>71.71</td>\n",
       "      <td>10.3</td>\n",
       "      <td>62.6</td>\n",
       "      <td>20</td>\n",
       "      <td>156361</td>\n",
       "      <td>1</td>\n",
       "      <td>419</td>\n",
       "      <td>484</td>\n",
       "      <td>45</td>\n",
       "      <td>4.826</td>\n",
       "      <td>39</td>\n",
       "    </tr>\n",
       "  </tbody>\n",
       "</table>\n",
       "</div>"
      ],
      "text/plain": [
       "                       Population  Income  Illiteracy  Life Exp  Murder  \\\n",
       "           Unnamed: 9                                                     \n",
       "Alabama    AL                3615    3624         2.1     69.05    15.1   \n",
       "Alaska     AK                 365    6315         1.5     69.31    11.3   \n",
       "Arizona    AZ                2212    4530         1.8     70.55     7.8   \n",
       "Arkansas   AR                2110    3378         1.9     70.66    10.1   \n",
       "California CA               21198    5114         1.1     71.71    10.3   \n",
       "\n",
       "                       HS Grad  Frost    Area region  SATV  SATM  percent  \\\n",
       "           Unnamed: 9                                                       \n",
       "Alabama    AL             41.3     20   50708      0   470   514        8   \n",
       "Alaska     AK             66.7    152  566432      1   438   476       42   \n",
       "Arizona    AZ             58.1     15  113417      2   445   497       25   \n",
       "Arkansas   AR             39.9     65   51945      3   470   511        6   \n",
       "California CA             62.6     20  156361      1   419   484       45   \n",
       "\n",
       "                       dollars  pay  \n",
       "           Unnamed: 9                \n",
       "Alabama    AL            3.648   27  \n",
       "Alaska     AK            7.887   43  \n",
       "Arizona    AZ            4.231   30  \n",
       "Arkansas   AR            3.334   23  \n",
       "California CA            4.826   39  "
      ]
     },
     "execution_count": 155,
     "metadata": {},
     "output_type": "execute_result"
    }
   ],
   "source": [
    "s = pd.read_csv('statemodx77.csv', index_col=['Unnamed: 0', 'Unnamed: 9'])\n",
    "s['region'] = pd.factorize(s.region)[0]\n",
    "s['region'] = s['region'].astype('category')\n",
    "s.head()"
   ]
  },
  {
   "cell_type": "code",
   "execution_count": 156,
   "metadata": {
    "collapsed": false
   },
   "outputs": [],
   "source": [
    "from sklearn.datasets import load_iris\n",
    "from sklearn.decomposition import FactorAnalysis\n",
    "cols = [col for col in s.columns if col != 'region']\n",
    "X = s[cols]\n",
    "y = s[['region']]"
   ]
  },
  {
   "cell_type": "code",
   "execution_count": 175,
   "metadata": {
    "collapsed": false
   },
   "outputs": [
    {
     "name": "stdout",
     "output_type": "stream",
     "text": [
      "[[ 1.08783785 -0.13157478 -0.10129511 -0.04594657 -0.15914628  0.04608012\n",
      "   0.17810589  0.02439528  0.03910466 -0.03847752 -0.00516153 -0.09469535\n",
      "  -0.25705638]\n",
      " [-0.13157478  1.73601349  0.20191579 -0.13613516 -0.00509862 -0.40748486\n",
      "  -0.05873311 -0.2672419   0.03459432 -0.06584831 -0.065856   -0.31296511\n",
      "  -0.53216526]\n",
      " [-0.10129511  0.20191579  1.82235387  0.27647192 -0.47601639  0.31714331\n",
      "   0.30244013 -0.04088292  0.12856222  0.14665232  0.06486861  0.12459329\n",
      "   0.05504567]\n",
      " [-0.04594657 -0.13613516  0.27647192  1.42516149  0.43481682 -0.26267693\n",
      "   0.05691504  0.1263527  -0.10844444 -0.19594496 -0.03918191  0.03001806\n",
      "  -0.01555895]\n",
      " [-0.15914628 -0.00509862 -0.47601639  0.43481682  1.67466334  0.19462832\n",
      "   0.23056731 -0.25180441  0.09604756  0.10361669  0.20425899  0.09339223\n",
      "  -0.09312618]\n",
      " [ 0.04608012 -0.40748486  0.31714331 -0.26267693  0.19462832  1.53155849\n",
      "  -0.06900818 -0.23574529 -0.0095661  -0.07702263  0.0064356   0.01458997\n",
      "  -0.11701358]\n",
      " [ 0.17810589 -0.05873311  0.30244013  0.05691504  0.23056731 -0.06900818\n",
      "   1.21835579 -0.01631269 -0.16187013 -0.0958103   0.01187082 -0.17760084\n",
      "  -0.01383361]\n",
      " [ 0.02439528 -0.2672419  -0.04088292  0.1263527  -0.25180441 -0.23574529\n",
      "  -0.01631269  1.03395992 -0.03234689 -0.03791966  0.167917    0.03170279\n",
      "  -0.0993093 ]\n",
      " [ 0.03910466  0.03459432  0.12856222 -0.10844444  0.09604756 -0.0095661\n",
      "  -0.16187013 -0.03234689  2.13999272 -0.75526481  0.68984636  0.17460076\n",
      "   0.2158265 ]\n",
      " [-0.03847752 -0.06584831  0.14665232 -0.19594496  0.10361669 -0.07702263\n",
      "  -0.0958103  -0.03791966 -0.75526481  2.00672874  0.66033159  0.14425285\n",
      "   0.1124432 ]\n",
      " [-0.00516153 -0.065856    0.06486861 -0.03918191  0.20425899  0.0064356\n",
      "   0.01187082  0.167917    0.68984636  0.66033159  2.11087931 -0.35389794\n",
      "  -0.29803334]\n",
      " [-0.09469535 -0.31296511  0.12459329  0.03001806  0.09339223  0.01458997\n",
      "  -0.17760084  0.03170279  0.17460076  0.14425285 -0.35389794  1.76540272\n",
      "  -0.558643  ]\n",
      " [-0.25705638 -0.53216526  0.05504567 -0.01555895 -0.09312618 -0.11701358\n",
      "  -0.01383361 -0.0993093   0.2158265   0.1124432  -0.29803334 -0.558643\n",
      "   1.94137854]]\n",
      "---------------------\n",
      "-6226600086.646065\n"
     ]
    }
   ],
   "source": [
    "from sklearn import decomposition, preprocessing\n",
    "\n",
    "data_normal = preprocessing.scale(X) \n",
    "fa = decomposition.FactorAnalysis()\n",
    "fa.fit(data_normal)\n",
    "print (fa.get_precision())\n",
    "print (\"---------------------\")\n",
    "print (fa.score(X))"
   ]
  },
  {
   "cell_type": "code",
   "execution_count": 184,
   "metadata": {
    "collapsed": false
   },
   "outputs": [],
   "source": [
    "cf = pd.DataFrame(fa.get_precision()) \n",
    "cf.columns = X.columns\n",
    "cf['indx'] = X.columns\n",
    "cf = cf.set_index('indx')"
   ]
  },
  {
   "cell_type": "code",
   "execution_count": 185,
   "metadata": {
    "collapsed": false
   },
   "outputs": [
    {
     "data": {
      "text/html": [
       "<div>\n",
       "<style>\n",
       "    .dataframe thead tr:only-child th {\n",
       "        text-align: right;\n",
       "    }\n",
       "\n",
       "    .dataframe thead th {\n",
       "        text-align: left;\n",
       "    }\n",
       "\n",
       "    .dataframe tbody tr th {\n",
       "        vertical-align: top;\n",
       "    }\n",
       "</style>\n",
       "<table border=\"1\" class=\"dataframe\">\n",
       "  <thead>\n",
       "    <tr style=\"text-align: right;\">\n",
       "      <th></th>\n",
       "      <th>Population</th>\n",
       "      <th>Income</th>\n",
       "      <th>Illiteracy</th>\n",
       "      <th>Life Exp</th>\n",
       "      <th>Murder</th>\n",
       "      <th>HS Grad</th>\n",
       "      <th>Frost</th>\n",
       "      <th>Area</th>\n",
       "      <th>SATV</th>\n",
       "      <th>SATM</th>\n",
       "      <th>percent</th>\n",
       "      <th>dollars</th>\n",
       "      <th>pay</th>\n",
       "    </tr>\n",
       "    <tr>\n",
       "      <th>indx</th>\n",
       "      <th></th>\n",
       "      <th></th>\n",
       "      <th></th>\n",
       "      <th></th>\n",
       "      <th></th>\n",
       "      <th></th>\n",
       "      <th></th>\n",
       "      <th></th>\n",
       "      <th></th>\n",
       "      <th></th>\n",
       "      <th></th>\n",
       "      <th></th>\n",
       "      <th></th>\n",
       "    </tr>\n",
       "  </thead>\n",
       "  <tbody>\n",
       "    <tr>\n",
       "      <th>Population</th>\n",
       "      <td>1.087838</td>\n",
       "      <td>-0.131575</td>\n",
       "      <td>-0.101295</td>\n",
       "      <td>-0.045947</td>\n",
       "      <td>-0.159146</td>\n",
       "      <td>0.046080</td>\n",
       "      <td>0.178106</td>\n",
       "      <td>0.024395</td>\n",
       "      <td>0.039105</td>\n",
       "      <td>-0.038478</td>\n",
       "      <td>-0.005162</td>\n",
       "      <td>-0.094695</td>\n",
       "      <td>-0.257056</td>\n",
       "    </tr>\n",
       "    <tr>\n",
       "      <th>Income</th>\n",
       "      <td>-0.131575</td>\n",
       "      <td>1.736013</td>\n",
       "      <td>0.201916</td>\n",
       "      <td>-0.136135</td>\n",
       "      <td>-0.005099</td>\n",
       "      <td>-0.407485</td>\n",
       "      <td>-0.058733</td>\n",
       "      <td>-0.267242</td>\n",
       "      <td>0.034594</td>\n",
       "      <td>-0.065848</td>\n",
       "      <td>-0.065856</td>\n",
       "      <td>-0.312965</td>\n",
       "      <td>-0.532165</td>\n",
       "    </tr>\n",
       "    <tr>\n",
       "      <th>Illiteracy</th>\n",
       "      <td>-0.101295</td>\n",
       "      <td>0.201916</td>\n",
       "      <td>1.822354</td>\n",
       "      <td>0.276472</td>\n",
       "      <td>-0.476016</td>\n",
       "      <td>0.317143</td>\n",
       "      <td>0.302440</td>\n",
       "      <td>-0.040883</td>\n",
       "      <td>0.128562</td>\n",
       "      <td>0.146652</td>\n",
       "      <td>0.064869</td>\n",
       "      <td>0.124593</td>\n",
       "      <td>0.055046</td>\n",
       "    </tr>\n",
       "    <tr>\n",
       "      <th>Life Exp</th>\n",
       "      <td>-0.045947</td>\n",
       "      <td>-0.136135</td>\n",
       "      <td>0.276472</td>\n",
       "      <td>1.425161</td>\n",
       "      <td>0.434817</td>\n",
       "      <td>-0.262677</td>\n",
       "      <td>0.056915</td>\n",
       "      <td>0.126353</td>\n",
       "      <td>-0.108444</td>\n",
       "      <td>-0.195945</td>\n",
       "      <td>-0.039182</td>\n",
       "      <td>0.030018</td>\n",
       "      <td>-0.015559</td>\n",
       "    </tr>\n",
       "    <tr>\n",
       "      <th>Murder</th>\n",
       "      <td>-0.159146</td>\n",
       "      <td>-0.005099</td>\n",
       "      <td>-0.476016</td>\n",
       "      <td>0.434817</td>\n",
       "      <td>1.674663</td>\n",
       "      <td>0.194628</td>\n",
       "      <td>0.230567</td>\n",
       "      <td>-0.251804</td>\n",
       "      <td>0.096048</td>\n",
       "      <td>0.103617</td>\n",
       "      <td>0.204259</td>\n",
       "      <td>0.093392</td>\n",
       "      <td>-0.093126</td>\n",
       "    </tr>\n",
       "    <tr>\n",
       "      <th>HS Grad</th>\n",
       "      <td>0.046080</td>\n",
       "      <td>-0.407485</td>\n",
       "      <td>0.317143</td>\n",
       "      <td>-0.262677</td>\n",
       "      <td>0.194628</td>\n",
       "      <td>1.531558</td>\n",
       "      <td>-0.069008</td>\n",
       "      <td>-0.235745</td>\n",
       "      <td>-0.009566</td>\n",
       "      <td>-0.077023</td>\n",
       "      <td>0.006436</td>\n",
       "      <td>0.014590</td>\n",
       "      <td>-0.117014</td>\n",
       "    </tr>\n",
       "    <tr>\n",
       "      <th>Frost</th>\n",
       "      <td>0.178106</td>\n",
       "      <td>-0.058733</td>\n",
       "      <td>0.302440</td>\n",
       "      <td>0.056915</td>\n",
       "      <td>0.230567</td>\n",
       "      <td>-0.069008</td>\n",
       "      <td>1.218356</td>\n",
       "      <td>-0.016313</td>\n",
       "      <td>-0.161870</td>\n",
       "      <td>-0.095810</td>\n",
       "      <td>0.011871</td>\n",
       "      <td>-0.177601</td>\n",
       "      <td>-0.013834</td>\n",
       "    </tr>\n",
       "    <tr>\n",
       "      <th>Area</th>\n",
       "      <td>0.024395</td>\n",
       "      <td>-0.267242</td>\n",
       "      <td>-0.040883</td>\n",
       "      <td>0.126353</td>\n",
       "      <td>-0.251804</td>\n",
       "      <td>-0.235745</td>\n",
       "      <td>-0.016313</td>\n",
       "      <td>1.033960</td>\n",
       "      <td>-0.032347</td>\n",
       "      <td>-0.037920</td>\n",
       "      <td>0.167917</td>\n",
       "      <td>0.031703</td>\n",
       "      <td>-0.099309</td>\n",
       "    </tr>\n",
       "    <tr>\n",
       "      <th>SATV</th>\n",
       "      <td>0.039105</td>\n",
       "      <td>0.034594</td>\n",
       "      <td>0.128562</td>\n",
       "      <td>-0.108444</td>\n",
       "      <td>0.096048</td>\n",
       "      <td>-0.009566</td>\n",
       "      <td>-0.161870</td>\n",
       "      <td>-0.032347</td>\n",
       "      <td>2.139993</td>\n",
       "      <td>-0.755265</td>\n",
       "      <td>0.689846</td>\n",
       "      <td>0.174601</td>\n",
       "      <td>0.215827</td>\n",
       "    </tr>\n",
       "    <tr>\n",
       "      <th>SATM</th>\n",
       "      <td>-0.038478</td>\n",
       "      <td>-0.065848</td>\n",
       "      <td>0.146652</td>\n",
       "      <td>-0.195945</td>\n",
       "      <td>0.103617</td>\n",
       "      <td>-0.077023</td>\n",
       "      <td>-0.095810</td>\n",
       "      <td>-0.037920</td>\n",
       "      <td>-0.755265</td>\n",
       "      <td>2.006729</td>\n",
       "      <td>0.660332</td>\n",
       "      <td>0.144253</td>\n",
       "      <td>0.112443</td>\n",
       "    </tr>\n",
       "    <tr>\n",
       "      <th>percent</th>\n",
       "      <td>-0.005162</td>\n",
       "      <td>-0.065856</td>\n",
       "      <td>0.064869</td>\n",
       "      <td>-0.039182</td>\n",
       "      <td>0.204259</td>\n",
       "      <td>0.006436</td>\n",
       "      <td>0.011871</td>\n",
       "      <td>0.167917</td>\n",
       "      <td>0.689846</td>\n",
       "      <td>0.660332</td>\n",
       "      <td>2.110879</td>\n",
       "      <td>-0.353898</td>\n",
       "      <td>-0.298033</td>\n",
       "    </tr>\n",
       "    <tr>\n",
       "      <th>dollars</th>\n",
       "      <td>-0.094695</td>\n",
       "      <td>-0.312965</td>\n",
       "      <td>0.124593</td>\n",
       "      <td>0.030018</td>\n",
       "      <td>0.093392</td>\n",
       "      <td>0.014590</td>\n",
       "      <td>-0.177601</td>\n",
       "      <td>0.031703</td>\n",
       "      <td>0.174601</td>\n",
       "      <td>0.144253</td>\n",
       "      <td>-0.353898</td>\n",
       "      <td>1.765403</td>\n",
       "      <td>-0.558643</td>\n",
       "    </tr>\n",
       "    <tr>\n",
       "      <th>pay</th>\n",
       "      <td>-0.257056</td>\n",
       "      <td>-0.532165</td>\n",
       "      <td>0.055046</td>\n",
       "      <td>-0.015559</td>\n",
       "      <td>-0.093126</td>\n",
       "      <td>-0.117014</td>\n",
       "      <td>-0.013834</td>\n",
       "      <td>-0.099309</td>\n",
       "      <td>0.215827</td>\n",
       "      <td>0.112443</td>\n",
       "      <td>-0.298033</td>\n",
       "      <td>-0.558643</td>\n",
       "      <td>1.941379</td>\n",
       "    </tr>\n",
       "  </tbody>\n",
       "</table>\n",
       "</div>"
      ],
      "text/plain": [
       "            Population    Income  Illiteracy  Life Exp    Murder   HS Grad  \\\n",
       "indx                                                                         \n",
       "Population    1.087838 -0.131575   -0.101295 -0.045947 -0.159146  0.046080   \n",
       "Income       -0.131575  1.736013    0.201916 -0.136135 -0.005099 -0.407485   \n",
       "Illiteracy   -0.101295  0.201916    1.822354  0.276472 -0.476016  0.317143   \n",
       "Life Exp     -0.045947 -0.136135    0.276472  1.425161  0.434817 -0.262677   \n",
       "Murder       -0.159146 -0.005099   -0.476016  0.434817  1.674663  0.194628   \n",
       "HS Grad       0.046080 -0.407485    0.317143 -0.262677  0.194628  1.531558   \n",
       "Frost         0.178106 -0.058733    0.302440  0.056915  0.230567 -0.069008   \n",
       "Area          0.024395 -0.267242   -0.040883  0.126353 -0.251804 -0.235745   \n",
       "SATV          0.039105  0.034594    0.128562 -0.108444  0.096048 -0.009566   \n",
       "SATM         -0.038478 -0.065848    0.146652 -0.195945  0.103617 -0.077023   \n",
       "percent      -0.005162 -0.065856    0.064869 -0.039182  0.204259  0.006436   \n",
       "dollars      -0.094695 -0.312965    0.124593  0.030018  0.093392  0.014590   \n",
       "pay          -0.257056 -0.532165    0.055046 -0.015559 -0.093126 -0.117014   \n",
       "\n",
       "               Frost      Area      SATV      SATM   percent   dollars  \\\n",
       "indx                                                                     \n",
       "Population  0.178106  0.024395  0.039105 -0.038478 -0.005162 -0.094695   \n",
       "Income     -0.058733 -0.267242  0.034594 -0.065848 -0.065856 -0.312965   \n",
       "Illiteracy  0.302440 -0.040883  0.128562  0.146652  0.064869  0.124593   \n",
       "Life Exp    0.056915  0.126353 -0.108444 -0.195945 -0.039182  0.030018   \n",
       "Murder      0.230567 -0.251804  0.096048  0.103617  0.204259  0.093392   \n",
       "HS Grad    -0.069008 -0.235745 -0.009566 -0.077023  0.006436  0.014590   \n",
       "Frost       1.218356 -0.016313 -0.161870 -0.095810  0.011871 -0.177601   \n",
       "Area       -0.016313  1.033960 -0.032347 -0.037920  0.167917  0.031703   \n",
       "SATV       -0.161870 -0.032347  2.139993 -0.755265  0.689846  0.174601   \n",
       "SATM       -0.095810 -0.037920 -0.755265  2.006729  0.660332  0.144253   \n",
       "percent     0.011871  0.167917  0.689846  0.660332  2.110879 -0.353898   \n",
       "dollars    -0.177601  0.031703  0.174601  0.144253 -0.353898  1.765403   \n",
       "pay        -0.013834 -0.099309  0.215827  0.112443 -0.298033 -0.558643   \n",
       "\n",
       "                 pay  \n",
       "indx                  \n",
       "Population -0.257056  \n",
       "Income     -0.532165  \n",
       "Illiteracy  0.055046  \n",
       "Life Exp   -0.015559  \n",
       "Murder     -0.093126  \n",
       "HS Grad    -0.117014  \n",
       "Frost      -0.013834  \n",
       "Area       -0.099309  \n",
       "SATV        0.215827  \n",
       "SATM        0.112443  \n",
       "percent    -0.298033  \n",
       "dollars    -0.558643  \n",
       "pay         1.941379  "
      ]
     },
     "execution_count": 185,
     "metadata": {},
     "output_type": "execute_result"
    }
   ],
   "source": [
    "cf"
   ]
  },
  {
   "cell_type": "code",
   "execution_count": 186,
   "metadata": {
    "collapsed": false
   },
   "outputs": [
    {
     "data": {
      "text/plain": [
       "<matplotlib.image.AxesImage at 0x116381f98>"
      ]
     },
     "execution_count": 186,
     "metadata": {},
     "output_type": "execute_result"
    },
    {
     "data": {
      "image/png": "[encoded data removed]",
      "text/plain": [
       "<matplotlib.figure.Figure at 0x1163761d0>"
      ]
     },
     "metadata": {},
     "output_type": "display_data"
    }
   ],
   "source": [
    "plt.imshow(cf, cmap='Blues')"
   ]
  },
  {
   "cell_type": "markdown",
   "metadata": {},
   "source": [
    "## Principal Components Analysis\n",
    "Conduct PCA on the modified States.XX data set.  \n",
    "Explain \n",
    "- What PCA is in the context of this data set, \n",
    "- What it does: A principal component is a normalized linear combination of the original predictors in a data set.\n",
    "- Interpret your results.  \n",
    "- Why is it useful?\t\t\t"
   ]
  },
  {
   "cell_type": "markdown",
   "metadata": {},
   "source": [
    "PCA is used to overcome features redundancy in a data set.\n",
    "These features are low dimensional in nature.\n",
    "These features a.k.a components are a resultant of normalized linear combination of original predictor variables.\n",
    "These components aim to capture as much information as possible with high explained variance.\n",
    "The first component has the highest variance followed by second, third and so on.\n",
    "Normalizing data becomes extremely important when the predictors are measured in different units.\n",
    "PCA works best on data set having 3 or higher dimensions. Because, with higher dimensions, it becomes increasingly difficult to make interpretations from the resultant cloud of data.\n",
    "PCA is applied on a data set with numeric variables.\n",
    "PCA is a tool which helps to produce better visualizations of high dimensional data.\n",
    "\n",
    "The plot below shows that ~ 3 components explains around 80% variance in the data set. In order words, using PCA we have reduced 13 predictors to 3 without compromising on explained variance. \n"
   ]
  },
  {
   "cell_type": "code",
   "execution_count": 158,
   "metadata": {
    "collapsed": false
   },
   "outputs": [
    {
     "data": {
      "text/plain": [
       "14"
      ]
     },
     "execution_count": 158,
     "metadata": {},
     "output_type": "execute_result"
    }
   ],
   "source": [
    "len(s.columns)"
   ]
  },
  {
   "cell_type": "code",
   "execution_count": 160,
   "metadata": {
    "collapsed": false
   },
   "outputs": [
    {
     "data": {
      "image/png": "[encoded data removed]",
      "text/plain": [
       "<matplotlib.figure.Figure at 0x11b9e4588>"
      ]
     },
     "metadata": {},
     "output_type": "display_data"
    }
   ],
   "source": [
    "import prince\n",
    "\n",
    "pca = prince.PCA(s, n_components=14)\n",
    "\n",
    "fig1, ax1 = pca.plot_cumulative_inertia()\n",
    "\n",
    "plt.show()"
   ]
  },
  {
   "cell_type": "markdown",
   "metadata": {},
   "source": [
    "## Linear Discriminants Analysis\n",
    "\n",
    "Then conduct LDA on the modified States.XX data set.  \n",
    "Explain \n",
    "- What LDA is in the context of this data set, \n",
    "- What it does\n",
    "- Interpret your results.  \n",
    "- Why is it useful?\t\t"
   ]
  },
  {
   "cell_type": "markdown",
   "metadata": {},
   "source": [
    "Linear Discriminant Analysis (LDA) is most commonly used as dimensionality reduction technique in the pre-processing step for pattern-classification and machine learning applications. The goal is to project a dataset onto a lower-dimensional space with good class-separability in order avoid overfitting (“curse of dimensionality”) and also reduce computational costs.\n",
    "\n",
    "LDA is closely related to analysis of variance (ANOVA) and regression analysis, which also attempt to express one dependent variable as a linear combination of other features or measurements. However, ANOVA uses categorical independent variables and a continuous dependent variable, whereas discriminant analysis has continuous independent variables and a categorical dependent variable (i.e. the class label)\n",
    "\n",
    "The below plot shows the predictors labeled with the color of the region label (1 - 38). "
   ]
  },
  {
   "cell_type": "code",
   "execution_count": 168,
   "metadata": {
    "collapsed": false
   },
   "outputs": [
    {
     "data": {
      "text/plain": [
       "<matplotlib.collections.PathCollection at 0x11bf8ff60>"
      ]
     },
     "execution_count": 168,
     "metadata": {},
     "output_type": "execute_result"
    },
    {
     "data": {
      "image/png": "[encoded data removed]",
      "text/plain": [
       "<matplotlib.figure.Figure at 0x11a3686d8>"
      ]
     },
     "metadata": {},
     "output_type": "display_data"
    }
   ],
   "source": [
    "from sklearn.discriminant_analysis import LinearDiscriminantAnalysis as LDA\n",
    "lda = LDA()\n",
    "X_lda = lda.fit(X, y).transform(X)\n",
    "plt.figure(figsize = (20,8))\n",
    "plt.legend(y)\n",
    "plt.scatter(X_lda[:, 0], X_lda[:, 1], c=y, s=200)"
   ]
  },
  {
   "cell_type": "code",
   "execution_count": 187,
   "metadata": {
    "collapsed": false
   },
   "outputs": [
    {
     "data": {
      "text/plain": [
       "{'n_components': None,\n",
       " 'priors': None,\n",
       " 'shrinkage': None,\n",
       " 'solver': 'svd',\n",
       " 'store_covariance': False,\n",
       " 'tol': 0.0001}"
      ]
     },
     "execution_count": 187,
     "metadata": {},
     "output_type": "execute_result"
    }
   ],
   "source": [
    "lda.get_params()"
   ]
  }
 ],
 "metadata": {
  "anaconda-cloud": {},
  "kernelspec": {
   "display_name": "Python [conda env:python35]",
   "language": "python",
   "name": "conda-env-python35-py"
  },
  "language_info": {
   "codemirror_mode": {
    "name": "ipython",
    "version": 3
   },
   "file_extension": ".py",
   "mimetype": "text/x-python",
   "name": "python",
   "nbconvert_exporter": "python",
   "pygments_lexer": "ipython3",
   "version": "3.5.2"
  }
 },
 "nbformat": 4,
 "nbformat_minor": 1
}
